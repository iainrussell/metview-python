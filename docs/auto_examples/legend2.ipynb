{
  "cells": [
    {
      "cell_type": "code",
      "execution_count": null,
      "metadata": {
        "collapsed": false
      },
      "outputs": [],
      "source": [
        "%matplotlib inline"
      ]
    },
    {
      "cell_type": "markdown",
      "metadata": {},
      "source": [
        "\nDisjoint Legend\n==============================================\n"
      ]
    },
    {
      "cell_type": "code",
      "execution_count": null,
      "metadata": {
        "collapsed": false
      },
      "outputs": [],
      "source": [
        "# (C) Copyright 2017- ECMWF.\n#\n# This software is licensed under the terms of the Apache Licence Version 2.0\n# which can be obtained at http://www.apache.org/licenses/LICENSE-2.0.\n#\n# In applying this licence, ECMWF does not waive the privileges and immunities\n# granted to it by virtue of its status as an intergovernmental organisation\n# nor does it submit to any jurisdiction.\n#\n\n# ------------------------------------------------------------------\n# Description: Demonstrates how to show a disjoint legend with labels\n#              for each level value.\n# ------------------------------------------------------------------\n\nimport metview as mv\n\n# read the input grib file (temperature)\nmy_data = mv.read(\"./t850.grb\")\n\n# set up the geographical view\nmy_view = mv.geoview(\n    map_area_definition=\"CORNERS\",\n    map_projection=\"POLAR_STEREOGRAPHIC\",\n    area=[21.51, -37.27, 51.28, 65.00],\n)\n\n# set up a shade contour with legend for the field\nmy_contour = mv.mcont(\n    contour_level_selection_type=\"LEVEL_LIST\",\n    contour_level_list=[-48.0, -10.0, 0.0, 10.0, 20.0, 48.0],\n    contour_hilo=\"OFF\",\n    contour_label=\"OFF\",\n    contour=\"OFF\",\n    legend=\"ON\",\n    contour_shade=\"ON\",\n    contour_shade_colour_method=\"LIST\",\n    contour_shade_method=\"AREA_FILL\",\n    contour_shade_max_level=48.00,\n    contour_shade_min_level=-48.00,\n    contour_shade_colour_list=[\n        \"blue_purple\",\n        \" greenish_blue\",\n        \" blue_green\",\n        \" yellow_green\",\n        \" yellow\",\n        \" orange\",\n    ],\n)\n\n# set up an disjoint legend for the field\nmy_legend = mv.mlegend(\n    legend_display_type=\"DISJOINT\",\n    legend_text_composition=\"USER_TEXT_ONLY\",\n    legend_title=\"ON\",\n    legend_user_lines=[\"extremely cold\", \" very cold\", \" cold\", \" temperate\", \" hot\"],\n    legend_text_font_size=0.4,\n    legend_text_colour=\"BLACK\",\n    legend_entry_text_width=80.00,\n    legend_title_text=\"Temperature at 850 hPa\",\n)\n\n# set up the coastlines\nmy_coast = mv.mcoast(map_coastline_resolution=\"HIGH\")\n\n# set up the title\nmy_title = mv.mtext(\n    text_font_size=0.6,\n    text_lines=[\"Disjoint legend with user defined labels\", \" \"],\n    text_justification=\"LEFT\",\n    text_colour=\"CHARCOAL\",\n)\n\n# define the output plot file\nmv.setoutput(mv.pdf_output(output_name=\"legend2\"))\n\n# plot the cartesian graph\nmv.plot(my_view, my_data, my_contour, my_coast, my_title, my_legend)"
      ]
    }
  ],
  "metadata": {
    "kernelspec": {
      "display_name": "Python 3",
      "language": "python",
      "name": "python3"
    },
    "language_info": {
      "codemirror_mode": {
        "name": "ipython",
        "version": 3
      },
      "file_extension": ".py",
      "mimetype": "text/x-python",
      "name": "python",
      "nbconvert_exporter": "python",
      "pygments_lexer": "ipython3",
      "version": "3.8.5"
    }
  },
  "nbformat": 4,
  "nbformat_minor": 0
}