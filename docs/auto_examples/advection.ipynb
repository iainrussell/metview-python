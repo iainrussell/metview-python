{
  "cells": [
    {
      "cell_type": "code",
      "execution_count": null,
      "metadata": {
        "collapsed": false
      },
      "outputs": [],
      "source": [
        "%matplotlib inline"
      ]
    },
    {
      "cell_type": "markdown",
      "metadata": {},
      "source": [
        "\nHumidity advection\n===================\n"
      ]
    },
    {
      "cell_type": "code",
      "execution_count": null,
      "metadata": {
        "collapsed": false
      },
      "outputs": [],
      "source": [
        "# (C) Copyright 2017- ECMWF.\n#\n# This software is licensed under the terms of the Apache Licence Version 2.0\n# which can be obtained at http://www.apache.org/licenses/LICENSE-2.0.\n#\n# In applying this licence, ECMWF does not waive the privileges and immunities\n# granted to it by virtue of its status as an intergovernmental organisation\n# nor does it submit to any jurisdiction.\n#\n\nimport metview as mv\n\n# read grib - contains fields on 850 hPa\nf = mv.read(\"advection_850.grib\")\n\n# extract fields\nq = mv.read(data=f, param=\"q\")\nu = mv.read(data=f, param=\"u\")\nv = mv.read(data=f, param=\"v\")\nz = mv.read(data=f, param=\"z\")\n\n# compute specific humidity gradient\ngrad = mv.gradient(q[0])\n\n# compute advection\nadv = u[0] * grad[0] + v[0] * grad[1]\n\n# scale results for better visualisation\nadv = adv * 1e6\n\n# define contour shading for advection\nadv_cont = mv.mcont(\n    legend=\"on\",\n    contour=\"off\",\n    contour_level_count=21,\n    contour_label=\"off\",\n    contour_max_level=1,\n    contour_min_level=-1,\n    contour_shade=\"on\",\n    contour_shade_colour_method=\"palette\",\n    contour_shade_method=\"area_fill\",\n    contour_shade_palette_name=\"eccharts_black_red_21\",\n)\n\n# define contouring for geopotential\nz_cont = mv.mcont(\n    contour_line_colour=\"black\",\n    contour_highlight_colour=\"black\",\n    contour_level_selection_type=\"interval\",\n    contour_interval=5,\n)\n\n# define map view\nview = mv.geoview(map_area_definition=\"corners\", area=[32, -30, 62, 10])\n\n# define title\ntitle = mv.mtext(\n    text_lines=[\"Geopotential 850 hPa\", \"Specific humidity advection 850 hPa\"]\n)\n\n# define the output plot file\nmv.setoutput(mv.pdf_output(output_name=\"advection\"))\n\n# generate plot\nmv.plot(view, adv, adv_cont, z[0], z_cont, title)"
      ]
    }
  ],
  "metadata": {
    "kernelspec": {
      "display_name": "Python 3",
      "language": "python",
      "name": "python3"
    },
    "language_info": {
      "codemirror_mode": {
        "name": "ipython",
        "version": 3
      },
      "file_extension": ".py",
      "mimetype": "text/x-python",
      "name": "python",
      "nbconvert_exporter": "python",
      "pygments_lexer": "ipython3",
      "version": "3.8.5"
    }
  },
  "nbformat": 4,
  "nbformat_minor": 0
}