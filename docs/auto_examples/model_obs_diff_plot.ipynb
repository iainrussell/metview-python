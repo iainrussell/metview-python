{
  "cells": [
    {
      "cell_type": "code",
      "execution_count": null,
      "metadata": {
        "collapsed": false
      },
      "outputs": [],
      "source": [
        "%matplotlib inline"
      ]
    },
    {
      "cell_type": "markdown",
      "metadata": {},
      "source": [
        "\nModel-Obs Difference\n==============================================\n"
      ]
    },
    {
      "cell_type": "code",
      "execution_count": null,
      "metadata": {
        "collapsed": false
      },
      "outputs": [],
      "source": [
        "# (C) Copyright 2017- ECMWF.\n#\n# This software is licensed under the terms of the Apache Licence Version 2.0\n# which can be obtained at http://www.apache.org/licenses/LICENSE-2.0.\n#\n# In applying this licence, ECMWF does not waive the privileges and immunities\n# granted to it by virtue of its status as an intergovernmental organisation\n# nor does it submit to any jurisdiction.\n#\n\nimport metview as mv\nimport numpy as np\n\nuse_mars = False\nif use_mars:\n    # retrieve model data for 2m temperature (GRIB)\n    t2m_fc48 = mv.retrieve(\n        type=\"fc\", levtype=\"sfc\", param=\"2t\", date=-5, step=48, grid=\"o1280\"\n    )\n\n    # retrieve obs data (BUFR)\n    synop = mv.retrieve(type=\"ob\", repres=\"bu\", date=-3)\nelse:\n    t2m_fc48 = mv.read(\"t2m_fc48.grib\")\n    synop = mv.read(\"t2m_obs.bufr\")\n\n\n# filter just the 2m temperature from the obs data (Geopoints)\nsynop_t2m = mv.obsfilter(output=\"geopoints\", parameter=\"012004\", data=synop)\n\n# compute the difference\ndiff = t2m_fc48 - synop_t2m\n\n# define the graphical symbol plotting style\nmax_diff = mv.maxvalue(mv.abs(diff))\n\ndiff_symb = mv.msymb(\n    legend=\"on\",\n    symbol_type=\"marker\",\n    symbol_table_mode=\"advanced\",\n    symbol_outline=\"on\",\n    symbol_outline_colour=\"charcoal\",\n    symbol_advanced_table_selection_type=\"list\",\n    symbol_advanced_table_level_list=[-max_diff, -10, -5, -1, 0, 1, 5, 10, max_diff],\n    symbol_advanced_table_colour_method=\"list\",\n    symbol_advanced_table_colour_list=[\n        \"blue\",\n        \"sky\",\n        \"rgb(0.82,0.85,1)\",\n        \"white\",\n        \"white\",\n        \"rgb(0.9,0.8,0.8)\",\n        \"rgb(0.9,0.45,0.45)\",\n        \"red\",\n    ],\n    symbol_advanced_table_height_list=[0.6, 0.5, 0.4, 0.3, 0.3, 0.4, 0.5, 0.6],\n)\n\n# shaded land and sea to make the points stand out more\ngrey_land_sea_shading = mv.mcoast(\n    map_coastline_land_shade=\"on\",\n    map_coastline_land_shade_colour=\"RGB(0.89,0.89,0.89)\",\n    map_coastline_sea_shade=\"on\",\n    map_coastline_sea_shade_colour=\"grey\",\n    map_grid_latitude_increment=20,\n    map_grid_longitude_increment=40,\n    map_grid_colour=\"charcoal\",\n)\n\n# use numpy to give us some statistics to put in the title\n# - we could also have done this with Metview functions\nvals = mv.values(diff)\ntitle = mv.mtext(\n    text_line_1=\"Min = \"\n    + format(np.amin(vals), \".2f\")\n    + \" Mean = \"\n    + format(np.mean(vals), \".2f\")\n    + \" Max = \"\n    + format(np.amax(vals), \".2f\"),\n    text_font_size=0.4,\n)\n\n# adjust the legend\nlegend = mv.mlegend(legend_text_font_size=0.35)\n\n# set the view area\nview = mv.geoview(\n    map_area_definition=\"corners\",\n    area=[30, -28, 75, 48],\n    coastlines=grey_land_sea_shading,\n)\n\n# define the output plot file\nmv.setoutput(mv.pdf_output(output_name=\"model_obs_diff_plot\"))\n\n# plot the data with the style\nmv.plot(view, diff, diff_symb, title, legend)"
      ]
    }
  ],
  "metadata": {
    "kernelspec": {
      "display_name": "Python 3",
      "language": "python",
      "name": "python3"
    },
    "language_info": {
      "codemirror_mode": {
        "name": "ipython",
        "version": 3
      },
      "file_extension": ".py",
      "mimetype": "text/x-python",
      "name": "python",
      "nbconvert_exporter": "python",
      "pygments_lexer": "ipython3",
      "version": "3.8.5"
    }
  },
  "nbformat": 4,
  "nbformat_minor": 0
}