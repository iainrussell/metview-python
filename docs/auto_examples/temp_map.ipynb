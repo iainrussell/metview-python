{
  "cells": [
    {
      "cell_type": "code",
      "execution_count": null,
      "metadata": {
        "collapsed": false
      },
      "outputs": [],
      "source": [
        "%matplotlib inline"
      ]
    },
    {
      "cell_type": "markdown",
      "metadata": {},
      "source": [
        "\nBUFR Temp Map\n==============================================\n"
      ]
    },
    {
      "cell_type": "code",
      "execution_count": null,
      "metadata": {
        "collapsed": false
      },
      "outputs": [],
      "source": [
        "# (C) Copyright 2017- ECMWF.\n#\n# This software is licensed under the terms of the Apache Licence Version 2.0\n# which can be obtained at http://www.apache.org/licenses/LICENSE-2.0.\n#\n# In applying this licence, ECMWF does not waive the privileges and immunities\n# granted to it by virtue of its status as an intergovernmental organisation\n# nor does it submit to any jurisdiction.\n#\n\nimport metview as mv\n\n# read TEMP bufr file\nbd = mv.read(\"temp.bufr\")\n\n# define observation plotting - selecting level 250 hPa\nobsp = mv.mobs(\n    obs_distance_apart=1,\n    obs_level=250,\n    obs_size=0.35,\n    obs_ring_size=0.4,\n    obs_station_ring=\"off\",\n)\n\n# define land-sea shading\ncoast = mv.mcoast(\n    map_coastline_land_shade=\"on\",\n    map_coastline_land_shade_colour=\"grey\",\n    map_coastline_sea_shade=\"on\",\n    map_coastline_sea_shade_colour=\"RGB(0.8944,0.9086,0.9330)\",\n    map_grid_colour=\"charcoal\",\n    map_grid_longitude_increment=10,\n)\n\n# define map projection\nview = mv.geoview(\n    map_projection=\"polar_stereographic\",\n    map_area_definition=\"corners\",\n    area=[17.44, -73.61, 43.74, 33.84],\n    map_vertical_longitude=-40,\n    coastlines=coast,\n)\n\n# add title\ntitle = mv.mtext(text_lines=\"TEMP 250 hpa\", text_font_size=0.4)\n\n# define the output plot file\nmv.setoutput(mv.pdf_output(output_name=\"temp_map\"))\n\n# generate plot\nmv.plot(view, bd, obsp, title)"
      ]
    }
  ],
  "metadata": {
    "kernelspec": {
      "display_name": "Python 3",
      "language": "python",
      "name": "python3"
    },
    "language_info": {
      "codemirror_mode": {
        "name": "ipython",
        "version": 3
      },
      "file_extension": ".py",
      "mimetype": "text/x-python",
      "name": "python",
      "nbconvert_exporter": "python",
      "pygments_lexer": "ipython3",
      "version": "3.8.5"
    }
  },
  "nbformat": 4,
  "nbformat_minor": 0
}