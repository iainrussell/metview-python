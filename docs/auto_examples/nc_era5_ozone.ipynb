{
  "cells": [
    {
      "cell_type": "code",
      "execution_count": null,
      "metadata": {
        "collapsed": false
      },
      "outputs": [],
      "source": [
        "%matplotlib inline"
      ]
    },
    {
      "cell_type": "markdown",
      "metadata": {},
      "source": [
        "\nNetCDF Ozone Layout 2x2\n==============================================\n"
      ]
    },
    {
      "cell_type": "code",
      "execution_count": null,
      "metadata": {
        "collapsed": false
      },
      "outputs": [],
      "source": [
        "# (C) Copyright 2017- ECMWF.\n#\n# This software is licensed under the terms of the Apache Licence Version 2.0\n# which can be obtained at http://www.apache.org/licenses/LICENSE-2.0.\n#\n# In applying this licence, ECMWF does not waive the privileges and immunities\n# granted to it by virtue of its status as an intergovernmental organisation\n# nor does it submit to any jurisdiction.\n#\n\nimport metview as mv\n\n# read ERA5 monthly mean O3 on 70 hPa\nnc = mv.read(\"era5_ozone_1999.nc\")\n\n# this NetCDF data has the following structure:\n#\n# dimensions:\n# \tlongitude = 1440 ;\n# \tlatitude = 721 ;\n# \ttime = 4 ;\n# variables:\n# \tfloat longitude(longitude) ;\n# \tfloat latitude(latitude) ;\n# \tint time(time) ;\n# \t\ttime:units = \"hours since 1900-01-01 00:00:00.0\" ;\n# \tshort o3(time, latitude, longitude) ;\n# \t\to3:units = \"kg kg**-1\" ;\n# \t\to3:long_name = \"Ozone mass mixing ratio\" ;\n\n# define contour shading\ncont = mv.mcont(\n    legend=\"on\",\n    contour=\"off\",\n    contour_max_level=4e-6,\n    contour_min_level=5e-7,\n    contour_label=\"off\",\n    contour_shade=\"on\",\n    contour_shade_colour_method=\"palette\",\n    contour_shade_method=\"area_fill\",\n    contour_shade_palette_name=\"m_purple_9\",\n)\n\n# define coastlines\ncoastlines = mv.mcoast(\n    map_coastline_thickness=2, map_grid_colour=\"RGB(0.349,0.349,0.349)\", map_label=\"off\"\n)\n\n# define goegraphical view\nview = mv.geoview(\n    map_projection=\"polar_stereographic\",\n    map_area_definition=\"corners\",\n    map_hemisphere=\"south\",\n    area=[-5.23, 46.28, -5.72, -132.72],\n    coastlines=coastlines,\n)\n\n# create a 2x2 plot layout with the defined geoview\ndw = mv.plot_superpage(pages=mv.mvl_regular_layout(view, 2, 2, 1, 1, [5, 100, 10, 100]))\n\n# define month names for plot titles\nmonths = [\"JAN\", \"APR\", \"JUL\", \"OCT\"]\n\n# we build the plot object for each map in a loop\np_obj = []\nfor i in range(4):\n\n    # define netcdf plotting\n    vis = mv.netcdf_visualiser(\n        netcdf_plot_type=\"geo_matrix\",\n        netcdf_latitude_variable=\"latitude\",\n        netcdf_longitude_variable=\"longitude\",\n        netcdf_value_variable=\"o3\",\n        netcdf_dimension_setting_method=\"index\",\n        netcdf_dimension_setting=[\"time:\" + str(i)],\n        netcdf_data=nc,\n    )\n\n    # define title\n    title = mv.mtext(\n        text_lines=[\n            \"<netcdf_info variable='o3' attribute='long_name'/> \"\n            + \"[<netcdf_info variable='o3' attribute='units'/>] 70 hPa - 1999 \"\n            + months[i]\n        ],\n        text_font_size=0.3,\n    )\n\n    # add current plot definition to the plot object\n    p_obj.append([dw[i], vis, cont, title])\n\n\n# define output\nmv.setoutput(mv.pdf_output(output_name=\"nc_era5_ozone\"))\n\n# generate plot\nmv.plot(p_obj)"
      ]
    }
  ],
  "metadata": {
    "kernelspec": {
      "display_name": "Python 3",
      "language": "python",
      "name": "python3"
    },
    "language_info": {
      "codemirror_mode": {
        "name": "ipython",
        "version": 3
      },
      "file_extension": ".py",
      "mimetype": "text/x-python",
      "name": "python",
      "nbconvert_exporter": "python",
      "pygments_lexer": "ipython3",
      "version": "3.8.5"
    }
  },
  "nbformat": 4,
  "nbformat_minor": 0
}