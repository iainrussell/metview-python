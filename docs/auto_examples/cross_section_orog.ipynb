{
  "cells": [
    {
      "cell_type": "code",
      "execution_count": null,
      "metadata": {
        "collapsed": false
      },
      "outputs": [],
      "source": [
        "%matplotlib inline"
      ]
    },
    {
      "cell_type": "markdown",
      "metadata": {},
      "source": [
        "\nCross Section with Orography\n=============================\n"
      ]
    },
    {
      "cell_type": "code",
      "execution_count": null,
      "metadata": {
        "collapsed": false
      },
      "outputs": [],
      "source": [
        "# (C) Copyright 2017- ECMWF.\n#\n# This software is licensed under the terms of the Apache Licence Version 2.0\n# which can be obtained at http://www.apache.org/licenses/LICENSE-2.0.\n#\n# In applying this licence, ECMWF does not waive the privileges and immunities\n# granted to it by virtue of its status as an intergovernmental organisation\n# nor does it submit to any jurisdiction.\n#\n\nimport metview as mv\n\n# read grib file - contains model level data\nfs = mv.read(source=\"fc_ml.grib\")\n\n# read temperature and scale it to C\nt = mv.read(data=fs, param=\"t\")\nt = t - 273.16\n\n# read wind components and compute speed\nu = mv.read(data=fs, param=\"u\")\nv = mv.read(data=fs, param=\"v\")\nsp = mv.sqrt(u * u + v * v)\n\n# read log of surface pressure\nlnsp = mv.read(data=fs, param=\"lnsp\")\n\n# define cross section line\nline = [41, -2, 78, 32]\n\n# define shading for wind speed\nsp_cont = mv.mcont(\n    legend=\"on\",\n    contour_automatics_settings=\"style_name\",\n    contour_style_name=\"sh_red_f5t70lst\",\n)\n\n# define contouring for temperature\nt_cont = mv.mcont(\n    contour_line_style=\"dash\",\n    contour_line_thickness=2,\n    contour_line_colour=\"charcoal\",\n    contour_highlight=\"off\",\n    contour_level_selection_type=\"interval\",\n    contour_interval=5,\n)\n\n# define cross section in log pressure from surface 80 hPa\nxs_view = mv.mxsectview(line=line, top_level=80, vertical_scaling=\"log\")\n\n# define orography area\norog_graph = mv.mgraph(graph_type=\"area\", graph_shade_colour=\"charcoal\",)\n\n# define cross section data (field + lnsp)\nxs_t_data = mv.merge(t, lnsp)\nxs_sp_data = mv.merge(sp, lnsp)\n\n# define the output plot file\nmv.setoutput(mv.pdf_output(output_name=\"cross_section_orog\"))\n\n# generate plot\nmv.plot(xs_view, xs_sp_data, sp_cont, xs_t_data, t_cont, orog_graph)"
      ]
    }
  ],
  "metadata": {
    "kernelspec": {
      "display_name": "Python 3",
      "language": "python",
      "name": "python3"
    },
    "language_info": {
      "codemirror_mode": {
        "name": "ipython",
        "version": 3
      },
      "file_extension": ".py",
      "mimetype": "text/x-python",
      "name": "python",
      "nbconvert_exporter": "python",
      "pygments_lexer": "ipython3",
      "version": "3.8.5"
    }
  },
  "nbformat": 4,
  "nbformat_minor": 0
}