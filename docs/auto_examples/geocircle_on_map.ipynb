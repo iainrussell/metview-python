{
  "cells": [
    {
      "cell_type": "code",
      "execution_count": null,
      "metadata": {
        "collapsed": false
      },
      "outputs": [],
      "source": [
        "%matplotlib inline"
      ]
    },
    {
      "cell_type": "markdown",
      "metadata": {},
      "source": [
        "\nGeocircle on Map\n==============================================\n"
      ]
    },
    {
      "cell_type": "code",
      "execution_count": null,
      "metadata": {
        "collapsed": false
      },
      "outputs": [],
      "source": [
        "# (C) Copyright 2017- ECMWF.\n#\n# This software is licensed under the terms of the Apache Licence Version 2.0\n# which can be obtained at http://www.apache.org/licenses/LICENSE-2.0.\n#\n# In applying this licence, ECMWF does not waive the privileges and immunities\n# granted to it by virtue of its status as an intergovernmental organisation\n# nor does it submit to any jurisdiction.\n#\n\nimport metview as mv\n\n# ---------------------------------------------------------------\n# Demonstrates how to plot a circle on any map projection using\n# mvl_geocircle().\n# ---------------------------------------------------------------\n\n# set up the shaded coastlines\nland_sea_shade = mv.mcoast(\n    map_coastline_land_shade=\"on\",\n    map_coastline_land_shade_colour=\"RGB(0.98,0.95,0.82)\",\n    map_coastline_sea_shade=\"on\",\n    map_coastline_sea_shade_colour=\"RGB(0.85,0.93,1)\",\n)\n\n# define the geographic view\nview = mv.geoview(\n    map_projection=\"polar_stereographic\",\n    map_area_definition=\"corners\",\n    area=[-5, -30, 10, 84],  # S,W,N,E\n    coastlines=land_sea_shade,\n)\n\n# define the radius of the circles (in km)\ncircle_radius = 200\n\n# the circle will be made up of this many segments\ncircle_resolution = 80\n\n# define the centres of the circles\nlatPos = [58, 48, 38, 28, 18, 8]\nlonPos = [-20, -8, 4, 16, 28, 40]\n\n# build the plot the finition of the circles\nplt_lst = []\nfor i in range(0, len(latPos)):\n\n    # define the cirle around the specifed coordinates\n    iv_circle = mv.mvl_geocircle(latPos[i], lonPos[i], circle_radius, circle_resolution)\n\n    # define the plotting attributes for the circle\n    graph_circle = mv.mgraph(\n        graph_line_colour=\"red\", graph_line_thickness=\"4\", graph_line_style=\"solid\"\n    )\n\n    # collect the plot definitions into a list\n    plt_lst.append([iv_circle, graph_circle])\n\n# define the output plot file\nmv.setoutput(mv.pdf_output(output_name=\"geocircle_on_map\"))\n\n# plot the circles on the map\nmv.plot(view, plt_lst)"
      ]
    }
  ],
  "metadata": {
    "kernelspec": {
      "display_name": "Python 3",
      "language": "python",
      "name": "python3"
    },
    "language_info": {
      "codemirror_mode": {
        "name": "ipython",
        "version": 3
      },
      "file_extension": ".py",
      "mimetype": "text/x-python",
      "name": "python",
      "nbconvert_exporter": "python",
      "pygments_lexer": "ipython3",
      "version": "3.8.5"
    }
  },
  "nbformat": 4,
  "nbformat_minor": 0
}