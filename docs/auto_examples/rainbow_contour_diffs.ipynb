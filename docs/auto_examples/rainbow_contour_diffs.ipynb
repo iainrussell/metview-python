{
  "cells": [
    {
      "cell_type": "code",
      "execution_count": null,
      "metadata": {
        "collapsed": false
      },
      "outputs": [],
      "source": [
        "%matplotlib inline"
      ]
    },
    {
      "cell_type": "markdown",
      "metadata": {},
      "source": [
        "\nDifference Plot with Rainbow Contour Settings\n==============================================\n"
      ]
    },
    {
      "cell_type": "code",
      "execution_count": null,
      "metadata": {
        "collapsed": false
      },
      "outputs": [],
      "source": [
        "# (C) Copyright 2017- ECMWF.\n#\n# This software is licensed under the terms of the Apache Licence Version 2.0\n# which can be obtained at http://www.apache.org/licenses/LICENSE-2.0.\n#\n# In applying this licence, ECMWF does not waive the privileges and immunities\n# granted to it by virtue of its status as an intergovernmental organisation\n# nor does it submit to any jurisdiction.\n#\n\n# ---------------------------------------------------------------\n# Description: Demonstrates how to use Rainbow contouring to\n#              separately contour positive, negative and zero\n#              differences, similar to the Split Contour facility\n#              which existed in Metview 3.\n# ---------------------------------------------------------------\n\nimport metview as mv\n\n# retrieve the forecast and analysis data and compute the difference\nuse_mars = False\nif use_mars:\n    analysis_data = mv.retrieve(param=\"t\", levelist=1000, grid=[1.5, 1.5], date=-10)\n    forecast_data = mv.retrieve(\n        param=\"t\", levelist=1000, grid=[1.5, 1.5], date=-12, type=\"fc\", step=48\n    )\nelse:\n    analysis_data = mv.read(\"an_data_for_diff.grib\")\n    forecast_data = mv.read(\"fc_data_for_diff.grib\")\n\n\ndifference = forecast_data - analysis_data\n\n\n# define the contouring visdef\nsplit = mv.mcont(\n    contour_line_thickness=2,\n    contour_line_colour_rainbow=\"on\",\n    contour_line_colour_rainbow_method=\"list\",\n    contour_line_colour_rainbow_colour_list=[\n        \"RGB(0.02,0.67,1)\",\n        \"RGB(0.31,0.31,0.98)\",\n        \"RGB(0.024,0.024,0.7)\",\n        \"BLACK\",\n        \"RGB(0.62,0.077,0.028)\",\n        \"RGB(0.77,0.019,0.019)\",\n        \"RED\",\n    ],\n    contour_line_thickness_rainbow_list=[2, 2, 2, 4, 2, 2, 2],\n    contour_line_style_rainbow_list=[\n        \"dash\",\n        \"dash\",\n        \"dash\",\n        \"solid\",\n        \"solid\",\n        \"sold\",\n        \"solid\",\n    ],\n    contour_highlight=\"off\",\n    contour_level_selection_type=\"level_list\",\n    contour_level_list=[-1, -0.5, -0.2, 0, 0.2, 0.5, 1],\n)\n\n\n# define the coastlines visdef and the view\nland_sea_shade = mv.mcoast(\n    map_coastline_land_shade=\"on\", map_coastline_land_shade_colour=\"RGB(0.89,0.85,0.82)\"\n)\n\nview = mv.geoview(\n    map_area_definition=\"corners\",\n    area=[37.9, -28.57, 69.85, 20.65],\n    coastlines=land_sea_shade,\n)\n\n\n# define the output plot file (extension will be added automatically)\n# - remove this line to get an interactive plot window\nmv.setoutput(mv.pdf_output(output_name=\"rainbow_contour_diffs\"))\n\n# into the view, plot the difference field with the 'split' visdef\nmv.plot(view, difference, split)"
      ]
    }
  ],
  "metadata": {
    "kernelspec": {
      "display_name": "Python 3",
      "language": "python",
      "name": "python3"
    },
    "language_info": {
      "codemirror_mode": {
        "name": "ipython",
        "version": 3
      },
      "file_extension": ".py",
      "mimetype": "text/x-python",
      "name": "python",
      "nbconvert_exporter": "python",
      "pygments_lexer": "ipython3",
      "version": "3.8.5"
    }
  },
  "nbformat": 4,
  "nbformat_minor": 0
}