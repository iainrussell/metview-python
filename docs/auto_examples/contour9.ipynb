{
  "cells": [
    {
      "cell_type": "code",
      "execution_count": null,
      "metadata": {
        "collapsed": false
      },
      "outputs": [],
      "source": [
        "%matplotlib inline"
      ]
    },
    {
      "cell_type": "markdown",
      "metadata": {},
      "source": [
        "\nInterval Shading Contour\n======================================\n"
      ]
    },
    {
      "cell_type": "code",
      "execution_count": null,
      "metadata": {
        "collapsed": false
      },
      "outputs": [],
      "source": [
        "# ----------------------------------------------------------------------------------\n# Description: Demonstrates how to define a shading contour using an interval range.\n# ----------------------------------------------------------------------------------\n\nimport metview as mv\n\n# read the input grib file\nmy_data = mv.read(\"2m_temperature.grib\")\n\n# set up the geographical area\nmy_view = mv.geoview(\n    map_area_definition=\"CORNERS\", map_projection=\"CYLINDRICAL\", area=[35, -15, 70, 35]\n)\n\n# set up the coastlines\nmy_coast = mv.mcoast(\n    map_coastline_land_shade=\"ON\", map_coastline_land_shade_colour=\"CREAM\"\n)\n\n# set up the contour using an interval range\nmy_contour = mv.mcont(\n    contour_level_selection_type=\"INTERVAL\",\n    contour_interval=2.00,\n    contour_shade_method=\"AREA_FILL\",\n    contour_shade=\"ON\",\n    contour_shade_max_level=42.00,\n    contour_shade_min_level=-32.00,\n    contour_highlight_thickness=5,\n    contour_line_thickness=3,\n    contour_label=\"OFF\",\n    contour_highlight_frequency=100,\n    legend=\"ON\",\n    contour_hilo=\"OFF\",\n    contour=\"OFF\",\n    contour_shade_colour_method=\"LIST\",\n    contour_shade_colour_list=[\n        \"rgb(0.3,0.3,0.3)\",\n        \"rgb(0.4,0.4,0.4)\",\n        \"rgb(0.5,0.5,0.5)\",\n        \"rgb(0.6,0.6,0.6)\",\n        \"rgb(0.7,0.7,0.7)\",\n        \"rgb(0.8,0.8,0.8)\",\n        \"rgb(0.35,0,0.6)\",\n        \"rgb(0.5,0,0.9)\",\n        \"rgb(0.6,0.2,1)\",\n        \"rgb(0.75,0.4,1)\",\n        \"rgb(0.85,0.6,1)\",\n        \"rgb(0,0,0.75)\",\n        \"rgb(0,0,1)\",\n        \"rgb(0.2,0.4,1)\",\n        \"rgb(0.4,0.7,1)\",\n        \"rgb(0.6,0.9,1)\",\n        \"rgb(0,0.55,0.19)\",\n        \"rgb(0.15,0.75,0.1)\",\n        \"rgb(0.5,0.85,0)\",\n        \"rgb(0.65,0.95,0)\",\n        \"rgb(0.8,1,0.2)\",\n        \"rgb(0.65,0.65,0)\",\n        \"rgb(0.8,0.8,0)\",\n        \"rgb(0.92,0.92,0)\",\n        \"rgb(1,1,0)\",\n        \"rgb(1,1,0.6)\",\n        \"rgb(0.85,0.45,0)\",\n        \"rgb(1,0.5,0)\",\n        \"rgb(1,0.62,0)\",\n        \"rgb(1,0.74,0)\",\n        \"rgb(1,0.85,0)\",\n        \"rgb(0.6,0,0)\",\n        \"rgb(0.8,0,0)\",\n        \"rgb(1,0,0)\",\n        \"rgb(1,0.4,0.4)\",\n        \"rgb(1,0.6,0.6)\",\n        \"rgb(1,0.75,0.75)\",\n    ],\n)\n\n# set-up the title\nmy_title = mv.mtext(\n    text_font_size=0.50,\n    text_lines=[\n        \"<font size='0.7'>2m temperature (Range: -32 .. 42)</font>\",\n        \"<magics_title/>\",\n        \"\",\n    ],\n    text_colour=\"CHARCOAL\",\n)\n\n\n# define the output plot file\nmv.setoutput(mv.pdf_output(output_name=\"contour9\"))\n\n# plot the data onto the map\nmv.plot(my_view, my_coast, my_data, my_contour, my_title)"
      ]
    }
  ],
  "metadata": {
    "kernelspec": {
      "display_name": "Python 3",
      "language": "python",
      "name": "python3"
    },
    "language_info": {
      "codemirror_mode": {
        "name": "ipython",
        "version": 3
      },
      "file_extension": ".py",
      "mimetype": "text/x-python",
      "name": "python",
      "nbconvert_exporter": "python",
      "pygments_lexer": "ipython3",
      "version": "3.8.5"
    }
  },
  "nbformat": 4,
  "nbformat_minor": 0
}