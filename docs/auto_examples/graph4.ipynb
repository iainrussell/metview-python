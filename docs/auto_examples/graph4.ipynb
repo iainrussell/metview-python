{
  "cells": [
    {
      "cell_type": "code",
      "execution_count": null,
      "metadata": {
        "collapsed": false
      },
      "outputs": [],
      "source": [
        "%matplotlib inline"
      ]
    },
    {
      "cell_type": "markdown",
      "metadata": {},
      "source": [
        "\nBar Chart Plotting\n==============================================\n"
      ]
    },
    {
      "cell_type": "code",
      "execution_count": null,
      "metadata": {
        "collapsed": false
      },
      "outputs": [],
      "source": [
        "# (C) Copyright 2017- ECMWF.\n#\n# This software is licensed under the terms of the Apache Licence Version 2.0\n# which can be obtained at http://www.apache.org/licenses/LICENSE-2.0.\n#\n# In applying this licence, ECMWF does not waive the privileges and immunities\n# granted to it by virtue of its status as an intergovernmental organisation\n# nor does it submit to any jurisdiction.\n#\n\n# ------------------------------------------------------------------\n# Description: Demonstrates how to plot time serie vectors using linebars\n#              and bars in a Cartesian view.\n# ------------------------------------------------------------------\n\nimport metview as mv\n\n# set up the axis for the cartesian view\nmy_vaxis = mv.maxis(\n    axis_tick_label_height=0.40,\n    axis_orientation=\"VERTICAL\",\n    axis_grid_thickness=1,\n    axis_type=\"REGULAR\",\n    axis_tick_label_colour=\"NAVY\",\n    axis_grid=\"ON\",\n    axis_grid_line_style=\"DOT\",\n    axis_grid_colour=\"GREY\",\n)\n\nmy_haxis = mv.maxis(\n    axis_orientation=\"HORIZONTAL\",\n    axis_grid_thickness=1,\n    axis_type=\"DATE\",\n    axis_days_label_height=0.40,\n    axis_grid=\"ON\",\n    axis_months_label_height=0.40,\n    axis_years_label_height=0.50,\n    axis_grid_line_style=\"DOT\",\n    axis_grid_colour=\"GREY\",\n)\n\nmy_view = mv.cartesianview(\n    x_axis_type=\"DATE\",\n    x_date_min=\"2012-03-03 00:00:00\",\n    x_date_max=\"2012-03-08 00:00:00\",\n    y_axis_type=\"regular\",\n    y_min=25,\n    y_max=75,\n    horizontal_axis=my_haxis,\n    vertical_axis=my_vaxis,\n    subpage_y_length=70,\n)\n\n# define first set of input vectors to plot\nmy_dates1 = [\"2012-03-04 00:00:00\", \"2012-03-04 12:00:00\", \"2012-03-05 00:00:00\"]\nmy_input1 = mv.input_visualiser(\n    input_plot_type=\"xy_area\",\n    input_x_type=\"date\",\n    input_date_x_values=my_dates1,\n    input_date_x2_values=my_dates1,\n    input_y_values=[30, 35, 50],\n    input_y2_values=[60, 40, 70],\n)\n\n# set up a linebar plot for the first set\nmy_graph1 = mv.mgraph(\n    graph_type=\"BAR\",\n    graph_bar_colour=\"RED\",\n    graph_bar_style=\"LINEBAR\",\n    graph_bar_line_colour=\"RED\",\n    graph_bar_justification=\"RIGHT\",\n    graph_bar_width=6 * 3600,\n    graph_bar_line_thickness=4,\n    graph_bar_annotation_font_size=0.40,\n    graph_bar_annotation=[\"<font colour='red'>Using linebar style</font>\"],\n    legend=\"ON\",\n)\n\n# define second set of input vectors to plot\nmy_dates2 = [\"2012-03-06 00:00:00\", \"2012-03-06 12:00:00\", \"2012-03-07 00:00:00\"]\nmy_input2 = mv.input_visualiser(\n    input_plot_type=\"xy_area\",\n    input_x_type=\"date\",\n    input_date_x_values=my_dates2,\n    input_date_x2_values=my_dates2,\n    input_y_values=[60, 40, 30],\n    input_y2_values=[00, 00, 00],\n)\n\n# set up a bar plot for the second set\nmy_graph2 = mv.mgraph(\n    graph_type=\"BAR\",\n    graph_shade_colour=\"GREEN\",\n    graph_bar_annotation_font_colour=\"CHARCOAL\",\n    graph_bar_justification=\"CENTRE\",\n    graph_bar_width=3 * 3600,\n    graph_bar_annotation_font_size=0.40,\n    graph_bar_annotation=[\"<font colour='evergreen'>Using bar style</font>\"],\n    legend_user_text=\" \",\n    legend=\"ON\",\n)\n\n# set up the title\nmy_title = mv.mtext(\n    text_font_size=0.6,\n    text_lines=[\"More options on bar plotting ...\"],\n    text_justification=\"LEFT\",\n    text_colour=\"CHARCOAL\",\n)\n\n\n# define the output plot file\nmv.setoutput(mv.pdf_output(output_name=\"graph4\"))\n\n# plot the cartesian graph\nmv.plot(my_view, my_input1, my_graph1, my_input2, my_graph2, my_title)"
      ]
    }
  ],
  "metadata": {
    "kernelspec": {
      "display_name": "Python 3",
      "language": "python",
      "name": "python3"
    },
    "language_info": {
      "codemirror_mode": {
        "name": "ipython",
        "version": 3
      },
      "file_extension": ".py",
      "mimetype": "text/x-python",
      "name": "python",
      "nbconvert_exporter": "python",
      "pygments_lexer": "ipython3",
      "version": "3.8.5"
    }
  },
  "nbformat": 4,
  "nbformat_minor": 0
}