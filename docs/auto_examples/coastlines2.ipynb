{
  "cells": [
    {
      "cell_type": "code",
      "execution_count": null,
      "metadata": {
        "collapsed": false
      },
      "outputs": [],
      "source": [
        "%matplotlib inline"
      ]
    },
    {
      "cell_type": "markdown",
      "metadata": {},
      "source": [
        "\nBoundaries, Cities and Rivers\n==============================\n"
      ]
    },
    {
      "cell_type": "code",
      "execution_count": null,
      "metadata": {
        "collapsed": false
      },
      "outputs": [],
      "source": [
        "# ---------------------------------------------------------------\n# Description: Demonstrates how to show main cities, rivers, borders\n#              and admnistrative boundaries.\n# ---------------------------------------------------------------\n\nimport metview as mv\n\n# set up the geographical view\nmy_view = mv.geoview(\n    map_area_definition=\"CORNERS\",\n    map_projection=\"CYLINDRICAL\",\n    area=[48.00, -3.00, 55.00, 10.00],\n)\n\n# set up the coastlines so that cities, rivers, borders and admnistrative boundaries are shown\nmy_coast = mv.mcoast(\n    map_administrative_boundaries_colour=\"ORANGE\",\n    map_boundaries=\"ON\",\n    map_coastline_resolution=\"HIGH\",\n    map_coastline_land_shade_colour=\"CREAM\",\n    map_cities=\"ON\",\n    map_grid=\"OFF\",\n    map_boundaries_colour=\"RED\",\n    map_grid_colour=\"TAN\",\n    map_rivers=\"ON\",\n    map_administrative_boundaries_countries_list=[\"FRA\", \"DEU\", \"GBR\"],\n    map_coastline_land_shade=\"ON\",\n    map_coastline_colour=\"TAN\",\n    map_administrative_boundaries=\"ON\",\n)\n\nmy_text = mv.mtext(\n    text_font_size=0.80,\n    text_lines=[\"Administrative boundaries, cities and rivers\"],\n    text_justification=\"LEFT\",\n    text_colour=\"CHARCOAL\",\n)\n\n\n# define the output plot file\nmv.setoutput(mv.pdf_output(output_name=\"coastlines2\"))\n\n# plot the map with the given style\nmv.plot(my_view, my_coast, my_text)"
      ]
    }
  ],
  "metadata": {
    "kernelspec": {
      "display_name": "Python 3",
      "language": "python",
      "name": "python3"
    },
    "language_info": {
      "codemirror_mode": {
        "name": "ipython",
        "version": 3
      },
      "file_extension": ".py",
      "mimetype": "text/x-python",
      "name": "python",
      "nbconvert_exporter": "python",
      "pygments_lexer": "ipython3",
      "version": "3.8.5"
    }
  },
  "nbformat": 4,
  "nbformat_minor": 0
}