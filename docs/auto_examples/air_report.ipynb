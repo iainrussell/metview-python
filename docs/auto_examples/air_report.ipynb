{
  "cells": [
    {
      "cell_type": "code",
      "execution_count": null,
      "metadata": {
        "collapsed": false
      },
      "outputs": [],
      "source": [
        "%matplotlib inline"
      ]
    },
    {
      "cell_type": "markdown",
      "metadata": {},
      "source": [
        "\nAircraft observations\n======================\n"
      ]
    },
    {
      "cell_type": "code",
      "execution_count": null,
      "metadata": {
        "collapsed": false
      },
      "outputs": [],
      "source": [
        "# ------------------------------------------------------------------\n# Description: Demonstrates how to show observations from a geopoints\n#              file using symbol objects.\n# ------------------------------------------------------------------\n\nimport metview as mv\n\n# read the input geopoints file\nmy_data = mv.read(\"airep.geo\")\n\n# set up the data symbol and colour\nmy_symbol = mv.msymb(\n    symbol_type=\"marker\",\n    symbol_marker_index=15,\n    symbol_table_mode=\"advanced\",\n    symbol_advanced_table_selection_type=\"interval\",\n    symbol_advanced_table_colour_direction=\"clockwise\",\n    symbol_advanced_table_max_level_colour=\"red\",\n    symbol_advanced_table_min_level_colour=\"blue\",\n    symbol_advanced_table_interval=5.00,\n    legend=\"on\",\n)\n\n# set up the contour so that observed values are mapped into a colour list\nmy_contour = mv.mcont(\n    contour_grid_value_plot=\"on\",\n    contour_grid_value_plot_type=\"both\",\n    contour_grid_value_height=0.30,\n    contour_grid_value_marker_height=0.20,\n    contour_level_selection_type=\"level_list\",\n    contour_level_list=[-20, -10, -5, -2.5, -1, -0.5, 0, 0.5, 1, 2.5, 5, 10, 20],\n    contour_line_colour=\"grey\",\n    contour_line_thickness=2,\n    contour_highlight=\"off\",\n    contour_label=\"off\",\n    contour_grid_value_lon_frequency=10,\n    contour_grid_value_lat_frequency=10,\n    legend=\"off\",\n)\n\n# legend type is histogram\nmy_legend = mv.mlegend(legend_text_colour=\"navy\", legend_display_type=\"histogram\")\n\n# set up the coastlines\nmy_coast = mv.mcoast(\n    map_coastline_land_shade=\"on\",\n    map_coastline_land_shade_colour=\"cream\",\n    map_grid=\"on\",\n    map_grid_colour=\"grey\",\n)\n\n# set up the title\nmy_title = mv.mtext(\n    text_mode=\"positional\",\n    text_font_size=0.60,\n    text_justification=\"left\",\n    text_border=\"off\",\n    text_lines=[\"Monitoring of AIREP data\"],\n    text_box_x_length=20.00,\n    text_box_y_length=2.50,\n    text_box_x_position=1.50,\n    text_box_y_position=16.50,\n    text_colour=\"navy\",\n)\n\n\n# define the output plot file\nmv.setoutput(mv.pdf_output(output_name=\"air_report\"))\n\n# plot the data onto the map\nmv.plot(my_coast, my_data, my_symbol, my_title, my_legend)"
      ]
    }
  ],
  "metadata": {
    "kernelspec": {
      "display_name": "Python 3",
      "language": "python",
      "name": "python3"
    },
    "language_info": {
      "codemirror_mode": {
        "name": "ipython",
        "version": 3
      },
      "file_extension": ".py",
      "mimetype": "text/x-python",
      "name": "python",
      "nbconvert_exporter": "python",
      "pygments_lexer": "ipython3",
      "version": "3.8.5"
    }
  },
  "nbformat": 4,
  "nbformat_minor": 0
}