{
  "cells": [
    {
      "cell_type": "code",
      "execution_count": null,
      "metadata": {
        "collapsed": false
      },
      "outputs": [],
      "source": [
        "%matplotlib inline"
      ]
    },
    {
      "cell_type": "markdown",
      "metadata": {},
      "source": [
        "\nMeridional Average\n==============================================\n"
      ]
    },
    {
      "cell_type": "code",
      "execution_count": null,
      "metadata": {
        "collapsed": false
      },
      "outputs": [],
      "source": [
        "# (C) Copyright 2017- ECMWF.\n#\n# This software is licensed under the terms of the Apache Licence Version 2.0\n# which can be obtained at http://www.apache.org/licenses/LICENSE-2.0.\n#\n# In applying this licence, ECMWF does not waive the privileges and immunities\n# granted to it by virtue of its status as an intergovernmental organisation\n# nor does it submit to any jurisdiction.\n#\n\nimport metview as mv\n\n# read pressure level data\ng = mv.read(\"avg_tuv.grib\")\n\n# filter v (meridional component)\nv = mv.read(data=g, param=\"v\")\n\n# define horizontal axis\nhoriz_axis = mv.maxis(axis_tick_label_height=0.4)\n\n# define vertical axis\nvertical_axis = mv.maxis(\n    axis_orientation=\"vertical\",\n    axis_type=\"position_list\",\n    axis_tick_position_list=[\n        1000,\n        925,\n        850,\n        700,\n        500,\n        400,\n        300,\n        250,\n        200,\n        150,\n        100,\n        70,\n        50,\n    ],\n    axis_tick_label_height=0.4,\n)\n\n# define averaging area - one half of the Northern Hemisphere\narea = [90, -90, 0, 90]  # N,W,S,E\n\n# define average view for meridional mean\nview = mv.maverageview(\n    top_level=50,\n    bottom_level=1000,\n    vertical_scaling=\"log\",\n    area=area,\n    direction=\"ns\",\n    horizontal_axis=horiz_axis,\n    vertical_axis=vertical_axis,\n)\n\n# define isoline shading for v\ncont_v = mv.mcont(\n    legend=\"on\",\n    contour_line_colour=\"charcoal\",\n    contour_highlight=\"off\",\n    contour_max_level=30,\n    contour_min_level=-30,\n    contour_level_count=22,\n    contour_label=\"off\",\n    contour_shade=\"on\",\n    contour_shade_colour_method=\"palette\",\n    contour_shade_method=\"area_fill\",\n    contour_shade_palette_name=\"eccharts_black_red_21\",\n)\n\ntitle = mv.mtext(text_font_size=0.4)\n\n# define the output plot file\nmv.setoutput(mv.pdf_output(output_name=\"meridional_average\"))\n\n# generate plot\nmv.plot(view, v, cont_v, title)"
      ]
    }
  ],
  "metadata": {
    "kernelspec": {
      "display_name": "Python 3",
      "language": "python",
      "name": "python3"
    },
    "language_info": {
      "codemirror_mode": {
        "name": "ipython",
        "version": 3
      },
      "file_extension": ".py",
      "mimetype": "text/x-python",
      "name": "python",
      "nbconvert_exporter": "python",
      "pygments_lexer": "ipython3",
      "version": "3.8.5"
    }
  },
  "nbformat": 4,
  "nbformat_minor": 0
}