{
  "cells": [
    {
      "cell_type": "code",
      "execution_count": null,
      "metadata": {
        "collapsed": false
      },
      "outputs": [],
      "source": [
        "%matplotlib inline"
      ]
    },
    {
      "cell_type": "markdown",
      "metadata": {},
      "source": [
        "\nNetCDF Temperature\n==============================================\n"
      ]
    },
    {
      "cell_type": "code",
      "execution_count": null,
      "metadata": {
        "collapsed": false
      },
      "outputs": [],
      "source": [
        "# (C) Copyright 2017- ECMWF.\n#\n# This software is licensed under the terms of the Apache Licence Version 2.0\n# which can be obtained at http://www.apache.org/licenses/LICENSE-2.0.\n#\n# In applying this licence, ECMWF does not waive the privileges and immunities\n# granted to it by virtue of its status as an intergovernmental organisation\n# nor does it submit to any jurisdiction.\n#\n\nimport metview as mv\n\n# read ERA5 monthly mean - downloaded from CDS\nnc = mv.read(\"era5_2000_aug.nc\")\n\n# our NetCDF data is CF-compliant and has the following\n# structure:\n#\n# dimensions:\n# \tlongitude = 1440 ;\n# \tlatitude = 721 ;\n# \ttime = 1 ;\n# variables:\n# \tfloat longitude(longitude) ;\n# \tfloat latitude(latitude) ;\n# \tint time(time) ;\n# \tshort t2m(time, latitude, longitude) ;\n\n# define netcdf plotting based on the data structure above\nvis = mv.netcdf_visualiser(\n    netcdf_plot_type=\"geo_matrix\",\n    netcdf_latitude_variable=\"latitude\",\n    netcdf_longitude_variable=\"longitude\",\n    netcdf_value_variable=\"t2m\",\n    netcdf_data=nc,\n)\n\n# define contour shading\ncont = mv.mcont(\n    contour_automatic_setting=\"style_name\",\n    contour_style_name=\"sh_all_fM52t48i4_light\",\n    legend=\"on\",\n)\n\n# define coastlines\ncoastlines = mv.mcoast(map_coastline_thickness=2, map_label_height=0.2)\n\n# define projection\nview = mv.geoview(\n    map_projection=\"mollweide\", subpage_clipping=\"on\", coastlines=coastlines\n)\n\n# define title\ntitle = mv.mtext(\n    text_lines=[\"ERA5 - T2m - August 2000 monthly mean\"], text_font_size=0.4\n)\n\n# define output\nmv.setoutput(mv.pdf_output(output_name=\"nc_era5_t2\"))\n\n# generate plot\nmv.plot(view, vis, cont, title)"
      ]
    }
  ],
  "metadata": {
    "kernelspec": {
      "display_name": "Python 3",
      "language": "python",
      "name": "python3"
    },
    "language_info": {
      "codemirror_mode": {
        "name": "ipython",
        "version": 3
      },
      "file_extension": ".py",
      "mimetype": "text/x-python",
      "name": "python",
      "nbconvert_exporter": "python",
      "pygments_lexer": "ipython3",
      "version": "3.8.5"
    }
  },
  "nbformat": 4,
  "nbformat_minor": 0
}