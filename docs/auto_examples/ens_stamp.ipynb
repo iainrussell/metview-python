{
  "cells": [
    {
      "cell_type": "code",
      "execution_count": null,
      "metadata": {
        "collapsed": false
      },
      "outputs": [],
      "source": [
        "%matplotlib inline"
      ]
    },
    {
      "cell_type": "markdown",
      "metadata": {},
      "source": [
        "\nENS Stamp Map\n==============================================\n"
      ]
    },
    {
      "cell_type": "code",
      "execution_count": null,
      "metadata": {
        "collapsed": false
      },
      "outputs": [],
      "source": [
        "# (C) Copyright 2017- ECMWF.\n#\n# This software is licensed under the terms of the Apache Licence Version 2.0\n# which can be obtained at http://www.apache.org/licenses/LICENSE-2.0.\n#\n# In applying this licence, ECMWF does not waive the privileges and immunities\n# granted to it by virtue of its status as an intergovernmental organisation\n# nor does it submit to any jurisdiction.\n#\n\nimport metview as mv\n\n# read ENS forecast\ng = mv.read(\"wgust_ens.grib\")\n\n# filter out a timestep\nwg = mv.read(data=g, step=78)\n\n# define contour shading\nwgust_shade = mv.mcont(\n    legend=\"off\",\n    contour_line_colour=\"navy\",\n    contour_highlight=\"off\",\n    contour_level_selection_type=\"level_list\",\n    contour_level_list=[10, 15, 20, 25, 30, 35, 50],\n    contour_label=\"off\",\n    contour_shade=\"on\",\n    contour_shade_colour_method=\"list\",\n    contour_shade_method=\"area_fill\",\n    contour_shade_colour_list=[\n        \"sky\",\n        \"greenish_blue\",\n        \"avocado\",\n        \"orange\",\n        \"orangish_red\",\n        \"violet\",\n    ],\n)\n\n# define coastline\ncoast = mv.mcoast(\n    map_coastline_land_shade=\"on\",\n    map_coastline_land_shade_colour=\"grey\",\n    map_coastline_sea_shade=\"on\",\n    map_coastline_sea_shade_colour=\"RGB(0.8944,0.9086,0.933)\",\n    map_coastline_thickness=2,\n    map_boundaries=\"on\",\n    map_boundaries_colour=\"charcoal\",\n    map_label=\"off\",\n    map_grid_colour=\"RGB(0.6, 0.6, 0.6)\",\n    map_grid_longitude_increment=10,\n)\n\n# define map view\nview = mv.geoview(\n    map_area_definition=\"corners\", area=[40, -20, 60, 10], coastlines=coast\n)\n\n# define layout\ndw = mv.plot_superpage(pages=mv.mvl_regular_layout(view, 8, 7, 1, 1, [5, 100, 0, 100]))\n\n# define the output plot file\nmv.setoutput(mv.pdf_output(output_name=\"ens_stamp\"))\n\n# generate plot\npl_lst = []\n\n# perturbed forecasts\nfor i in range(1, 51):\n    f = mv.read(data=wg, type=\"pf\", number=i)\n    title = mv.mtext(text_lines=[\"PF=\" + str(i)], text_font_size=0.4)\n    pl_lst.append([dw[i - 1], f, wgust_shade, title])\n\n# control forecast\nf = mv.read(data=wg, type=\"cf\")\ntitle = mv.mtext(text_lines=[\"CF\"], text_font_size=0.4)\npl_lst.append([dw[50], f, wgust_shade, title])\n\nmv.plot(pl_lst)"
      ]
    }
  ],
  "metadata": {
    "kernelspec": {
      "display_name": "Python 3",
      "language": "python",
      "name": "python3"
    },
    "language_info": {
      "codemirror_mode": {
        "name": "ipython",
        "version": 3
      },
      "file_extension": ".py",
      "mimetype": "text/x-python",
      "name": "python",
      "nbconvert_exporter": "python",
      "pygments_lexer": "ipython3",
      "version": "3.8.5"
    }
  },
  "nbformat": 4,
  "nbformat_minor": 0
}