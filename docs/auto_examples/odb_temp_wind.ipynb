{
  "cells": [
    {
      "cell_type": "code",
      "execution_count": null,
      "metadata": {
        "collapsed": false
      },
      "outputs": [],
      "source": [
        "%matplotlib inline"
      ]
    },
    {
      "cell_type": "markdown",
      "metadata": {},
      "source": [
        "\nODB Temp Wind\n==============================================\n"
      ]
    },
    {
      "cell_type": "code",
      "execution_count": null,
      "metadata": {
        "collapsed": false
      },
      "outputs": [],
      "source": [
        "# (C) Copyright 2017- ECMWF.\n#\n# This software is licensed under the terms of the Apache Licence Version 2.0\n# which can be obtained at http://www.apache.org/licenses/LICENSE-2.0.\n#\n# In applying this licence, ECMWF does not waive the privileges and immunities\n# granted to it by virtue of its status as an intergovernmental organisation\n# nor does it submit to any jurisdiction.\n#\n\nimport metview as mv\n\n# -------------------------------------------------------------------------\n# Tags: ODB, Wind, Map\n# Title: ODB TEMP wind map\n# Description: Demonstrates how to plot TEMP wind data from ODB onto a map\n# ------------------------------------------------------------------------\n\n# define pressure level\nlev = 250\n\n# read db\ndb = mv.read(\"temp.odb\")\n\n# define query for u wind component\nq_u = \"\"\"select lat@hdr as lat,\n       lon@hdr as lon,\n       obsvalue as val       \n      where varno=3 and vertco_reference_1={}\"\"\".format(\n    lev * 100\n)\n\n# define query for v wind component\nq_v = \"\"\"select lat@hdr as lat,\n       lon@hdr as lon, \n       obsvalue as val          \n      where varno=4 and vertco_reference_1={}\"\"\".format(\n    lev * 100\n)\n\n# define query for metadata\nq_meta = \"select DISTINCT andate, antime\"\n\n# filter u\nf_u = mv.odb_filter(odb_query=q_u, odb_data=db)\n\n# filter v\nf_v = mv.odb_filter(odb_query=q_v, odb_data=db)\n\n# filter metadata\nf_m = mv.odb_filter(odb_query=q_meta, odb_data=db)\n\n# read the odb columns int vectors\nlat = mv.values(f_u, \"lat\")\nlon = mv.values(f_u, \"lon\")\nu = mv.values(f_u, \"val\")\nv = mv.values(f_v, \"val\")\n\n# read values for the title\nandate = mv.values(f_m, \"andate\")[0]\nantime = mv.values(f_m, \"antime\")[0]\n\n# create gepoints from the odb data\ngpt = mv.create_geo(\n    type=\"xy_vector\", latitudes=lat, longitudes=lon, levels=lev, values=u, value2s=v\n)\n\n# define wind plotting style\ncolour_wind = mv.mwind(\n    legend=\"on\",\n    wind_advanced_method=\"on\",\n    wind_arrow_unit_velocity=50.0,\n    wind_thinning_factor=1.0,\n    wind_advanced_colour_selection_type=\"interval\",\n    wind_advanced_colour_level_interval=5,\n    wind_advanced_colour_min_value=0,\n    wind_advanced_colour_max_level_colour=\"red\",\n    wind_advanced_colour_min_level_colour=\"blue\",\n    wind_advanced_colour_direction=\"clockwise\",\n)\n\n\n# define coastlines\ncoast = mv.mcoast(\n    map_coastline_colour=\"RGB(0.5,0.5,0.5)\",\n    map_coastline_resolution=\"low\",\n    map_coastline_land_shade=\"on\",\n    map_coastline_land_shade_colour=\"RGB(0.21,0.21,0.21)\",\n    map_coastline_sea_shade=\"on\",\n    map_coastline_sea_shade_colour=\"RGB(0.53,0.57,0.58)\",\n    map_grid_colour=\"RGB(0.38,0.37,0.37)\",\n)\n\n\n# define title\ntitle = mv.mtext(\n    text_font_size=0.4,\n    text_line_1=\"Land TEMP wind Date={:.0f} Time={:.0f} Level={:.0f} hPa\".format(\n        andate, antime, lev\n    ),\n)\n\n\n# define the output plot file\nmv.setoutput(mv.pdf_output(output_name=\"odb_temp_wind\"))\n\n# generate the plot\nmv.plot(coast, gpt, colour_wind, title)"
      ]
    }
  ],
  "metadata": {
    "kernelspec": {
      "display_name": "Python 3",
      "language": "python",
      "name": "python3"
    },
    "language_info": {
      "codemirror_mode": {
        "name": "ipython",
        "version": 3
      },
      "file_extension": ".py",
      "mimetype": "text/x-python",
      "name": "python",
      "nbconvert_exporter": "python",
      "pygments_lexer": "ipython3",
      "version": "3.8.5"
    }
  },
  "nbformat": 4,
  "nbformat_minor": 0
}