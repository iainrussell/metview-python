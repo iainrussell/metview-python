{
  "cells": [
    {
      "cell_type": "code",
      "execution_count": null,
      "metadata": {
        "collapsed": false
      },
      "outputs": [],
      "source": [
        "%matplotlib inline"
      ]
    },
    {
      "cell_type": "markdown",
      "metadata": {},
      "source": [
        "\nENS Tephigram\n==============================================\n"
      ]
    },
    {
      "cell_type": "code",
      "execution_count": null,
      "metadata": {
        "collapsed": false
      },
      "outputs": [],
      "source": [
        "# (C) Copyright 2017- ECMWF.\n#\n# This software is licensed under the terms of the Apache Licence Version 2.0\n# which can be obtained at http://www.apache.org/licenses/LICENSE-2.0.\n#\n# In applying this licence, ECMWF does not waive the privileges and immunities\n# granted to it by virtue of its status as an intergovernmental organisation\n# nor does it submit to any jurisdiction.\n#\n\nimport numpy as np\nimport metview as mv\n\n# read ENS data\ndata = mv.read(\"ens_prof.grib\")\n\n# define profile location\nlocation = [17.51, -7.04]\n\n# the starting x coordinate of the sidebar on the right.\n# Wind and dewpoint depression is plotted there.\n# Do not change it!\nsidebar_x_offset = 1000\n\n# the ensemble size (perturbed members)\nens_num = 50\n\n# filter control (cf) and perturbed (pf) forcasts\ng_cf = mv.read(data=data, type=\"cf\")\ng_pf = mv.read(data=data, type=\"pf\")\n\n# extract thermo profile for cf\nnc = mv.thermo_grib(\n    data=g_cf, point_extraction=\"nearest_gridpoint\", coordinates=location\n)\n\nprof_cf = mv.thermo_data_values(nc, 0)\n\n# extract thermo profile for pf\nnc = mv.thermo_grib(\n    data=g_pf, point_extraction=\"nearest_gridpoint\", coordinates=location\n)\n\nprof_pf = mv.thermo_data_values(nc, 0)\n\n# define colours for shaded areas\nt_col_outer = \"RGB(1.0000,0.7922,0.7961)\"\nt_col_inner = \"RGB(0.8863,0.0000,0.0000)\"\ntd_col_outer = \"RGB(0.8,0.9137,0.8)\"\ntd_col_inner = \"RGB(0.3882,0.7765,0.3843)\"\nddep_col_outer = \"RGB(0.8118,0.8902,1)\"\nddep_col_inner = \"RGB(0.4353,0.6314,1)\"\n\n# define colours for curves\nt_col_line = \"RGB(0.8706,0,0)\"\ntd_col_line = \"RGB(0,0.2784,0.007843)\"\nddep_col_line = \"RGB(0,0.3725,1)\"\n\n# get pressure levels for t and td (from pf)\n# and compute ENS mean profiles\nlev_num = int(len(prof_pf[\"p\"]) / ens_num)\np = np.empty(lev_num)\nt_mean = np.empty(lev_num)\ntd_mean = np.empty(lev_num)\nddep_mean = np.empty(lev_num)\n\nfor i in range(len(p)):\n    p[i] = prof_pf[\"p\"][i * ens_num]\n    idx_start = i * ens_num\n    idx_end = (i + 1) * ens_num - 1\n    t_v = prof_pf[\"t\"][idx_start:idx_end]\n    td_v = prof_pf[\"td\"][idx_start:idx_end]\n    t_mean[i] = mv.mean(t_v)\n    td_mean[i] = mv.mean(td_v)\n    ddep_mean[i] = mv.mean(t_v - td_v) + sidebar_x_offset\n\n# define cf curve data\nt_cf = prof_cf[\"t\"]\ntd_cf = prof_cf[\"td\"]\nddep_cf = (t_cf - td_cf) + sidebar_x_offset\n\n# compute areas (polygons) for t, td and dew point depression (ddep)\n# outer area = full ENS range\n# inner area = 25-75 percentile range\np_poly = np.empty(lev_num * 2)\nt_poly_inner = np.empty(lev_num * 2)\nt_poly_outer = np.empty(lev_num * 2)\ntd_poly_inner = np.empty(lev_num * 2)\ntd_poly_outer = np.empty(lev_num * 2)\nddep_poly_inner = np.empty(lev_num * 2)\nddep_poly_outer = np.empty(lev_num * 2)\n\nfor i in range(lev_num):\n    idx_start = i * ens_num\n    idx_end = (i + 1) * ens_num - 1\n    t_v = prof_pf[\"t\"][idx_start:idx_end]\n    td_v = prof_pf[\"td\"][idx_start:idx_end]\n\n    i_left = i\n    i_right = 2 * lev_num - i - 1\n\n    p_poly[i_left] = p[i]\n    p_poly[i_right] = p[i]\n\n    t_poly_outer[i_left] = mv.minvalue(t_v)\n    t_poly_outer[i_right] = mv.maxvalue(t_v)\n    perc = mv.percentile(t_v, [25, 75])\n    t_poly_inner[i_left] = perc[0]\n    t_poly_inner[i_right] = perc[1]\n\n    td_poly_outer[i_left] = mv.minvalue(td_v)\n    td_poly_outer[i_right] = mv.maxvalue(td_v)\n    perc = mv.percentile(td_v, [25, 75])\n    td_poly_inner[i_left] = perc[0]\n    td_poly_inner[i_right] = perc[1]\n\n    ddep_v = t_v - td_v + sidebar_x_offset\n    ddep_poly_outer[i_left] = mv.minvalue(ddep_v)\n    ddep_poly_outer[i_right] = mv.maxvalue(ddep_v)\n    perc = mv.percentile(ddep_v, [25, 75])\n    ddep_poly_inner[i_left] = perc[0]\n    ddep_poly_inner[i_right] = perc[1]\n\n# generate graphic objects (areas) for the shaded areas\ngr_lst = [\n    mv.xy_area(t_poly_outer, p_poly, t_col_outer),\n    mv.xy_area(t_poly_inner, p_poly, t_col_inner),\n    mv.xy_area(td_poly_outer, p_poly, td_col_outer),\n    mv.xy_area(td_poly_inner, p_poly, td_col_inner),\n    mv.xy_area(ddep_poly_outer, p_poly, ddep_col_outer),\n    mv.xy_area(ddep_poly_inner, p_poly, ddep_col_inner),\n]\n\n# generate graphic objects (curves) for the mean ENS and cf profiles\ngr_lst.extend(\n    [\n        mv.xy_curve(t_mean, p, t_col_line, \"solid\", 4),\n        mv.xy_curve(td_mean, p, td_col_line, \"solid\", 4),\n        mv.xy_curve(ddep_mean, p, ddep_col_line, \"solid\", 4),\n        mv.xy_curve(t_cf, prof_cf[\"p\"], t_col_line, \"dash\", 3),\n        mv.xy_curve(td_cf, prof_cf[\"p\"], td_col_line, \"dash\", 3),\n        mv.xy_curve(ddep_cf, prof_cf[\"p\"], ddep_col_line, \"dash\", 3),\n    ]\n)\n\n# generate graphic object for wind profile from cf\nvis = mv.input_visualiser(\n    input_plot_type=\"xy_vectors\",\n    input_x_values=[sidebar_x_offset + 10 for i in prof_cf[\"p_wind\"]],\n    input_y_values=prof_cf[\"p_wind\"],\n    input_x_component_values=prof_cf[\"u\"],\n    input_y_component_values=prof_cf[\"v\"],\n)\n\nwind_plotting = mv.mwind(wind_field_type=\"flags\", wind_flag_colour=\"charcoal\")\n\ngr_lst.extend([vis, wind_plotting])\n\n# define title\ntitle_txt = \"ENS Tephigram Date: {} {} UTC Lat/Lon: {}/{} \".format(\n    prof_cf[\"date\"], prof_cf[\"time\"], prof_cf[\"lat\"], prof_cf[\"lon\"]\n)\n\ntitle = mv.mtext(text_lines=title_txt, text_font_size=0.5, text_colour=\"charcoal\")\n\n# define thermodynamic grid\ngrid = mv.mthermogrid(\n    thermo_isotherm_colour=\"RGB(0.2577,0.6364,0.5039)\",\n    thermo_isotherm_reference_colour=\"blue\",\n    thermo_dry_adiabatic_colour=\"grey\",\n    thermo_dry_adiabatic_label_frequency=2,\n    thermo_mixing_ratio_colour=\"RGB(0.2577,0.6364,0.5039)\",\n    thermo_mixing_ratio_label_colour=\"RGB(0.2577,0.6364,0.5039)\",\n    thermo_mixing_ratio_label_font_size=0.4,\n    thermo_grid_layer_mode=\"foreground\",\n)\n\n# define thermodynamic view\nview = mv.thermoview(\n    type=\"tephigram\",\n    minimum_temperature=-110,\n    maximum_temperature=30,\n    subpage_clipping=\"on\",\n)\n\n\n# define the output plot file\nmv.setoutput(mv.pdf_output(output_name=\"ens_tephigram\"))\n\n# generate the plot\nmv.plot(view, gr_lst, grid, title)"
      ]
    }
  ],
  "metadata": {
    "kernelspec": {
      "display_name": "Python 3",
      "language": "python",
      "name": "python3"
    },
    "language_info": {
      "codemirror_mode": {
        "name": "ipython",
        "version": 3
      },
      "file_extension": ".py",
      "mimetype": "text/x-python",
      "name": "python",
      "nbconvert_exporter": "python",
      "pygments_lexer": "ipython3",
      "version": "3.8.5"
    }
  },
  "nbformat": 4,
  "nbformat_minor": 0
}