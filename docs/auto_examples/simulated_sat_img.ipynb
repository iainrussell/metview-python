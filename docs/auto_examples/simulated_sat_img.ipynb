{
  "cells": [
    {
      "cell_type": "code",
      "execution_count": null,
      "metadata": {
        "collapsed": false
      },
      "outputs": [],
      "source": [
        "%matplotlib inline"
      ]
    },
    {
      "cell_type": "markdown",
      "metadata": {},
      "source": [
        "\nSimulated Satellite Image\n==============================================\n"
      ]
    },
    {
      "cell_type": "code",
      "execution_count": null,
      "metadata": {
        "collapsed": false
      },
      "outputs": [],
      "source": [
        "# (C) Copyright 2017- ECMWF.\n#\n# This software is licensed under the terms of the Apache Licence Version 2.0\n# which can be obtained at http://www.apache.org/licenses/LICENSE-2.0.\n#\n# In applying this licence, ECMWF does not waive the privileges and immunities\n# granted to it by virtue of its status as an intergovernmental organisation\n# nor does it submit to any jurisdiction.\n#\n\nimport metview as mv\n\n# read simulated satellite image\ng = mv.read(\"sim_ir9.grib\")\n\n# define automatic contour shading\nshading = mv.mcont(contour_automatic_setting=\"ecmwf\", legend=\"on\")\n\n# define coastlines\ncoastlines = mv.mcoast(\n    map_coastline_colour=\"cream\",\n    map_coastline_thickness=2,\n    map_grid_line_style=\"dot\",\n    map_grid_colour=\"cream\",\n)\n\n# define map projection\nview = mv.geoview(\n    map_projection=\"geos\",\n    map_vertical_longitude=-20,\n    subpage_x_position=20,\n    subpage_y_position=3,\n    subpage_x_length=86,\n    subpage_y_length=86,\n    coastlines=coastlines,\n)\n\n# define legend\nlegend = mv.mlegend(legend_text_font_size=0.25, legend_label_frequency=3)\n\n# define title\ntitle = mv.mtext(text_font_size=0.4)\n\n# define the output plot file\nmv.setoutput(mv.pdf_output(output_name=\"simulated_sat_img\"))\n\n# generate plot\nmv.plot(view, g, shading, legend, title)"
      ]
    }
  ],
  "metadata": {
    "kernelspec": {
      "display_name": "Python 3",
      "language": "python",
      "name": "python3"
    },
    "language_info": {
      "codemirror_mode": {
        "name": "ipython",
        "version": 3
      },
      "file_extension": ".py",
      "mimetype": "text/x-python",
      "name": "python",
      "nbconvert_exporter": "python",
      "pygments_lexer": "ipython3",
      "version": "3.8.5"
    }
  },
  "nbformat": 4,
  "nbformat_minor": 0
}