{
  "cells": [
    {
      "cell_type": "code",
      "execution_count": null,
      "metadata": {
        "collapsed": false
      },
      "outputs": [],
      "source": [
        "%matplotlib inline"
      ]
    },
    {
      "cell_type": "markdown",
      "metadata": {},
      "source": [
        "\nTephigram from BUFR\n==============================================\n"
      ]
    },
    {
      "cell_type": "code",
      "execution_count": null,
      "metadata": {
        "collapsed": false
      },
      "outputs": [],
      "source": [
        "# (C) Copyright 2017- ECMWF.\n#\n# This software is licensed under the terms of the Apache Licence Version 2.0\n# which can be obtained at http://www.apache.org/licenses/LICENSE-2.0.\n#\n# In applying this licence, ECMWF does not waive the privileges and immunities\n# granted to it by virtue of its status as an intergovernmental organisation\n# nor does it submit to any jurisdiction.\n#\n\nimport metview as mv\n\n# read BUFR data\nb = mv.read(\"temp.bufr\")\n\n# extract thermo profile for a given station\nprof = mv.thermo_bufr(data=b, station=mv.stations(search_key=\"ident\", ident=96481))\n\n# define the thermodynamic view\nview = mv.thermoview(\n    type=\"tephigram\", minimum_temperature=-120, maximum_temperature=35, top_pressure=100\n)\n\n# visual definition for t and td profile\nvis = mv.mthermo(\n    thermo_temperature_line_colour=\"purplish_red\",\n    thermo_temperature_line_thickness=6,\n    thermo_temperature_missing_data_colour=\"purplish_red\",\n    thermo_temperature_missing_data_thickness=6,\n    thermo_dewpoint_line_colour=\"purplish_red\",\n    thermo_dewpoint_line_thickness=6,\n    thermo_dewpoint_missing_data_colour=\"purplish_red\",\n    thermo_dewpoint_missing_data_thickness=6,\n)\n\n# define the output plot file\nmv.setoutput(mv.pdf_output(output_name=\"tephigram_bufr\"))\n\n# plot the profile\nmv.plot(view, prof, vis)"
      ]
    }
  ],
  "metadata": {
    "kernelspec": {
      "display_name": "Python 3",
      "language": "python",
      "name": "python3"
    },
    "language_info": {
      "codemirror_mode": {
        "name": "ipython",
        "version": 3
      },
      "file_extension": ".py",
      "mimetype": "text/x-python",
      "name": "python",
      "nbconvert_exporter": "python",
      "pygments_lexer": "ipython3",
      "version": "3.8.5"
    }
  },
  "nbformat": 4,
  "nbformat_minor": 0
}