{
  "cells": [
    {
      "cell_type": "code",
      "execution_count": null,
      "metadata": {
        "collapsed": false
      },
      "outputs": [],
      "source": [
        "%matplotlib inline"
      ]
    },
    {
      "cell_type": "markdown",
      "metadata": {},
      "source": [
        "\nSplit Contouring\n==============================================\n"
      ]
    },
    {
      "cell_type": "code",
      "execution_count": null,
      "metadata": {
        "collapsed": false
      },
      "outputs": [],
      "source": [
        "# (C) Copyright 2017- ECMWF.\n#\n# This software is licensed under the terms of the Apache Licence Version 2.0\n# which can be obtained at http://www.apache.org/licenses/LICENSE-2.0.\n#\n# In applying this licence, ECMWF does not waive the privileges and immunities\n# granted to it by virtue of its status as an intergovernmental organisation\n# nor does it submit to any jurisdiction.\n#\n\n# ---------------------------------------------------------------\n# Description: Demonstrates one way to emulate Metview 3's split\n#              contouring facility using multiple Contouring\n#              definitions in later Metview versions\n# ---------------------------------------------------------------\n\nimport metview as mv\n\nuse_mars = False\nif use_mars:\n    # Retrieve data from MARS\n    data = mv.retrieve(param=\"t\", levelist=1000, grid=[1.5, 1.5], date=-10)\nelse:\n    data = mv.read(\"t1000.grib\")\n\n\nsplit_below = mv.mcont(\n    contour_line_style=\"dash\",\n    contour_highlight_style=\"dash\",\n    contour_max_level=0,\n    contour_level_count=5,\n)\n\nsplit_above = mv.mcont(\n    contour_line_colour=\"red\",\n    contour_highlight_colour=\"red\",\n    contour_min_level=0,\n    contour_level_count=5,\n)\n\nsplit_on = mv.mcont(\n    contour_line_thickness=3,\n    contour_line_colour=\"black\",\n    contour_highlight=\"off\",\n    contour_max_level=0,\n    contour_min_level=0,\n)\n\n# define the output plot file\nmv.setoutput(mv.pdf_output(output_name=\"split_contour\"))\n\n# plot the data onto the map\nmv.plot(data, split_below, split_above, split_on)"
      ]
    }
  ],
  "metadata": {
    "kernelspec": {
      "display_name": "Python 3",
      "language": "python",
      "name": "python3"
    },
    "language_info": {
      "codemirror_mode": {
        "name": "ipython",
        "version": 3
      },
      "file_extension": ".py",
      "mimetype": "text/x-python",
      "name": "python",
      "nbconvert_exporter": "python",
      "pygments_lexer": "ipython3",
      "version": "3.8.5"
    }
  },
  "nbformat": 4,
  "nbformat_minor": 0
}