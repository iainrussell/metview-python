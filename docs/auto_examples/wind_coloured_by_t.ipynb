{
  "cells": [
    {
      "cell_type": "code",
      "execution_count": null,
      "metadata": {
        "collapsed": false
      },
      "outputs": [],
      "source": [
        "%matplotlib inline"
      ]
    },
    {
      "cell_type": "markdown",
      "metadata": {},
      "source": [
        "\nWind Coloured by Temperature\n==============================================\n"
      ]
    },
    {
      "cell_type": "code",
      "execution_count": null,
      "metadata": {
        "collapsed": false
      },
      "outputs": [],
      "source": [
        "# (C) Copyright 2017- ECMWF.\n#\n# This software is licensed under the terms of the Apache Licence Version 2.0\n# which can be obtained at http://www.apache.org/licenses/LICENSE-2.0.\n#\n# In applying this licence, ECMWF does not waive the privileges and immunities\n# granted to it by virtue of its status as an intergovernmental organisation\n# nor does it submit to any jurisdiction.\n#\n\nimport metview as mv\n\n# read grib file - contains model level data, one timestep\nfs = mv.read(source=\"fc_ml.grib\")\n\n# define model level to read\nlevel = 96  # around 500 hPa\n\n# read temperature and scale it to C\nt = mv.read(data=fs, param=\"t\", level=level)\nt = t - 273.16\n\n# read wind components\nu = mv.read(data=fs, param=\"u\", level=level)\nv = mv.read(data=fs, param=\"v\", level=level)\n\n# define wind plotting - will be coloured by temperature\nwp = mv.mwind(\n    wind_thinning_factor=1,\n    legend=\"on\",\n    wind_advanced_method=\"on\",\n    wind_advanced_colour_parameter=\"parameter\",\n    wind_advanced_colour_max_level_colour=\"red\",\n    wind_advanced_colour_min_level_colour=\"violet\",\n    wind_advanced_colour_direction=\"clockwise\",\n    wind_arrow_unit_velocity=35,\n    wind_arrow_thickness=2,\n)\n\n\n# define coastlines\ncoast = mv.mcoast(\n    map_coastline_land_shade=\"on\",\n    map_coastline_land_shade_colour=\"RGB(0.8,0.8,0.8)\",\n    map_coastline_sea_shade=\"on\",\n    map_coastline_sea_shade_colour=\"RGB(0.9,0.9,0.9)\",\n    map_coastline_colour=\"RGB(0.2,0.2,0.2)\",\n    map_coastline_resolution=\"medium\",\n)\n\n# define geo view\nview = mv.geoview(\n    coastlines=coast, map_area_definition=\"corners\", area=[30, -30, 75, 40]\n)\n\n# define the vector structure for plotting - wind will be coloured by t\nv = mv.grib_vectors(u_component=u, v_component=v, colouring_field=t)\n\n# define the output plot file\nmv.setoutput(mv.pdf_output(output_name=\"wind_coloured_by_t\"))\n\n# generate plot\nmv.plot(view, v, wp)"
      ]
    }
  ],
  "metadata": {
    "kernelspec": {
      "display_name": "Python 3",
      "language": "python",
      "name": "python3"
    },
    "language_info": {
      "codemirror_mode": {
        "name": "ipython",
        "version": 3
      },
      "file_extension": ".py",
      "mimetype": "text/x-python",
      "name": "python",
      "nbconvert_exporter": "python",
      "pygments_lexer": "ipython3",
      "version": "3.8.5"
    }
  },
  "nbformat": 4,
  "nbformat_minor": 0
}