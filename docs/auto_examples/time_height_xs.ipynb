{
  "cells": [
    {
      "cell_type": "code",
      "execution_count": null,
      "metadata": {
        "collapsed": false
      },
      "outputs": [],
      "source": [
        "%matplotlib inline"
      ]
    },
    {
      "cell_type": "markdown",
      "metadata": {},
      "source": [
        "\nTime-height Section\n==============================================\n"
      ]
    },
    {
      "cell_type": "code",
      "execution_count": null,
      "metadata": {
        "collapsed": false
      },
      "outputs": [],
      "source": [
        "# (C) Copyright 2017- ECMWF.\n#\n# This software is licensed under the terms of the Apache Licence Version 2.0\n# which can be obtained at http://www.apache.org/licenses/LICENSE-2.0.\n#\n# In applying this licence, ECMWF does not waive the privileges and immunities\n# granted to it by virtue of its status as an intergovernmental organisation\n# nor does it submit to any jurisdiction.\n#\n\nimport metview as mv\n\n# read GRIB forecast data\ndata = mv.read(\"joachim_pl.grib\")\n\n# the hovmoeller view takes an area as an input.\n# We define the location by shrinking down the area to a point\narea = [47, 0, 47, 0]  # N/W/E/S\n\n# read temperature fields and convert from K to C\nt = mv.read(data=data, param=\"t\")\nt = t - 273.16\n\n# read u and v fields and computes wind speed\nu = mv.read(data=data, param=\"u\")\nv = mv.read(data=data, param=\"v\")\nsp = mv.sqrt(u ** 2 + v ** 2)\nsp = mv.grib_set_long(sp, [\"paramId\", 10])\n\n# define isoline shading for speed\nsp_cont = mv.mcont(\n    legend=\"on\",\n    contour=\"off\",\n    contour_level_selection_type=\"interval\",\n    contour_max_level=90,\n    contour_min_level=0,\n    contour_interval=10,\n    contour_label=\"off\",\n    contour_shade=\"on\",\n    contour_shade_colour_method=\"palette\",\n    contour_shade_method=\"area_fill\",\n    contour_shade_palette_name=\"m_purple_9\",\n)\n\n# define contouring for t\nt_cont = mv.mcont(\n    contour_line_style=\"dash\",\n    contour_line_thickness=3,\n    contour_line_colour=\"charcoal\",\n    contour_highlight=\"off\",\n    contour_level_selection_type=\"interval\",\n    contour_interval=10,\n    contour_label_height=0.4,\n)\n\n# define time axis\ntime_axis = mv.maxis(\n    axis_type=\"date\",\n    axis_tick_label_height=0.4,\n    axis_date_type=\"hours\",\n    axis_days_label_height=0.4,\n    axis_hours_label=\"on\",\n    axis_hours_label_quality=\"high\",\n    axis_hours_label_height=0.3,\n)\n\n# define vertical axis\nvert_axis = mv.maxis(\n    axis_tick_label_height=0.4, axis_title_text=\"Pressure (hPa)\", axis_title_height=0.5\n)\n\n# define hovmoeller view\nview = mv.mhovmoellerview(\n    type=\"vertical_hovm\",\n    bottom_level=1000,\n    top_level=100,\n    area=area,\n    time_axis=time_axis,\n    vertical_axis=vert_axis,\n    subpage_y_position=5,\n)\n\n# define legend\nlegend = mv.mlegend(legend_text_font_size=0.3, legend_text_colour=\"charcoal\")\n\n# define title\ntitle = mv.mtext(text_font_size=0.4, text_colour=\"charcoal\")\n\n# define the output plot file\nmv.setoutput(mv.pdf_output(output_name=\"time_height_xs\"))\n\n# generate plot\nmv.plot(view, sp, sp_cont, t, t_cont, legend, title)"
      ]
    }
  ],
  "metadata": {
    "kernelspec": {
      "display_name": "Python 3",
      "language": "python",
      "name": "python3"
    },
    "language_info": {
      "codemirror_mode": {
        "name": "ipython",
        "version": 3
      },
      "file_extension": ".py",
      "mimetype": "text/x-python",
      "name": "python",
      "nbconvert_exporter": "python",
      "pygments_lexer": "ipython3",
      "version": "3.8.5"
    }
  },
  "nbformat": 4,
  "nbformat_minor": 0
}