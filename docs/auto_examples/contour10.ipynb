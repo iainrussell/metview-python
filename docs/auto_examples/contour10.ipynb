{
  "cells": [
    {
      "cell_type": "code",
      "execution_count": null,
      "metadata": {
        "collapsed": false
      },
      "outputs": [],
      "source": [
        "%matplotlib inline"
      ]
    },
    {
      "cell_type": "markdown",
      "metadata": {},
      "source": [
        "\nTemperature Below 0 Celsius\n============================\n"
      ]
    },
    {
      "cell_type": "code",
      "execution_count": null,
      "metadata": {
        "collapsed": false
      },
      "outputs": [],
      "source": [
        "#  **************************** LICENSE START ***********************************\n#\n#  Copyright 2018 ECMWF. This software is distributed under the terms\n#  of the Apache License version 2.0. In applying this license, ECMWF does not\n#  waive the privileges and immunities granted to it by virtue of its status as\n#  an Intergovernmental Organization or submit itself to any jurisdiction.\n#\n#  ***************************** LICENSE END ************************************\n\n# -------------------------------------------------------------------------\n# Description: Demonstrates how to define a contour level list so that only\n#              field values in a certain range are coloured.\n# -------------------------------------------------------------------------\n\nimport metview as mv\n\n# read the input grib file\nmy_data = mv.read(\"2m_temperature.grib\")\n\n# set up the background coastlines\nmy_background = mv.mcoast(\n    map_label=\"ON\",\n    map_grid_line_style=\"DASH\",\n    map_grid_colour=\"GREY\",\n    map_coastline_colour=\"BLACK\",\n    map_coastline_land_shade=\"ON\",\n    map_coastline_land_shade_colour=\"CREAM\",\n)\n\n# set up the geographical area\nmy_view = mv.geoview(\n    map_area_definition=\"CORNERS\",\n    map_projection=\"CYLINDRICAL\",\n    area=[35, -15, 70, 35],\n    coastlines=my_background,\n)\n\n# set up the contour so that only one level is coloured\nmy_contour = mv.mcont(\n    contour_level_selection_type=\"LEVEL_LIST\",\n    contour_level_list=[-70.00, 0.00],\n    contour_label=\"OFF\",\n    legend=\"ON\",\n    contour=\"OFF\",\n    contour_shade=\"ON\",\n    contour_shade_colour_method=\"LIST\",\n    contour_shade_method=\"AREA_FILL\",\n    contour_shade_colour_direction=\"ANTI_CLOCKWISE\",\n    contour_shade_colour_list=[\"rgba(0.498,0.8,0.8,0.6)\"],\n)\n\n\n# set-up the title\nmy_title = mv.mtext(\n    text_font_size=0.5,\n    text_lines=[\"<font size='0.7'>Temperature below 0C</font>\", \"<magics_title/>\", \"\"],\n    text_colour=\"CHARCOAL\",\n)\n\n# define the output plot file\nmv.setoutput(mv.pdf_output(output_name=\"contour10\"))\n\n# plot the data onto the map\nmv.plot(my_view, my_data, my_contour, my_title)"
      ]
    }
  ],
  "metadata": {
    "kernelspec": {
      "display_name": "Python 3",
      "language": "python",
      "name": "python3"
    },
    "language_info": {
      "codemirror_mode": {
        "name": "ipython",
        "version": 3
      },
      "file_extension": ".py",
      "mimetype": "text/x-python",
      "name": "python",
      "nbconvert_exporter": "python",
      "pygments_lexer": "ipython3",
      "version": "3.8.5"
    }
  },
  "nbformat": 4,
  "nbformat_minor": 0
}