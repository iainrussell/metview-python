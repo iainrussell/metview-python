{
  "cells": [
    {
      "cell_type": "code",
      "execution_count": null,
      "metadata": {
        "collapsed": false
      },
      "outputs": [],
      "source": [
        "%matplotlib inline"
      ]
    },
    {
      "cell_type": "markdown",
      "metadata": {},
      "source": [
        "\nContour Shading and Positional Legend\n======================================\n"
      ]
    },
    {
      "cell_type": "code",
      "execution_count": null,
      "metadata": {
        "collapsed": false
      },
      "outputs": [],
      "source": [
        "#  **************************** LICENSE START ***********************************\n#\n#  Copyright 2018 ECMWF. This software is distributed under the terms\n#  of the Apache License version 2.0. In applying this license, ECMWF does not\n#  waive the privileges and immunities granted to it by virtue of its status as\n#  an Intergovernmental Organization or submit itself to any jurisdiction.\n#\n#  ***************************** LICENSE END ************************************\n\n# ------------------------------------------------------------------\n# Description: Demonstrates how to show a field using contour shading and\n#              define a positional vertical legend.\n# ------------------------------------------------------------------\n\nimport metview as mv\n\n# read the input grib file\nmy_data = mv.read(\"t850.grb\")\n\n# set up the geographical view\nmy_view = mv.geoview(\n    map_area_definition=\"CORNERS\",\n    map_projection=\"CYLINDRICAL\",\n    area=[20.00, -20.00, 70.00, 50.00],\n)\n\n# set up the coastlines\nmy_coast = mv.mcoast(\n    map_coastline_thickness=3,\n    map_grid_thickness=2,\n    map_grid_colour=\"GREY\",\n    map_coastline_colour=\"RGB(0.4,0.4,0.4)\",\n    map_grid=\"ON\",\n)\n\n# set up the contour so that colour shading is used\nmy_contour = mv.mcont(\n    contour_level_selection_type=\"LEVEL_LIST\",\n    contour_level_list=[-20, -10, -5, -2.5, -1, -0.5, 0, 0.5, 1, 2.5, 5, 10, 20, 30],\n    contour_shade=\"ON\",\n    contour_shade_method=\"AREA_FILL\",\n    contour_shade_colour_method=\"CALCULATE\",\n    contour_shade_colour_direction=\"CLOCKWISE\",\n    contour_shade_max_level_colour=\"RED\",\n    contour_shade_min_level_colour=\"BLUE\",\n    contour_line_colour=\"GREY\",\n    contour_line_thickness=2,\n    contour_highlight=\"OFF\",\n    contour_label=\"OFF\",\n    legend=\"ON\",\n)\n\n# set up the position and properties of the legend\nmy_legend = mv.mlegend(\n    legend_title=\"ON\",\n    legend_box_mode=\"POSITIONAL\",\n    legend_box_x_position=26.00,\n    legend_box_x_length=2.00,\n    legend_box_y_position=2.00,\n    legend_box_y_length=10.00,\n    legend_display_type=\"CONTINUOUS\",\n    legend_border=\"OFF\",\n    legend_text_font_size=0.50,\n    legend_text_colour=\"NAVY\",\n    legend_title_text=\"850hpa Temperature\",\n    legend_title_orientation=\"VERTICAL\",\n)\n\n# set up the title\nmy_title = mv.mtext(\n    text_font_size=0.70,\n    text_lines=[\n        \"Contour shading and positional legend.\",\n        \"User-defined list of contour levels.\",\n        \"\",\n    ],\n    text_justification=\"LEFT\",\n    text_colour=\"CHARCOAL\",\n)\n\n\n# define the output plot file\nmv.setoutput(mv.pdf_output(output_name=\"contour5\"))\n\n# plot the data onto the map\nmv.plot(my_view, my_data, my_contour, my_legend, my_coast, my_title)"
      ]
    }
  ],
  "metadata": {
    "kernelspec": {
      "display_name": "Python 3",
      "language": "python",
      "name": "python3"
    },
    "language_info": {
      "codemirror_mode": {
        "name": "ipython",
        "version": 3
      },
      "file_extension": ".py",
      "mimetype": "text/x-python",
      "name": "python",
      "nbconvert_exporter": "python",
      "pygments_lexer": "ipython3",
      "version": "3.8.5"
    }
  },
  "nbformat": 4,
  "nbformat_minor": 0
}