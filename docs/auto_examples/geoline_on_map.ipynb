{
  "cells": [
    {
      "cell_type": "code",
      "execution_count": null,
      "metadata": {
        "collapsed": false
      },
      "outputs": [],
      "source": [
        "%matplotlib inline"
      ]
    },
    {
      "cell_type": "markdown",
      "metadata": {},
      "source": [
        "\nGeoline on Map\n==============================================\n"
      ]
    },
    {
      "cell_type": "code",
      "execution_count": null,
      "metadata": {
        "collapsed": false
      },
      "outputs": [],
      "source": [
        "# (C) Copyright 2017- ECMWF.\n#\n# This software is licensed under the terms of the Apache Licence Version 2.0\n# which can be obtained at http://www.apache.org/licenses/LICENSE-2.0.\n#\n# In applying this licence, ECMWF does not waive the privileges and immunities\n# granted to it by virtue of its status as an intergovernmental organisation\n# nor does it submit to any jurisdiction.\n#\n\n# ---------------------------------------------------------------\n# Description: Demonstrates how to plot a line on any map\n#              projection using function mvl_geoline.\n# ---------------------------------------------------------------\n\nimport metview as mv\n\n# set up the shaded coastlines\nland_sea_shade = mv.mcoast(\n    map_coastline_land_shade=\"on\",\n    map_coastline_land_shade_colour=\"RGB(0.98,0.95,0.82)\",\n    map_coastline_sea_shade=\"on\",\n    map_coastline_sea_shade_colour=\"RGB(0.85,0.93,1)\",\n)\n\n# define the geographic view\nview = mv.geoview(\n    map_projection=\"polar_stereographic\",\n    map_area_definition=\"corners\",\n    area=[-5, -30, 10, 84],  # S,W,N,E\n    coastlines=land_sea_shade,\n)\n\n# create a geoline broken into 1-degree segments\nline_increment_in_degrees = 1\n\n# coordinates of line end-points  given as lat1,lon1,lat2,lon2\ngeoline = mv.mvl_geoline(55, -22, 5, 45, line_increment_in_degrees)\n\n# define the plotting attributes for the line\nline_visdef = mv.mgraph(\n    graph_line_colour=\"red\", graph_line_thickness=\"4\", graph_line_style=\"dash\"\n)\n\n\n# define the output plot file\nmv.setoutput(mv.pdf_output(output_name=\"geoline_on_map\"))\n\n# plot the line on the map\nmv.plot(view, geoline, line_visdef)"
      ]
    }
  ],
  "metadata": {
    "kernelspec": {
      "display_name": "Python 3",
      "language": "python",
      "name": "python3"
    },
    "language_info": {
      "codemirror_mode": {
        "name": "ipython",
        "version": 3
      },
      "file_extension": ".py",
      "mimetype": "text/x-python",
      "name": "python",
      "nbconvert_exporter": "python",
      "pygments_lexer": "ipython3",
      "version": "3.8.5"
    }
  },
  "nbformat": 4,
  "nbformat_minor": 0
}