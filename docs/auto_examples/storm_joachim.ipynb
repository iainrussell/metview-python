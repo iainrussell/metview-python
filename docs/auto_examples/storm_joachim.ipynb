{
  "cells": [
    {
      "cell_type": "code",
      "execution_count": null,
      "metadata": {
        "collapsed": false
      },
      "outputs": [],
      "source": [
        "%matplotlib inline"
      ]
    },
    {
      "cell_type": "markdown",
      "metadata": {},
      "source": [
        "\nWindgust and MSLP with 10m Wind\n==============================================\n"
      ]
    },
    {
      "cell_type": "code",
      "execution_count": null,
      "metadata": {
        "collapsed": false
      },
      "outputs": [],
      "source": [
        "# (C) Copyright 2017- ECMWF.\n#\n# This software is licensed under the terms of the Apache Licence Version 2.0\n# which can be obtained at http://www.apache.org/licenses/LICENSE-2.0.\n#\n# In applying this licence, ECMWF does not waive the privileges and immunities\n# granted to it by virtue of its status as an intergovernmental organisation\n# nor does it submit to any jurisdiction.\n#\n\nimport metview as mv\n\n# read grib forecasts fields\ng = mv.read(\"joachim_surf.grib\")\n\n# define isoline shading for windgust\nwgust_shade = mv.mcont(\n    legend=\"on\",\n    contour=\"off\",\n    contour_level_selection_type=\"level_list\",\n    contour_level_list=[20, 26, 38],\n    contour_label=\"off\",\n    contour_shade=\"on\",\n    contour_shade_colour_method=\"gradients\",\n    contour_shade_method=\"area_fill\",\n    contour_gradients_colour_list=[\n        \"RGB(0.5325,0.6606,0.8401)\",\n        \"RGB(0.4321,0.3081,0.6801)\",\n        \"RGB(1,0.917,0.003922)\",\n    ],\n    contour_gradients_waypoint_method=\"left\",\n    contour_gradients_technique=\"hsl\",\n    contour_gradients_technique_direction=\"anti_clockwise\",\n    contour_gradients_step_list=[10, 8],\n)\n\n# define contours for MSLP\nmslp_sub_990 = mv.mcont(\n    contour_line_thickness=5,\n    contour_line_colour_rainbow=\"on\",\n    contour_line_colour_rainbow_max_level_colour=\"charcoal\",\n    contour_line_colour_rainbow_min_level_colour=\"black\",\n    contour_line_colour_rainbow_direction=\"clockwise\",\n    contour_highlight=\"off\",\n    contour_level_selection_type=\"level_list\",\n    contour_level_list=[970, 975, 980, 985],\n    contour_label_height=0.22,\n)\n\nmslp_990 = mv.mcont(\n    contour_line_thickness=2,\n    contour_line_colour=\"charcoal\",\n    contour_reference_level=990,\n    contour_highlight_colour=\"charcoal\",\n    contour_highlight_thickness=4,\n    contour_level_selection_type=\"interval\",\n    contour_min_level=990,\n    contour_interval=5,\n    contour_label_height=0.22,\n    grib_scaling_of_derived_fields=\"on\",\n)\n\n# define wind plotting for wind 10m\nwind_plotting = mv.mwind(\n    wind_thinning_factor=4,\n    legend=\"on\",\n    wind_arrow_colour=\"RGB(0.08476,0.08476,0.3309)\",\n    wind_arrow_min_speed=5,\n    wind_arrow_unit_velocity=20,\n)\n\n# define coastlines\ncoastlines = mv.mcoast(\n    map_coastline_colour=\"RGB(0.3127,0.3447,0.4089)\",\n    map_coastline_thickness=2,\n    map_coastline_resolution=\"medium\",\n    map_coastline_land_shade=\"on\",\n    map_coastline_land_shade_colour=\"RGB(0.4854,0.5278,0.6127)\",\n    map_coastline_sea_shade=\"on\",\n    map_coastline_sea_shade_colour=\"RGB(0.8471,0.8471,0.8471)\",\n    map_boundaries=\"on\",\n    map_boundaries_colour=\"RGB(0.7294,0.7294,0.7294)\",\n    map_boundaries_thickness=2,\n    map_label_height=0.1,\n)\n\n# define geographical view\nview = mv.geoview(\n    map_projection=\"polar_stereographic\",\n    map_area_definition=\"corners\",\n    area=[31.14, -18.25, 56.63, 54.87],\n    map_vertical_longitude=4,\n    coastlines=coastlines,\n)\n\n# filter fields to be plotted\nwg = mv.read(data=g, param=\"10fg6\", step=24)\nmslp = mv.read(data=g, param=\"msl\", step=24)\nwind10 = mv.read(data=g, param=[\"10u\", \"10v\"], step=24)\n\n# define the output plot file\nmv.setoutput(mv.pdf_output(output_name=\"storm_joachim\"))\n\n# generate plot\nmv.plot(view, wg, wgust_shade, mslp, mslp_990, mslp_sub_990, wind10, wind_plotting)"
      ]
    }
  ],
  "metadata": {
    "kernelspec": {
      "display_name": "Python 3",
      "language": "python",
      "name": "python3"
    },
    "language_info": {
      "codemirror_mode": {
        "name": "ipython",
        "version": 3
      },
      "file_extension": ".py",
      "mimetype": "text/x-python",
      "name": "python",
      "nbconvert_exporter": "python",
      "pygments_lexer": "ipython3",
      "version": "3.8.5"
    }
  },
  "nbformat": 4,
  "nbformat_minor": 0
}