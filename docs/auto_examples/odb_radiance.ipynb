{
  "cells": [
    {
      "cell_type": "code",
      "execution_count": null,
      "metadata": {
        "collapsed": false
      },
      "outputs": [],
      "source": [
        "%matplotlib inline"
      ]
    },
    {
      "cell_type": "markdown",
      "metadata": {},
      "source": [
        "\nODB Radiance Map\n==============================================\n"
      ]
    },
    {
      "cell_type": "code",
      "execution_count": null,
      "metadata": {
        "collapsed": false
      },
      "outputs": [],
      "source": [
        "# (C) Copyright 2017- ECMWF.\n#\n# This software is licensed under the terms of the Apache Licence Version 2.0\n# which can be obtained at http://www.apache.org/licenses/LICENSE-2.0.\n#\n# In applying this licence, ECMWF does not waive the privileges and immunities\n# granted to it by virtue of its status as an intergovernmental organisation\n# nor does it submit to any jurisdiction.\n#\n\n\nimport metview as mv\n\n# define channel\nchannel = 5  # 5,6\n\n# read ODB\namsua_odb = mv.read(\"amsua.odb\")\n\n# filter channel and define plot data\nvis = mv.odb_visualiser(\n    odb_where=\"vertco_reference_1@body = \" + str(channel), odb_data=amsua_odb\n)\n\n# find out value range\nf = mv.odb_filter(\n    odb_query=\"select obsvalue@body as val where vertco_reference_1@body = \"\n    + str(channel),\n    odb_data=amsua_odb,\n)\n\nval = mv.values(f, \"val\")\nv1 = mv.minvalue(val)\nv2 = mv.maxvalue(val)\n\n# symbol plotting (adjusted to the actual min and max)\nsymbol_fixed = mv.msymb(\n    legend=\"on\",\n    symbol_type=\"marker\",\n    symbol_table_mode=\"advanced\",\n    symbol_advanced_table_selection_type=\"interval\",\n    symbol_advanced_table_min_value=v1,\n    symbol_advanced_table_max_value=v2,\n    symbol_advanced_table_interval=5,\n    symbol_advanced_table_max_level_colour=\"red\",\n    symbol_advanced_table_min_level_colour=\"blue\",\n    symbol_advanced_table_colour_direction=\"clockwise\",\n    symbol_advanced_table_marker_list=3,\n    symbol_advanced_table_height_list=0.15,\n)\n\n# coastlines\ncoast = mv.mcoast(\n    map_coastline_colour=\"RGB(0.5,0.5,0.5)\",\n    map_coastline_resolution=\"low\",\n    map_coastline_land_shade=\"on\",\n    map_coastline_land_shade_colour=\"RGB(0.21,0.21,0.21)\",\n    map_coastline_sea_shade=\"on\",\n    map_coastline_sea_shade_colour=\"RGB(0.67,0.69,0.69)\",\n    map_grid_colour=\"RGB(0.38,0.37,0.37)\",\n)\n\n# legend with histogram\nlegend = mv.mlegend(legend_display_type=\"histogram\")\n\n# title\ntitle = mv.mtext(\n    text_line_count=2,\n    text_line_1=\"Date: 2010-12-22 Time: 00\",\n    text_line_2=\"Sat: METOP-A  Sensor: AMSU-A  Channel: \"\n    + str(channel)\n    + \" Param: Tb [K]\",\n)\n\n# define the output plot file\nmv.setoutput(mv.pdf_output(output_name=\"odb_radiance\"))\n\n# plot\nmv.plot(coast, vis, symbol_fixed, legend, title)"
      ]
    }
  ],
  "metadata": {
    "kernelspec": {
      "display_name": "Python 3",
      "language": "python",
      "name": "python3"
    },
    "language_info": {
      "codemirror_mode": {
        "name": "ipython",
        "version": 3
      },
      "file_extension": ".py",
      "mimetype": "text/x-python",
      "name": "python",
      "nbconvert_exporter": "python",
      "pygments_lexer": "ipython3",
      "version": "3.8.5"
    }
  },
  "nbformat": 4,
  "nbformat_minor": 0
}