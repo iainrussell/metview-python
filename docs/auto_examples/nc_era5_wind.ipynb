{
  "cells": [
    {
      "cell_type": "code",
      "execution_count": null,
      "metadata": {
        "collapsed": false
      },
      "outputs": [],
      "source": [
        "%matplotlib inline"
      ]
    },
    {
      "cell_type": "markdown",
      "metadata": {},
      "source": [
        "\nNetCDF Wind\n==============================================\n"
      ]
    },
    {
      "cell_type": "code",
      "execution_count": null,
      "metadata": {
        "collapsed": false
      },
      "outputs": [],
      "source": [
        "# (C) Copyright 2017- ECMWF.\n#\n# This software is licensed under the terms of the Apache Licence Version 2.0\n# which can be obtained at http://www.apache.org/licenses/LICENSE-2.0.\n#\n# In applying this licence, ECMWF does not waive the privileges and immunities\n# granted to it by virtue of its status as an intergovernmental organisation\n# nor does it submit to any jurisdiction.\n#\n\nimport metview as mv\n\n# read ERA5 monthly mean\nnc = mv.read(\"era5_2000_aug.nc\")\n\n# this NetCDF data has the following structure:\n#\n# dimensions:\n# \tlongitude = 1440 ;\n# \tlatitude = 721 ;\n# \ttime = 1 ;\n# variables:\n# \tfloat longitude(longitude) ;\n# \tfloat latitude(latitude) ;\n# \tint time(time) ;\n# \tshort u10(time, latitude, longitude) ;\n# \tshort v10(time, latitude, longitude) ;\n\n# define netcdf plotting based on the data structure above\nvis = mv.netcdf_visualiser(\n    netcdf_plot_type=\"geo_matrix_vectors\",\n    netcdf_latitude_variable=\"latitude\",\n    netcdf_longitude_variable=\"longitude\",\n    netcdf_x_component_variable=\"u10\",\n    netcdf_y_component_variable=\"v10\",\n    netcdf_data=nc,\n)\n\n# define wind plotting\nwind_plotting = mv.mwind(\n    wind_thinning_factor=6,\n    legend=\"on\",\n    wind_advanced_method=\"on\",\n    wind_advanced_colour_selection_type=\"interval\",\n    wind_advanced_colour_min_value=1,\n    wind_advanced_colour_level_interval=1,\n    wind_advanced_colour_max_level_colour=\"RGB(0.9765,0.003845,0.1498)\",\n    wind_advanced_colour_min_level_colour=\"RGB(0.1628,0.1959,0.8255)\",\n    wind_arrow_unit_velocity=8,\n)\n\n# define coastlines\ncoastlines = mv.mcoast(\n    map_coastline_land_shade=\"on\",\n    map_coastline_land_shade_colour=\"RGB(0.8,0.8,0.8)\",\n    map_coastline_sea_shade=\"on\",\n    map_coastline_sea_shade_colour=\"RGB(0.949,0.949,0.949)\",\n    map_grid_colour=\"RGB(0.337,0.314,0.314)\",\n)\n\n# define geographical view\nview = mv.geoview(\n    map_projection=\"polar_stereographic\",\n    map_area_definition=\"corners\",\n    area=[1.77, -70.71, 28.28, 44.99],\n    map_vertical_longitude=-40,\n    coastlines=coastlines,\n)\n\n# define title\ntitle = mv.mtext(\n    text_lines=[\"ERA5 - 10m wind - August 2000 monthly mean\"], text_font_size=0.4\n)\n\n# define output\nmv.setoutput(mv.pdf_output(output_name=\"nc_era5_wind\"))\n\n# generate plot\nmv.plot(view, vis, wind_plotting, title)"
      ]
    }
  ],
  "metadata": {
    "kernelspec": {
      "display_name": "Python 3",
      "language": "python",
      "name": "python3"
    },
    "language_info": {
      "codemirror_mode": {
        "name": "ipython",
        "version": 3
      },
      "file_extension": ".py",
      "mimetype": "text/x-python",
      "name": "python",
      "nbconvert_exporter": "python",
      "pygments_lexer": "ipython3",
      "version": "3.8.5"
    }
  },
  "nbformat": 4,
  "nbformat_minor": 0
}