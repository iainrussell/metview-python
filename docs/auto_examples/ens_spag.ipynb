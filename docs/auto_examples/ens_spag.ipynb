{
  "cells": [
    {
      "cell_type": "code",
      "execution_count": null,
      "metadata": {
        "collapsed": false
      },
      "outputs": [],
      "source": [
        "%matplotlib inline"
      ]
    },
    {
      "cell_type": "markdown",
      "metadata": {},
      "source": [
        "\nENS Spaghetti Map\n==============================================\n"
      ]
    },
    {
      "cell_type": "code",
      "execution_count": null,
      "metadata": {
        "collapsed": false
      },
      "outputs": [],
      "source": [
        "# (C) Copyright 2017- ECMWF.\n#\n# This software is licensed under the terms of the Apache Licence Version 2.0\n# which can be obtained at http://www.apache.org/licenses/LICENSE-2.0.\n#\n# In applying this licence, ECMWF does not waive the privileges and immunities\n# granted to it by virtue of its status as an intergovernmental organisation\n# nor does it submit to any jurisdiction.\n#\nimport metview as mv\n\n# read the ENS forecast\nz = mv.read(\"z850_ens.grib\")\n\n# define contour line for perturbed members (pf)\ncont_pf = mv.mcont(\n    contour_label=\"off\",\n    contour_level_selection_type=\"level_list\",\n    contour_level_list=125,\n    contour_line_colour=\"blue\",\n    contour_highlight=\"off\",\n    grib_scaling_of_derived_fields=\"on\",\n)\n\n# define contour line for control forecast (cf)\ncont_cf = mv.mcont(cont_pf, contour_line_colour=\"red\", contour_line_thickness=3)\n\n# define coastlines\ncoast = mv.mcoast(\n    map_coastline_land_shade=\"on\",\n    map_coastline_land_shade_colour=\"grey\",\n    map_coastline_sea_shade=\"on\",\n    map_coastline_sea_shade_colour=\"RGB(0.8944,0.9086,0.933)\",\n    map_coastline_thickness=2,\n    map_boundaries=\"on\",\n    map_boundaries_colour=\"charcoal\",\n    map_label=\"off\",\n    map_grid_colour=\"RGB(0.6, 0.6, 0.6)\",\n    map_grid_longitude_increment=10,\n)\n\n# define map view\nview = mv.geoview(\n    map_area_definition=\"corners\", area=[40, -18, 60, 10], coastlines=coast\n)\n\n# define the output plot file\nmv.setoutput(mv.pdf_output(output_name=\"ens_spag\"))\n\n# perturbed forecasts\npf = []\nfor i in range(1, 51):\n    f = mv.read(data=z, type=\"pf\", number=i)\n    pf.append(f)\n\n# control forecast\ncf = mv.read(data=z, type=\"cf\")\n\n# define title (this solution prevents the title\n# from appearing 51 times in the plot!!)\ntitle = mv.mtext(\n    text_line_1=\"Z 850 hPa Value: 125 dkm T+<grib_info key='step' where='number=50' /> h\",\n    text_font_size=0.5,\n)\n\nmv.plot(view, pf, cont_pf, cf, cont_cf, title)"
      ]
    }
  ],
  "metadata": {
    "kernelspec": {
      "display_name": "Python 3",
      "language": "python",
      "name": "python3"
    },
    "language_info": {
      "codemirror_mode": {
        "name": "ipython",
        "version": 3
      },
      "file_extension": ".py",
      "mimetype": "text/x-python",
      "name": "python",
      "nbconvert_exporter": "python",
      "pygments_lexer": "ipython3",
      "version": "3.8.5"
    }
  },
  "nbformat": 4,
  "nbformat_minor": 0
}