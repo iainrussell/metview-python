{
  "cells": [
    {
      "cell_type": "code",
      "execution_count": null,
      "metadata": {
        "collapsed": false
      },
      "outputs": [],
      "source": [
        "%matplotlib inline"
      ]
    },
    {
      "cell_type": "markdown",
      "metadata": {},
      "source": [
        "\nSSt on Extended Cylindrical Map\n==============================================\n"
      ]
    },
    {
      "cell_type": "code",
      "execution_count": null,
      "metadata": {
        "collapsed": false
      },
      "outputs": [],
      "source": [
        "# (C) Copyright 2017- ECMWF.\n#\n# This software is licensed under the terms of the Apache Licence Version 2.0\n# which can be obtained at http://www.apache.org/licenses/LICENSE-2.0.\n#\n# In applying this licence, ECMWF does not waive the privileges and immunities\n# granted to it by virtue of its status as an intergovernmental organisation\n# nor does it submit to any jurisdiction.\n#\n\nimport metview as mv\n\n# read GRIB\nsst = mv.read(\"sst.grib\")\n\n# define contouring\ncont = mv.mcont(contour_automatic_setting=\"ecmwf\", legend=\"on\")\n\n# define land-sea shading\ncoast = mv.mcoast(\n    map_coastline_land_shade=\"on\",\n    map_coastline_land_shade_colour=\"RGB(0.16,0.16,0.16)\",\n    map_coastline_sea_shade=\"on\",\n    map_coastline_sea_shade_colour=\"RGB(0.4686,0.4686,0.4686)\",\n    map_coastline_colour=\"RGB(0.6686,0.6686,0.6686)\",\n    map_grid_colour=\"RGB(0.2686,0.2686,0.2686)\",\n    map_grid_longitude_increment=30,\n    map_grid_latitude_increment=20,\n)\n\n\n# define the view - recentred and lon range is larger than 360!\nview = mv.geoview(\n    map_area_definition=\"corners\", area=[-90, 20, 90, 420], coastlines=coast\n)\n\n# define the output plot file\nmv.setoutput(mv.pdf_output(output_name=\"sst_extended_latlon\"))\n\n# generate plot\nmv.plot(view, sst, cont)"
      ]
    }
  ],
  "metadata": {
    "kernelspec": {
      "display_name": "Python 3",
      "language": "python",
      "name": "python3"
    },
    "language_info": {
      "codemirror_mode": {
        "name": "ipython",
        "version": 3
      },
      "file_extension": ".py",
      "mimetype": "text/x-python",
      "name": "python",
      "nbconvert_exporter": "python",
      "pygments_lexer": "ipython3",
      "version": "3.8.5"
    }
  },
  "nbformat": 4,
  "nbformat_minor": 0
}