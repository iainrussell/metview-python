{
  "cells": [
    {
      "cell_type": "code",
      "execution_count": null,
      "metadata": {
        "collapsed": false
      },
      "outputs": [],
      "source": [
        "%matplotlib inline"
      ]
    },
    {
      "cell_type": "markdown",
      "metadata": {},
      "source": [
        "\nBUFR Temp Map\n==============================================\n"
      ]
    },
    {
      "cell_type": "code",
      "execution_count": null,
      "metadata": {
        "collapsed": false
      },
      "outputs": [],
      "source": [
        "# (C) Copyright 2017- ECMWF.\n#\n# This software is licensed under the terms of the Apache Licence Version 2.0\n# which can be obtained at http://www.apache.org/licenses/LICENSE-2.0.\n#\n# In applying this licence, ECMWF does not waive the privileges and immunities\n# granted to it by virtue of its status as an intergovernmental organisation\n# nor does it submit to any jurisdiction.\n#\n\nimport metview as mv\nimport math\n\n# read BUFR data\nb = mv.read(\"temp.bufr\")\n\n# define station id\nstatid = \"78583\"\n\n# extract thermo profile\nnc = mv.thermo_bufr(data=b, station=mv.stations(search_key=\"ident\", ident=statid))\n\n# get individual profiles as vectors. Values are sorted by descending\n# pressure, no missing values includes.\ninfo = mv.thermo_data_values(nc, 0)\np = info[\"p_wind\"]\nu = info[\"u\"]\nv = info[\"v\"]\n\n# define the hodograph background\nhodo_incr = 5\nhodo_highlight = [10, 20, 30]\nhodo_labels = [10, 20, 30]\nhodo_max = 35\nhodo_colour = \"black\"\n\n# define the wind speed bins and their associated colours\npres_bins = [1050, 700, 500, 300, 200, 50]\npres_colours = [\"red\", \"kelly_green\", \"sky\", \"blue\", \"magenta\"]\n\n# define horizontal and vertical  axes\nh_axis = mv.maxis(axis_position=\"left\", axis_tick_label_height=0.4)\n\nv_axis = mv.maxis(axis_position=\"bottom\", axis_tick_label_height=0.4)\n\n# the view\nview = mv.cartesianview(\n    x_automatic=\"off\",\n    x_min=-hodo_max,\n    x_max=hodo_max,\n    y_automatic=\"off\",\n    y_min=-hodo_max,\n    y_max=hodo_max,\n    horizontal_axis=h_axis,\n    vertical_axis=h_axis,\n    subpage_x_position=10,\n    subpage_y_position=5,\n    subpage_x_length=80,\n    subpage_y_length=80,\n)\n\n# define the plot page and superpage.\n# NOTE: In order to correctly render the hodograph (we want\n# concentric circles instead of ellipses) we have to make sure\n# that the physical width and height of the plot are the same.\n# Please note that while the page size is defined in % the\n# superpage size is defined in cm! See also subpage size in the view.\n\n# size is in % of the physical size of the superpage!\nhodo_page = mv.plot_page(top=0, bottom=100, left=0, right=100, view=view)\n\n# size is in cm!\ndw = mv.plot_superpage(\n    layout_size=\"custom\", custom_width=15, custom_height=15, pages=hodo_page\n)\n\ngr_lst = []\n\n# build the concentric circles\nsp = hodo_incr\nangle_incr = 2 * math.pi / 180\nwhile sp <= hodo_max:\n    xp = [math.cos(i * angle_incr) * sp for i in range(1, 182)]\n    yp = [math.sin(i * angle_incr) * sp for i in range(1, 182)]\n\n    if sp in hodo_highlight:\n        gr = mv.xy_curve(xp, yp, hodo_colour, \"solid\", 3)\n    else:\n        gr = mv.xy_curve(xp, yp, hodo_colour, \"solid\", 1)\n\n    gr_lst.append(gr)\n    sp += hodo_incr\n\n# build horizontal and vertical lines going\n# throug the centre\ngr_lst.append(mv.xy_curve([-hodo_max, hodo_max], [0, 0], hodo_colour, \"solid\", 1))\ngr_lst.append(mv.xy_curve([0, 0], [-hodo_max, hodo_max], hodo_colour, \"solid\", 1))\n\n# build labels on the horizontal line\nvis = mv.input_visualiser(\n    input_plot_type=\"xy_point\",\n    input_x_values=[-v for v in hodo_labels] + hodo_labels,\n    input_y_values=[0 for i in range(len(hodo_labels) * 2)],\n    input_values=hodo_labels + hodo_labels,\n)\n\nsym = mv.msymb(\n    symbol_colour=hodo_colour,\n    symbol_text_font_size=0.5,\n    symbol_text_font_style=\"bold\",\n    symbol_text_position=\"bottom\",\n)\n\ngr_lst.extend([vis, sym])\n\n# build the graphical objects for the wind data (per bin)\ngr_wind = []\nfor i in range(len(pres_bins) - 1):\n\n    # collect wind data in bin\n    u_val = []\n    v_val = []\n    for k in range(len(p)):\n        if (\n            not math.isnan(p[k])\n            and not math.isnan(u[k])\n            and not math.isnan(v[k])\n            and p[k] <= pres_bins[i]\n            and p[k] >= pres_bins[i + 1]\n        ):\n            u_val.append(u[k])\n            v_val.append(v[k])\n\n    # build graph object\n    if u_val and v_val:\n        vis = mv.input_visualiser(input_x_values=u_val, input_y_values=v_val)\n\n        gr = mv.mgraph(\n            legend=\"on\",\n            graph_line_colour=pres_colours[i],\n            graph_line_style=\"solid\",\n            graph_line_thickness=5,\n        )\n        gr_wind.extend([vis, gr])\n\n# define legend with custom labels\nlegend_text = []\nfor i in range(len(pres_bins) - 1):\n    legend_text.append(str(pres_bins[i]) + \"-\" + str(pres_bins[i + 1]))\n\nlegend = mv.mlegend(\n    legend_display_type=\"disjoint\",\n    legend_text_font_size=0.5,\n    legend_text_composition=\"user_text_only\",\n    legend_user_lines=legend_text,\n)\n\n# define title\ntitle_txt = \"HODOGRAPH Date: {} {} Station: {} Lat/Lon: {}/{}\".format(\n    info[\"date\"], info[\"time\"], info[\"station\"], info[\"lat\"], info[\"lon\"]\n)\n\ntitle = mv.mtext(text_lines=title_txt, text_font_size=0.5, text_colour=\"charcoal\")\n\n# define the output plot file\nmv.setoutput(mv.pdf_output(output_name=\"hodograph\"))\n\n# generate the plot\nmv.plot(dw, gr_lst, gr_wind, legend, title)"
      ]
    }
  ],
  "metadata": {
    "kernelspec": {
      "display_name": "Python 3",
      "language": "python",
      "name": "python3"
    },
    "language_info": {
      "codemirror_mode": {
        "name": "ipython",
        "version": 3
      },
      "file_extension": ".py",
      "mimetype": "text/x-python",
      "name": "python",
      "nbconvert_exporter": "python",
      "pygments_lexer": "ipython3",
      "version": "3.8.5"
    }
  },
  "nbformat": 4,
  "nbformat_minor": 0
}