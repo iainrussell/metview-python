{
  "cells": [
    {
      "cell_type": "code",
      "execution_count": null,
      "metadata": {
        "collapsed": false
      },
      "outputs": [],
      "source": [
        "%matplotlib inline"
      ]
    },
    {
      "cell_type": "markdown",
      "metadata": {},
      "source": [
        "\nColoured observation values\n============================\n"
      ]
    },
    {
      "cell_type": "code",
      "execution_count": null,
      "metadata": {
        "collapsed": false
      },
      "outputs": [],
      "source": [
        "import metview as mv\n\n# read BUFR data\ntemp = mv.read(\"temp.bufr\")\n\n# filter just the 500 hPa temperature from the obs data (Geopoints)\ngpt = mv.obsfilter(\n    output=\"geopoints\",\n    parameter=\"airTemperature\",\n    level=\"single\",\n    first_level=500,\n    data=temp,\n)\n\n# convert values to C units\ngpt = gpt - 273.16\n\n# define coloured value (as number) plotting\nsym = mv.msymb(\n    legend=\"on\",\n    symbol_table_mode=\"advanced\",\n    symbol_format=\"(F3.1)\",\n    symbol_advanced_table_selection_type=\"interval\",\n    symbol_advanced_table_interval=1,\n    symbol_advanced_table_max_level_colour=\"red\",\n    symbol_advanced_table_min_level_colour=\"lavender\",\n    symbol_advanced_table_colour_director=\"clockwise\",\n    symbol_advanced_table_text_font_size=0.6,\n)\n\n# shaded land and sea\ncoast = mv.mcoast(\n    map_coastline_land_shade=\"on\",\n    map_coastline_land_shade_colour=\"RGB(0.29,0.29,0.29)\",\n    map_coastline_sea_shade=\"on\",\n    map_coastline_sea_shade_colour=\"RGB(0.49,0.49,0.49)\",\n    map_coastline_colour=\"RGB(0.59,0.59,0.59)\",\n    map_grid_latitude_increment=10,\n    map_grid_longitude_increment=20,\n    map_grid_colour=\"RGB(0.25,0.25,0.25)\",\n)\n\n# adjust the legend\nlegend = mv.mlegend(legend_text_font_size=0.3)\n\n# define title\ntitle = mv.mtext(text_lines=\"Radiosonde - Temperature at 500 hPa\", text_font_size=0.4)\n\n# set the view area\nview = mv.geoview(\n    map_area_definition=\"corners\", area=[7, -105, 35, -55], coastlines=coast\n)\n\n# define the output plot file\nmv.setoutput(mv.pdf_output(output_name=\"coloured_obs_values\"))\n\n# plot the data with the style\nmv.plot(view, gpt, sym, legend, title)"
      ]
    }
  ],
  "metadata": {
    "kernelspec": {
      "display_name": "Python 3",
      "language": "python",
      "name": "python3"
    },
    "language_info": {
      "codemirror_mode": {
        "name": "ipython",
        "version": 3
      },
      "file_extension": ".py",
      "mimetype": "text/x-python",
      "name": "python",
      "nbconvert_exporter": "python",
      "pygments_lexer": "ipython3",
      "version": "3.8.5"
    }
  },
  "nbformat": 4,
  "nbformat_minor": 0
}