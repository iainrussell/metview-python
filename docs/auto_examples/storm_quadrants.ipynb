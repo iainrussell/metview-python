{
  "cells": [
    {
      "cell_type": "code",
      "execution_count": null,
      "metadata": {
        "collapsed": false
      },
      "outputs": [],
      "source": [
        "%matplotlib inline"
      ]
    },
    {
      "cell_type": "markdown",
      "metadata": {},
      "source": [
        "\nStorm Wind Quadrants\n==============================================\n"
      ]
    },
    {
      "cell_type": "code",
      "execution_count": null,
      "metadata": {
        "collapsed": false
      },
      "outputs": [],
      "source": [
        "# (C) Copyright 2017- ECMWF.\n#\n# This software is licensed under the terms of the Apache Licence Version 2.0\n# which can be obtained at http://www.apache.org/licenses/LICENSE-2.0.\n#\n# In applying this licence, ECMWF does not waive the privileges and immunities\n# granted to it by virtue of its status as an intergovernmental organisation\n# nor does it submit to any jurisdiction.\n#\n\nimport metview as mv\n\n# read CSV file with the track positions and quadrant sizes in (km)\ntbl = mv.read_table(\n    table_delimiter=\" \",\n    table_combine_delimiters=\"on\",\n    table_header_row=0,\n    table_filename=\"dorian_track.csv\",\n)\n\n# read track and quadrant details into a set of vectors\nlon = mv.values(tbl, 1)\nlat = mv.values(tbl, 0)\nquad1 = mv.values(tbl, 2)\nquad2 = mv.values(tbl, 3)\nquad3 = mv.values(tbl, 4)\nquad4 = mv.values(tbl, 5)\n\n# build input visualiser objects to represent storm quadrants\nquad_vis = []\nfor i in range(len(lon)):\n    radiusLst = [quad1[i], quad2[i], quad3[i], quad4[i]]\n    quad_vis.append(mv.mvl_geocircle(lat[i], lon[i], radiusLst, 40))\n\n# create visual definition for storm quadrants\nquad_graph = mv.mgraph(\n    graph_type=\"area\",\n    graph_shade_colour=\"RGB(0.6532,0.8642,0.9546)\",\n    graph_line_colour=\"blue\",\n    graph_line_thickness=\"3\",\n    graph_line_style=\"solid\",\n)\n\n# create visualiser for the track\ntrack_vis = mv.input_visualiser(\n    input_plot_type=\"geo_points\",\n    input_longitude_values=list(lon),\n    input_latitude_values=list(lat),\n)\n\n# create visual definition for the track\ntrack_graph = mv.mgraph(\n    graph_line_colour=\"red\",\n    graph_line_thickness=4,\n    graph_symbol=\"on\",\n    graph_symbol_colour=\"white\",\n    graph_symbol_height=0.5,\n    graph_symbol_marker_index=15,\n    graph_symbol_outline=\"on\",\n    graph_symbol_outline_colour=\"red\",\n)\n\n# define coastlines\ncoast = mv.mcoast(\n    map_coastline_colour=\"RGB(0.2449,0.2414,0.2414)\",\n    map_coastline_thickness=3,\n    map_coastline_resolution=\"low\",\n    map_coastline_land_shade=\"on\",\n    map_coastline_land_shade_colour=\"RGB(0.5333,0.5333,0.5333)\",\n    map_coastline_sea_shade=\"on\",\n    map_coastline_sea_shade_colour=\"RGB(0.8358,0.8469,0.8662)\",\n    map_boundaries=\"on\",\n    map_boundaries_colour=\"mustard\",\n    map_boundaries_thickness=2,\n    map_grid_colour=\"RGB(0.2627,0.2627,0.2627)\",\n)\n\n# define geographical view\nview = mv.geoview(\n    map_projection=\"polar_stereographic\",\n    map_area_definition=\"corners\",\n    area=[17.78, -99.6, 41.38, -35.65],\n    map_vertical_longitude=-85,\n    coastlines=coast,\n)\n\n# define tile\ntitle = mv.mtext(\n    text_lines=[\"Storm track and quadrant-based extent of storm Dorian\"],\n    text_font_size=0.4,\n)\n\n# define the output plot file\nmv.setoutput(mv.pdf_output(output_name=\"storm_quadrants\"))\n\nmv.plot(view, quad_vis, quad_graph, track_vis, track_graph, title)"
      ]
    }
  ],
  "metadata": {
    "kernelspec": {
      "display_name": "Python 3",
      "language": "python",
      "name": "python3"
    },
    "language_info": {
      "codemirror_mode": {
        "name": "ipython",
        "version": 3
      },
      "file_extension": ".py",
      "mimetype": "text/x-python",
      "name": "python",
      "nbconvert_exporter": "python",
      "pygments_lexer": "ipython3",
      "version": "3.8.5"
    }
  },
  "nbformat": 4,
  "nbformat_minor": 0
}