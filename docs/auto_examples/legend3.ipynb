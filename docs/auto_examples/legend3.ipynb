{
  "cells": [
    {
      "cell_type": "code",
      "execution_count": null,
      "metadata": {
        "collapsed": false
      },
      "outputs": [],
      "source": [
        "%matplotlib inline"
      ]
    },
    {
      "cell_type": "markdown",
      "metadata": {},
      "source": [
        "\nHistogram Legend\n==============================================\n"
      ]
    },
    {
      "cell_type": "code",
      "execution_count": null,
      "metadata": {
        "collapsed": false
      },
      "outputs": [],
      "source": [
        "# (C) Copyright 2017- ECMWF.\n#\n# This software is licensed under the terms of the Apache Licence Version 2.0\n# which can be obtained at http://www.apache.org/licenses/LICENSE-2.0.\n#\n# In applying this licence, ECMWF does not waive the privileges and immunities\n# granted to it by virtue of its status as an intergovernmental organisation\n# nor does it submit to any jurisdiction.\n#\n\n# ------------------------------------------------------------------\n# Description: Demonstrates how to combine two fields into a single plot\n#              using contour and shade. A histogram legend is used for one\n#              of the fields.\n# ------------------------------------------------------------------\n\nimport metview as mv\n\n# read the input grib files (temperature and geopotential)\nmy_data1 = mv.read(\"./t850.grb\")\nmy_data2 = mv.read(\"./z500.grb\")\n\n# set up the geographical view\nmy_view = mv.geoview(\n    map_area_definition=\"CORNERS\",\n    map_projection=\"POLAR_STEREOGRAPHIC\",\n    area=[21.51, -37.27, 51.28, 65.00],\n)\n\n# set up a shade contour with legend for the temperature field\nmy_contour1 = mv.mcont(\n    contour_level_selection_type=\"LEVEL_LIST\",\n    contour_level_list=[-10.0, -8.0, -6.0, -4.0, -2.0, 0.0, 2.0, 4.0, 6.0, 8.0, 10.0],\n    contour=\"OFF\",\n    contour_label=\"OFF\",\n    contour_hilo=\"OFF\",\n    legend=\"ON\",\n    contour_shade=\"ON\",\n    contour_shade_method=\"AREA_FILL\",\n    contour_shade_colour_direction=\"CLOCKWISE\",\n    contour_shade_max_level_colour=\"RED\",\n    contour_shade_min_level_colour=\"BLUE\",\n)\n\n# set up a black contour line for the geopotential field\nmy_contour2 = mv.mcont(\n    contour_level_selection_type=\"INTERVAL\",\n    contour_line_colour=\"BLACK\",\n    contour_line_thickness=1,\n    contour_hilo_height=0.25,\n    contour_interval=5.00,\n    contour_hilo=\"ON\",\n    contour_hilo_quality=\"HIGH\",\n    contour_highlight_colour=\"BLACK\",\n    contour_highlight_thickness=2,\n    contour_label=\"OFF\",\n    legend=\"OFF\",\n)\n\n# set up the coastlines\nmy_coast = mv.mcoast(\n    map_coastline_resolution=\"HIGH\",\n    map_grid_colour=\"CHARCOAL\",\n    map_grid=\"ON\",\n    map_coastline_colour=\"CHARCOAL\",\n)\n\n# set up the title\nmy_title = mv.mtext(\n    text_font_size=0.60,\n    text_lines=[\"Positional and histogram legend\", \"\", \"\", \"\", \"\", \"\", \"\"],\n    text_justification=\"LEFT\",\n    text_colour=\"CHARCOAL\",\n)\n\n# set up an histogram legend for the temperature field\nmy_legend = mv.mlegend(\n    legend_box_mode=\"POSITIONAL\",\n    legend_box_x_position=1.00,\n    legend_box_x_length=27.00,\n    legend_box_y_position=16.00,\n    legend_box_y_length=3.00,\n    legend_display_type=\"HISTOGRAM\",\n    legend_histogram_max_value=\"ON\",\n    legend_label_frequency=1,\n    legend_text_font_size=0.40,\n    legend_text_colour=\"BLACK\",\n    legend_title=\"ON\",\n    legend_title_text=\"Temperature at 850 hPa\",\n)\n\n\n# define the output plot file\nmv.setoutput(mv.pdf_output(output_name=\"legend3\"))\n\n# plot the map\nmv.plot(\n    my_view, my_data1, my_contour1, my_data2, my_contour2, my_coast, my_title, my_legend\n)"
      ]
    }
  ],
  "metadata": {
    "kernelspec": {
      "display_name": "Python 3",
      "language": "python",
      "name": "python3"
    },
    "language_info": {
      "codemirror_mode": {
        "name": "ipython",
        "version": 3
      },
      "file_extension": ".py",
      "mimetype": "text/x-python",
      "name": "python",
      "nbconvert_exporter": "python",
      "pygments_lexer": "ipython3",
      "version": "3.8.5"
    }
  },
  "nbformat": 4,
  "nbformat_minor": 0
}