{
  "cells": [
    {
      "cell_type": "code",
      "execution_count": null,
      "metadata": {
        "collapsed": false
      },
      "outputs": [],
      "source": [
        "%matplotlib inline"
      ]
    },
    {
      "cell_type": "markdown",
      "metadata": {},
      "source": [
        "\nVorticity and Wind\n==============================================\n"
      ]
    },
    {
      "cell_type": "code",
      "execution_count": null,
      "metadata": {
        "collapsed": false
      },
      "outputs": [],
      "source": [
        "# (C) Copyright 2017- ECMWF.\n#\n# This software is licensed under the terms of the Apache Licence Version 2.0\n# which can be obtained at http://www.apache.org/licenses/LICENSE-2.0.\n#\n# In applying this licence, ECMWF does not waive the privileges and immunities\n# granted to it by virtue of its status as an intergovernmental organisation\n# nor does it submit to any jurisdiction.\n#\n\n# --------------------------------------------------------------------------------\n# Description: Demonstrates how to combine a contour field and a wind field into a\n#              single plot (inspired by an ecCharts product).\n# --------------------------------------------------------------------------------\n\nimport metview as mv\n\n# read input grib files\nmy_vorticity = mv.read(\"vorticity.grib\")\nmy_uvwind = mv.read(\"wind.grib\")\n\n# set up the contour for vorticity field\nmy_contour = mv.mcont(\n    contour_level_selection_type=\"level_list\",\n    contour_level_list=[\n        -200.0,\n        -100.0,\n        -75.0,\n        -50.0,\n        -30.0,\n        -20.0,\n        -15.0,\n        -13.0,\n        -11.0,\n        -9.0,\n        -7.0,\n        -5.0,\n        -3.0,\n        -1.0,\n        1.0,\n        3.0,\n        5.0,\n        7.0,\n        9.0,\n        11.0,\n        13.0,\n        15.0,\n        20.0,\n        30.0,\n        50.0,\n        75.0,\n        100.0,\n        200.0,\n    ],\n    contour_shade=\"on\",\n    contour_shade_colour_method=\"list\",\n    contour_shade_method=\"area_fill\",\n    contour_shade_colour_list=[\n        \"rgb(0,0,0.3)\",\n        \"rgb(0,0,0.5)\",\n        \"rgb(0,0,0.7)\",\n        \"rgb(0,0,0.9)\",\n        \"rgb(0,0.15,1)\",\n        \"rgb(0,0.3,1)\",\n        \"rgb(0,0.45,1)\",\n        \"rgb(0,0.6,1)\",\n        \"rgb(0,0.75,1)\",\n        \"rgb(0,0.85,)\",\n        \"rgb(0.2,0.95,1)\",\n        \"rgb(0.45,1,1)\",\n        \"rgb(0.75,1,1)\",\n        \"none\",\n        \"rgb(1,1,0)\",\n        \"rgb(1,0.9,0)\",\n        \"rgb(1,0.8,0)\",\n        \"rgb(1,0.7,0)\",\n        \"rgb(1,0.6,0)\",\n        \"rgb(1,0.5,0)\",\n        \"rgb(1,0.4,0)\",\n        \"rgb(1,0.3,0)\",\n        \"rgb(1,0.15,0)\",\n        \"rgb(0.9,0,0)\",\n        \"rgb(0.7,0,0)\",\n        \"rgb(0.5,0,0)\",\n        \"rgb(0.3,0,0)\",\n    ],\n    legend=\"on\",\n    contour_hilo=\"off\",\n    contour=\"off\",\n    contour_highlight=\"off\",\n    contour_label=\"off\",\n)\n\n# set up the wind plotting\nmy_wind = mv.mwind(\n    wind_legend_text=\"BLACK WIND FLAGS (IN KNOTS)\",\n    wind_arrow_unit_velocity=10.00,\n    wind_flag_origin_marker=\"dot\",\n    wind_thinning_factor=10,\n    wind_flag_length=0.30,\n    wind_flag_origin_marker_size=0.10,\n    wind_field_type=\"flags\",\n    wind_flag_colour=\"black\",\n)\n\n# set up the coastlines\nmy_coast = mv.mcoast(\n    map_coastline_sea_shade=\"on\",\n    map_coastline_land_shade_colour=\"cream\",\n    map_grid=\"on\",\n    map_coastline_land_shade=\"on\",\n    map_coastline_sea_shade_colour=\"white\",\n    map_label=\"on\",\n    map_coastline_colour=\"tan\",\n)\n\n# set up the geographical view\nmy_view = mv.geoview(\n    map_area_definition=\"corners\",\n    map_projection=\"polar_stereographic\",\n    area=[21.51, -37.27, 51.28, 65.00],\n    coastlines=my_coast,\n)\n\n# set up the title\nmy_title = mv.mtext(\n    text_font_size=0.60,\n    text_lines=[\"Vorticity and wind flags\", \"Vorticity at 700 hPa\", \"\"],\n    text_colour=\"charcoal\",\n)\n\n\n# define the output plot file\nmv.setoutput(mv.pdf_output(output_name=\"wind4\"))\n\n# plot the data onto the map\nmv.plot(my_view, my_vorticity, my_contour, my_uvwind, my_wind, my_title)"
      ]
    }
  ],
  "metadata": {
    "kernelspec": {
      "display_name": "Python 3",
      "language": "python",
      "name": "python3"
    },
    "language_info": {
      "codemirror_mode": {
        "name": "ipython",
        "version": 3
      },
      "file_extension": ".py",
      "mimetype": "text/x-python",
      "name": "python",
      "nbconvert_exporter": "python",
      "pygments_lexer": "ipython3",
      "version": "3.8.5"
    }
  },
  "nbformat": 4,
  "nbformat_minor": 0
}