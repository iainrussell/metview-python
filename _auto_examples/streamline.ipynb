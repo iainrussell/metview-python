{
  "cells": [
    {
      "cell_type": "code",
      "execution_count": null,
      "metadata": {
        "collapsed": false
      },
      "outputs": [],
      "source": [
        "%matplotlib inline"
      ]
    },
    {
      "cell_type": "markdown",
      "metadata": {},
      "source": [
        "\nStreamlines\n==============================================\n"
      ]
    },
    {
      "cell_type": "code",
      "execution_count": null,
      "metadata": {
        "collapsed": false
      },
      "outputs": [],
      "source": [
        "# (C) Copyright 2017- ECMWF.\n#\n# This software is licensed under the terms of the Apache Licence Version 2.0\n# which can be obtained at http://www.apache.org/licenses/LICENSE-2.0.\n#\n# In applying this licence, ECMWF does not waive the privileges and immunities\n# granted to it by virtue of its status as an intergovernmental organisation\n# nor does it submit to any jurisdiction.\n#\n\nimport metview as mv\n\n# read grib file - contains only one timestep and level\nf = mv.read(\"advection_850.grib\")\n\n# filter u and v wind components\nu = mv.read(data=f, param=\"u\")\nv = mv.read(data=f, param=\"v\")\n\n# define coastlines\ncoast = mv.mcoast(\n    map_coastline_land_shade=\"on\",\n    map_coastline_land_shade_colour=\"RGB(0.6,0.6,0.6)\",\n    map_coastline_sea_shade=\"on\",\n    map_coastline_sea_shade_colour=\"RGB(0.9275,0.9275,0.9313)\",\n    map_coastline_colour=\"RGB(0.5,0.5,0.5)\",\n    map_coastline_resolution=\"medium\",\n)\n\n# define the view\nview = mv.geoview(\n    coastlines=coast, map_area_definition=\"corners\", area=[38, -24, 60, 10]\n)\n\n# define wind plotting\nwdef = mv.mwind(\n    wind_field_type=\"streamlines\",\n    wind_streamline_min_density=3,\n    wind_streamline_colour=\"ecmwf_blue\",\n    wind_streamline_head_ratio=0.4,\n)\n\n# define the output plot file\nmv.setoutput(mv.pdf_output(output_name=\"streamline\"))\n\n# generate the plot\nmv.plot(view, mv.merge(u, v), wdef)"
      ]
    }
  ],
  "metadata": {
    "kernelspec": {
      "display_name": "Python 3",
      "language": "python",
      "name": "python3"
    },
    "language_info": {
      "codemirror_mode": {
        "name": "ipython",
        "version": 3
      },
      "file_extension": ".py",
      "mimetype": "text/x-python",
      "name": "python",
      "nbconvert_exporter": "python",
      "pygments_lexer": "ipython3",
      "version": "3.8.5"
    }
  },
  "nbformat": 4,
  "nbformat_minor": 0
}