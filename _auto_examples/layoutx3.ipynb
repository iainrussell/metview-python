{
  "cells": [
    {
      "cell_type": "code",
      "execution_count": null,
      "metadata": {
        "collapsed": false
      },
      "outputs": [],
      "source": [
        "%matplotlib inline"
      ]
    },
    {
      "cell_type": "markdown",
      "metadata": {},
      "source": [
        "\nLayout with 3 Maps\n==============================================\n"
      ]
    },
    {
      "cell_type": "code",
      "execution_count": null,
      "metadata": {
        "collapsed": false
      },
      "outputs": [],
      "source": [
        "# (C) Copyright 2017- ECMWF.\n#\n# This software is licensed under the terms of the Apache Licence Version 2.0\n# which can be obtained at http://www.apache.org/licenses/LICENSE-2.0.\n#\n# In applying this licence, ECMWF does not waive the privileges and immunities\n# granted to it by virtue of its status as an intergovernmental organisation\n# nor does it submit to any jurisdiction.\n#\n\n# ------------------------------------------------------------------\n# Description: Demonstrates how to use a Display Window icon to\n#              produce a plot with 3 maps consisting of a) a 24h\n#              forecast, b) a 96h forecast and c) their difference\n# ------------------------------------------------------------------\n\nimport metview as mv\n\n# read the GRIB data from file\nt_fc24 = mv.read(source=\"t_fc24.grib\", levelist=850)  # filter just the 850hPa level\nt_fc96 = mv.read(source=\"t_fc96.grib\", levelist=850)  # filter just the 850hPa level\n\n\n# we will use the same view in all the plots, but we could also use different\n# views for each plot\nview = mv.geoview(\n    map_area_definition=\"corners\", area=[23.7, -31.6, 83.0, 89.6]  # rough European area\n)\n\n# each page in the layout contains its position plus its view specification\n# (could also be a Cross Section View, for example). Defaults are=\n# top=0, bottom=100, left=0, right=100  in percent of layout height and width\n\npage_24 = mv.plot_page(bottom=45, right=50, view=view)\n\npage_96 = mv.plot_page(bottom=45, left=50, view=view)\n\npage_diff = mv.plot_page(top=50, left=11, view=view)\n\n\n# contouring specifications\n\nt_shade = mv.mcont(\n    contour=\"off\",\n    contour_hilo=\"off\",\n    contour_label=\"off\",\n    contour_level_selection_type=\"interval\",\n    contour_interval=4,\n    contour_shade=\"on\",\n    contour_shade_min_level=-52,\n    contour_shade_max_level=48,\n    contour_shade_method=\"area_fill\",\n    contour_shade_colour_method=\"list\",\n    contour_shade_colour_list=[\n        \"rgb(0.88,0.2,0.88)\",\n        \"rgb(0.68,0.2,0.68)\",\n        \"rgb(0.48,0.2,0.48)\",\n        \"rgb(0.28,0.2,0.28)\",\n        \"rgb(0.2,0,0.4)\",\n        \"rgb(0.35,0,0.5)\",\n        \"blue_purple\",\n        \"greenish_blue\",\n        \"rgb(0,0.8,1.0)\",\n        \"blue_green\",\n        \"bluish_green\",\n        \"yellow_green\",\n        \"greenish_yellow\",\n        \"rgb(1,1,0.5)\",\n        \"yellow\",\n        \"orange_yellow\",\n        \"yellowish_orange\",\n        \"rgb(1,0.45,0)\",\n        \"red\",\n        \"rgb(0.8,0,0)\",\n        \"burgundy\",\n        \"rose\",\n        \"magenta\",\n        \"rgb(1,0.5,1)\",\n        \"rgb(1,0.75,1)\",\n    ],\n)\n\npos_shade = mv.mcont(\n    legend=\"on\",\n    contour_line_colour=\"grey\",\n    contour_highlight=\"off\",\n    contour_level_selection_type=\"level_list\",\n    contour_level_list=[0.5, 1, 2, 4, 10, 20],\n    contour_shade=\"on\",\n    contour_shade_method=\"area_fill\",\n    contour_shade_max_level_colour=\"red\",\n    contour_shade_min_level_colour=\"orange_yellow\",\n    contour_shade_colour_direction=\"clockwise\",\n)\n\nneg_shade = mv.mcont(\n    legend=\"on\",\n    contour_line_colour=\"grey\",\n    contour_highlight=\"off\",\n    contour_level_selection_type=\"level_list\",\n    contour_level_list=[-20, -10, -4, -2, -1, -0.5],\n    contour_shade=\"on\",\n    contour_shade_method=\"area_fill\",\n    contour_shade_max_level_colour=\"greenish_yellow\",\n    contour_shade_min_level_colour=\"blue\",\n    contour_shade_colour_direction=\"clockwise\",\n)\n\n\n# when we have multiple pages in a layout, the default titles can be a bit too long\n# for the available space; hence we will construct shorter titles, using automated\n# fields as far as possible. We could also use Metview's own date/string formatting\n# routines to construct 'nicer' dates in the titles\n\ntitle_fc = mv.mtext(\n    text_line_1=\"<grib_info key='name'/> at <grib_info key='level'/> hPa= \"\n    + \"<grib_info key='dataDate'/> + <grib_info key='step'/>\"\n    + \" VT= <grib_info key='validityDate'/>\",\n    text_font_size=0.45,\n)\n\ntitle_diff = mv.mtext(text_line_1=\"Difference= FC96 - FC24\", text_font_size=0.45)\n\n\ndw = mv.plot_superpage(\n    # the order of these pages is used when indexing them in the plot() command\n    pages=[page_24, page_96, page_diff]\n)\n\n# define the output plot file\nmv.setoutput(mv.pdf_output(output_name=\"layoutx3\"))\n\n# plot the data into each page using a single plot command; note that\n# we defined 3 pages, so they are indexed by 0, 1, 2\nmv.plot(\n    dw[0],\n    t_fc24,\n    t_shade,\n    title_fc,\n    dw[1],\n    t_fc96,\n    t_shade,\n    title_fc,\n    dw[2],\n    t_fc96 - t_fc24,\n    neg_shade,\n    pos_shade,\n    title_diff,\n)"
      ]
    }
  ],
  "metadata": {
    "kernelspec": {
      "display_name": "Python 3",
      "language": "python",
      "name": "python3"
    },
    "language_info": {
      "codemirror_mode": {
        "name": "ipython",
        "version": 3
      },
      "file_extension": ".py",
      "mimetype": "text/x-python",
      "name": "python",
      "nbconvert_exporter": "python",
      "pygments_lexer": "ipython3",
      "version": "3.8.5"
    }
  },
  "nbformat": 4,
  "nbformat_minor": 0
}