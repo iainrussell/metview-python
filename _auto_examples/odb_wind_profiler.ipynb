{
  "cells": [
    {
      "cell_type": "code",
      "execution_count": null,
      "metadata": {
        "collapsed": false
      },
      "outputs": [],
      "source": [
        "%matplotlib inline"
      ]
    },
    {
      "cell_type": "markdown",
      "metadata": {},
      "source": [
        "\nODB Wind Profiler\n==============================================\n"
      ]
    },
    {
      "cell_type": "code",
      "execution_count": null,
      "metadata": {
        "collapsed": false
      },
      "outputs": [],
      "source": [
        "# (C) Copyright 2017- ECMWF.\n#\n# This software is licensed under the terms of the Apache Licence Version 2.0\n# which can be obtained at http://www.apache.org/licenses/LICENSE-2.0.\n#\n# In applying this licence, ECMWF does not waive the privileges and immunities\n# granted to it by virtue of its status as an intergovernmental organisation\n# nor does it submit to any jurisdiction.\n#\n\nimport metview as mv\nfrom datetime import datetime\n\n# define station id\nstatid = \"95759\"\n\n# read db\ndb = mv.read(\"wprof.odb\")\n\n# define query for u wind component\nq_u = \"\"\"select obsvalue as val,\n      vertco_reference_1 as p,\n      date@hdr as date,\n      time@hdr as time        \n      where varno=3 and statid='{}'\"\"\".format(\n    statid\n)\n\n# define query for v wind component\nq_v = \"\"\"select obsvalue as val, \n      vertco_reference_1 as p,\n      date as d,\n      time as t \n      where varno=4 and statid='{}'\"\"\".format(\n    statid\n)\n\n# define query for metadata\nq_meta = \"\"\"select DISTINCT lat@hdr as lat, lon@hdr as lon, andate, \n      antime where statid='{}'\"\"\".format(\n    statid\n)\n\n# filter u\nf_u = mv.odb_filter(odb_query=q_u, odb_data=db)\n\n# filter v\nf_v = mv.odb_filter(odb_query=q_v, odb_data=db)\n\n# filter metadata\nf_m = mv.odb_filter(odb_query=q_meta, odb_data=db)\n\n# read the odb columns into vectors\nu = mv.values(f_u, \"val\")\nd = mv.values(f_u, \"date\")\nt = mv.values(f_u, \"time\")\np = mv.values(f_u, \"p\") / 100  # pressure is converted to hPa\nv = mv.values(f_v, \"val\")\n\n# read valus for the title\nlat = mv.values(f_m, \"lat\")[0]\nlon = mv.values(f_m, \"lon\")[0]\nandate = mv.values(f_m, \"andate\")[0]\nantime = mv.values(f_m, \"antime\")[0]\n\n# build datetime list\nd_lst = []\nfor i, d_val in enumerate(d):\n    tt = str(int(t[i]))\n    if len(tt) == 5:\n        tt = \"0\" + tt\n\n    d_lst.append(datetime.strptime(str(int(d_val)) + tt, \"%Y%m%d%H%M%S\"))\n\n\n# define an input visualisers\nvis = mv.input_visualiser(\n    input_plot_type=\"xy_vectors\",\n    input_x_type=\"date\",\n    input_y_type=\"number\",\n    input_date_x_values=d_lst,\n    input_y_values=list(p),\n    input_x_component_values=list(u),\n    input_y_component_values=list(v),\n)\n\n# wind plotting style\nwp = mv.mwind(\n    wind_thinning_factor=1.0,\n    legend=\"on\",\n    wind_advanced_method=\"on\",\n    wind_advanced_colour_selection_type=\"interval\",\n    wind_advanced_colour_min_value=1,\n    wind_advanced_colour_level_interval=1,\n    wind_advanced_colour_max_level_colour=\"red\",\n    wind_advanced_colour_min_level_colour=\"blue\",\n    wind_arrow_thickness=2,\n    wind_arrow_unit_velocity=10,\n)\n\n# define title\ntitle = mv.mtext(\n    text_font_size=0.4,\n    text_line_1=\"\"\"WIND PROFILER AN date={:.0f} time={:.0f} station={} lat={:.2f} lon={:.2f}\"\"\".format(\n        andate, antime, statid, lat, lon\n    ),\n)\n\n# horizontal axis\nh_axis = mv.maxis(\n    axis_position=\"left\",\n    axis_title_text=\"Time\",\n    axis_minor_tick=\"on\",\n    axis_minor_tick_count=5,\n    axis_date_type=\"hours\",\n    axis_hours_label=\"on\",\n    axis_hours_label_height=0.4,\n    axis_grid=\"on\",\n    axis_grid_colour=\"charcoal\",\n    axis_grid_line_style=\"dot\",\n)\n\n# vertical axis\nv_axis = mv.maxis(\n    axis_orientation=\"vertical\",\n    axis_title_text=\"Presssure (hPa)\",\n    axis_grid=\"on\",\n    axis_grid_colour=\"charcoal\",\n    axis_grid_line_style=\"dot\",\n)\n\n# the view\nview = mv.cartesianview(\n    x_automatic=\"on\",\n    x_axis_type=\"date\",\n    y_automatic=\"off\",\n    y_min=1000,\n    y_max=400,\n    y_automatic_reverse=\"on\",\n    horizontal_axis=h_axis,\n    vertical_axis=v_axis,\n    subpage_background_colour=\"RGB(0.95,0.95,0.95)\",\n)\n\n# define the output plot file\nmv.setoutput(mv.pdf_output(output_name=\"odb_wind_profiler\"))\n\n# generate the plot\nmv.plot(view, vis, wp, title)"
      ]
    }
  ],
  "metadata": {
    "kernelspec": {
      "display_name": "Python 3",
      "language": "python",
      "name": "python3"
    },
    "language_info": {
      "codemirror_mode": {
        "name": "ipython",
        "version": 3
      },
      "file_extension": ".py",
      "mimetype": "text/x-python",
      "name": "python",
      "nbconvert_exporter": "python",
      "pygments_lexer": "ipython3",
      "version": "3.8.5"
    }
  },
  "nbformat": 4,
  "nbformat_minor": 0
}