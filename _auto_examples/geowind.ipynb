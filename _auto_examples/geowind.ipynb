{
  "cells": [
    {
      "cell_type": "code",
      "execution_count": null,
      "metadata": {
        "collapsed": false
      },
      "outputs": [],
      "source": [
        "%matplotlib inline"
      ]
    },
    {
      "cell_type": "markdown",
      "metadata": {},
      "source": [
        "\nWind Vectors from List Data\n==============================================\n"
      ]
    },
    {
      "cell_type": "code",
      "execution_count": null,
      "metadata": {
        "collapsed": false
      },
      "outputs": [],
      "source": [
        "# (C) Copyright 2017- ECMWF.\n#\n# This software is licensed under the terms of the Apache Licence Version 2.0\n# which can be obtained at http://www.apache.org/licenses/LICENSE-2.0.\n#\n# In applying this licence, ECMWF does not waive the privileges and immunities\n# granted to it by virtue of its status as an intergovernmental organisation\n# nor does it submit to any jurisdiction.\n#\n\n# -------------------------------------------------------------------------------\n# Description: Demonstrates how to plot a set of vectors as coloured arrows using\n#              advance mode (colour depends on arrow length).\n# -------------------------------------------------------------------------------\n\nimport metview as mv\n\n# set up the coastlines\nmy_coast = mv.mcoast(\n    map_coastline_sea_shade=\"ON\",\n    map_coastline_land_shade_colour=\"CREAM\",\n    map_grid=\"ON\",\n    map_coastline_land_shade=\"ON\",\n    map_coastline_sea_shade_colour=\"WHITE\",\n    map_label=\"ON\",\n    map_coastline_colour=\"TAN\",\n)\n\n# set up the geographical view\nmy_view = mv.geoview(\n    map_area_definition=\"CORNERS\",\n    map_projection=\"CYLINDRICAL\",\n    area=[40.00, -20.00, 65.00, 10.00],\n    coastlines=my_coast,\n)\n\n# define the wind vectors using \"geo_vectors\" plot type\nmy_input = mv.input_visualiser(\n    input_plot_type=\"geo_vectors\",\n    input_latitude_values=[42, 47, 52],\n    input_longitude_values=[2, -2, -10],\n    input_x_component_values=[50, 0, -30],\n    input_y_component_values=[0, 20, 0],\n)\n\n# set up the vectors plot properties\nmy_wind = mv.mwind(\n    legend=\"on\",\n    wind_advanced_method=\"on\",\n    wind_advanced_colour_selection_type=\"interval\",\n    wind_advanced_colour_level_interval=5.0,\n    wind_arrow_thickness=2,\n    wind_arrow_legend_text=\"M/S\",\n)\n\n\n# set up the title\nmy_title = mv.mtext(\n    text_font_size=0.7,\n    text_lines=[\"Plotting vectors using advanced mode\", \"\"],\n    text_justification=\"LEFT\",\n    text_colour=\"CHARCOAL\",\n)\n\n\n# define the output plot file\nmv.setoutput(mv.pdf_output(output_name=\"geowind\"))\n\n# plot the data onto the map\nmv.plot(my_view, my_input, my_wind, my_title)"
      ]
    }
  ],
  "metadata": {
    "kernelspec": {
      "display_name": "Python 3",
      "language": "python",
      "name": "python3"
    },
    "language_info": {
      "codemirror_mode": {
        "name": "ipython",
        "version": 3
      },
      "file_extension": ".py",
      "mimetype": "text/x-python",
      "name": "python",
      "nbconvert_exporter": "python",
      "pygments_lexer": "ipython3",
      "version": "3.8.5"
    }
  },
  "nbformat": 4,
  "nbformat_minor": 0
}