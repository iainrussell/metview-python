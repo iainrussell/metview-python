{
  "cells": [
    {
      "cell_type": "code",
      "execution_count": null,
      "metadata": {
        "collapsed": false
      },
      "outputs": [],
      "source": [
        "%matplotlib inline"
      ]
    },
    {
      "cell_type": "markdown",
      "metadata": {},
      "source": [
        "\nCross Section 3D Parallel Wind\n================================\n"
      ]
    },
    {
      "cell_type": "code",
      "execution_count": null,
      "metadata": {
        "collapsed": false
      },
      "outputs": [],
      "source": [
        "# (C) Copyright 2017- ECMWF.\n#\n# This software is licensed under the terms of the Apache Licence Version 2.0\n# which can be obtained at http://www.apache.org/licenses/LICENSE-2.0.\n#\n# In applying this licence, ECMWF does not waive the privileges and immunities\n# granted to it by virtue of its status as an intergovernmental organisation\n# nor does it submit to any jurisdiction.\n#\n\nimport metview as mv\n\n# read grib file - contains model level data with u, v, w, t and lnsp\nfs = mv.read(\"joachim_ml.grib\")\n\n# define cross section line\nline = [48.32, 1.18, 40.43, 2.44]\n\n# define vertical axis\nvertical_axis = mv.maxis(\n    axis_orientation=\"vertical\",\n    axis_type=\"position_list\",\n    axis_tick_position_list=[1000, 925, 850, 700, 500, 400, 300, 250],\n    axis_tick_label_height=0.4,\n)\n\n# define cross section for 3D wind projected onto the cross section\n# plane\n# - log pressure axis from 1015 to 250 hPa\n# - the vertical velocity in m/s is computed from w (=omega),\n#   then an additional scaling is applied to it (defined via w_wind_scaling_factor)\nxs_view = mv.mxsectview(\n    line=line,\n    wind_parallel=\"on\",\n    w_wind_scaling_factor_mode=\"compute\",\n    w_wind_scaling_factor=\"50\",\n    bottom_level=1015,\n    top_level=250,\n    vertical_scaling=\"log\",\n    vertical_axis=vertical_axis,\n)\n\n# define wind plotting\nwind_plotting = mv.mwind(wind_arrow_colour=\"purplish_blue\")\n\n# define orography area\norog_graph = mv.mgraph(graph_type=\"area\", graph_shade_colour=\"charcoal\")\n\n# define title\ntitle = mv.mtext(\n    text_lines=[\"3D wind projected onto cross section plane\"], text_font_size=0.4\n)\n\n# define the output plot file\nmv.setoutput(mv.pdf_output(output_name=\"cross_section_wind_3d\"))\n\n# generate plot\nmv.plot(xs_view, fs, wind_plotting, orog_graph, title)"
      ]
    }
  ],
  "metadata": {
    "kernelspec": {
      "display_name": "Python 3",
      "language": "python",
      "name": "python3"
    },
    "language_info": {
      "codemirror_mode": {
        "name": "ipython",
        "version": 3
      },
      "file_extension": ".py",
      "mimetype": "text/x-python",
      "name": "python",
      "nbconvert_exporter": "python",
      "pygments_lexer": "ipython3",
      "version": "3.8.5"
    }
  },
  "nbformat": 4,
  "nbformat_minor": 0
}