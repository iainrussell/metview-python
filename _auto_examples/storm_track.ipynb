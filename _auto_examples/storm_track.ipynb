{
  "cells": [
    {
      "cell_type": "code",
      "execution_count": null,
      "metadata": {
        "collapsed": false
      },
      "outputs": [],
      "source": [
        "%matplotlib inline"
      ]
    },
    {
      "cell_type": "markdown",
      "metadata": {},
      "source": [
        "\nStorm Track\n==============================================\n"
      ]
    },
    {
      "cell_type": "code",
      "execution_count": null,
      "metadata": {
        "collapsed": false
      },
      "outputs": [],
      "source": [
        "# (C) Copyright 2017- ECMWF.\n#\n# This software is licensed under the terms of the Apache Licence Version 2.0\n# which can be obtained at http://www.apache.org/licenses/LICENSE-2.0.\n#\n# In applying this licence, ECMWF does not waive the privileges and immunities\n# granted to it by virtue of its status as an intergovernmental organisation\n# nor does it submit to any jurisdiction.\n#\n\nimport metview as mv\n\n# read CSV file with the track positions and dates\ntbl = mv.read_table(\n    table_delimiter=\" \",\n    table_combine_delimiters=\"on\",\n    table_header_row=0,\n    table_filename=\"sandy_track.txt\",\n)\n\n# read track details into a set of vectors\nval_date = mv.values(tbl, 0)\nval_time = mv.values(tbl, 1)\nval_lon = mv.values(tbl, 2)\nval_lat = mv.values(tbl, 3)\n\n# define date and time labels for track points\nval_label = []\nfor i in range(len(val_date)):\n    val_label.append(\n        \"   \" + str(val_date[i])[6:8] + \"/\" + \"{:02d}\".format(int(val_time[i]))\n    )\n\n# define line and symbol properties\ntrack_graph = mv.mgraph(\n    graph_line_colour=\"red\",\n    graph_line_thickness=4,\n    graph_symbol=\"on\",\n    graph_symbol_colour=\"white\",\n    graph_symbol_height=0.5,\n    graph_symbol_marker_index=15,\n    graph_symbol_outline=\"on\",\n    graph_symbol_outline_colour=\"red\",\n)\n\n# define label properties\ntrack_text = mv.msymb(\n    symbol_type=\"text\",\n    symbol_text_font_colour=\"black\",\n    symbol_text_font_size=\"0.3\",\n    symbol_text_font_style=\"bold\",\n    symbol_text_list=val_label,\n)\n\n# create a visualiser for the track\ntrack_vis = mv.input_visualiser(\n    input_plot_type=\"geo_points\",\n    input_longitude_values=list(val_lon),\n    input_latitude_values=list(val_lat),\n)\n\n# read mslp forecast from grib file\ng_mslp = mv.read(\"sandy_mslp.grib\")\n\n# define mslp contouring\ncont_mslp = mv.mcont(\n    contour_line_thickness=2,\n    contour_line_colour=\"black\",\n    contour_highlight=\"off\",\n    contour_level_selection_type=\"interval\",\n    contour_interval=5,\n    grib_scaling_of_derived_fields=\"on\",\n)\n\n# define coastline\ncoast = mv.mcoast(\n    map_coastline_colour=\"RGB(0.4449,0.4414,0.4414)\",\n    map_coastline_resolution=\"low\",\n    map_coastline_land_shade=\"on\",\n    map_coastline_land_shade_colour=\"RGB(0.5333,0.5333,0.5333)\",\n    map_coastline_sea_shade=\"on\",\n    map_coastline_sea_shade_colour=\"RGB(0.7765,0.8177,0.8941)\",\n    map_boundaries=\"on\",\n    map_boundaries_colour=\"mustard\",\n    map_boundaries_thickness=2,\n    map_grid_colour=\"RGB(0.2627,0.2627,0.2627)\",\n)\n\n# define geographical view\nview = mv.geoview(\n    map_projection=\"polar_stereographic\",\n    map_area_definition=\"corners\",\n    area=[19.72, -98.59, 42.61, -47.28],\n    map_vertical_longitude=-85,\n    coastlines=coast,\n)\n\n# define the output plot file\nmv.setoutput(mv.pdf_output(output_name=\"storm_track\"))\n\n# Plot the track and the mslp\nmv.plot(view, track_vis, track_graph, track_text, g_mslp, cont_mslp)"
      ]
    }
  ],
  "metadata": {
    "kernelspec": {
      "display_name": "Python 3",
      "language": "python",
      "name": "python3"
    },
    "language_info": {
      "codemirror_mode": {
        "name": "ipython",
        "version": 3
      },
      "file_extension": ".py",
      "mimetype": "text/x-python",
      "name": "python",
      "nbconvert_exporter": "python",
      "pygments_lexer": "ipython3",
      "version": "3.8.5"
    }
  },
  "nbformat": 4,
  "nbformat_minor": 0
}