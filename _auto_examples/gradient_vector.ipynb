{
  "cells": [
    {
      "cell_type": "code",
      "execution_count": null,
      "metadata": {
        "collapsed": false
      },
      "outputs": [],
      "source": [
        "%matplotlib inline"
      ]
    },
    {
      "cell_type": "markdown",
      "metadata": {},
      "source": [
        "\nTemperature Gradient Vectors\n==============================================\n"
      ]
    },
    {
      "cell_type": "code",
      "execution_count": null,
      "metadata": {
        "collapsed": false
      },
      "outputs": [],
      "source": [
        "# (C) Copyright 2017- ECMWF.\n#\n# This software is licensed under the terms of the Apache Licence Version 2.0\n# which can be obtained at http://www.apache.org/licenses/LICENSE-2.0.\n#\n# In applying this licence, ECMWF does not waive the privileges and immunities\n# granted to it by virtue of its status as an intergovernmental organisation\n# nor does it submit to any jurisdiction.\n#\n\n\nimport metview as mv\n\n# read t field (the only field in the file)\nt = mv.read(source=\"t850.grb\", param=\"t\")\n\n# compute gradient\ngrad = mv.gradient(t)\n\n# scale gradient\ngrad = grad * 1e5\n\n# define the vector structure for plotting\nv = mv.grib_vectors(u_component=grad[0], v_component=grad[1])\n\n\n# define wind plotting for gradient\nwp = mv.mwind(\n    wind_thinning_factor=1,\n    legend=\"on\",\n    wind_advanced_method=\"on\",\n    wind_advanced_colour_min_value=1,\n    wind_advanced_colour_max_level_colour=\"red\",\n    wind_advanced_colour_min_level_colour=\"violet\",\n    wind_advanced_colour_direction=\"clockwise\",\n    wind_arrow_unit_velocity=8,\n    wind_arrow_thickness=1,\n    wind_arrow_legend_text=\"1E-2 K/km\",\n)\n\n# define contouring for temeprature\nt_cont = mv.mcont(\n    contour_line_colour=\"RGB(0.4,0.4,0.4)\",\n    contour_line_style=\"dash\",\n    contour_line_thickness=2,\n    contour_highlight=\"off\",\n    contour_level_selection_type=\"interval\",\n    contour_interval=2,\n    contour_label_height=0.25,\n    grib_scaling_of_derived_fields=\"on\",\n)\n\n# define caastline\ncoast = mv.mcoast(\n    map_coastline_land_shade=\"on\",\n    map_coastline_land_shade_colour=\"grey\",\n    map_coastline_sea_shade=\"on\",\n    map_coastline_sea_shade_colour=\"RGB(0.8944,0.9086,0.933)\",\n    map_grid_colour=\"charcoal\",\n    map_grid_longitude_increment=10,\n)\n\n# define map view\nview = mv.geoview(\n    map_projection=\"polar_stereographic\",\n    map_area_definition=\"corners\",\n    area=[37.71, -53.33, 58.46, 15.21],\n    map_vertical_longitude=-30,\n    coastlines=coast,\n)\n\n\n# define title\ntitle = mv.mtext(\n    text_lines=[\"Temperature 850 hPa [C]\", \"Temperature Gradient 850 hPa [1E-2 K/km]\"]\n)\n\n# define the output plot file\nmv.setoutput(mv.pdf_output(output_name=\"gradient_vector\"))\n\n# generate plot\nmv.plot(view, t, t_cont, v, wp, title)"
      ]
    }
  ],
  "metadata": {
    "kernelspec": {
      "display_name": "Python 3",
      "language": "python",
      "name": "python3"
    },
    "language_info": {
      "codemirror_mode": {
        "name": "ipython",
        "version": 3
      },
      "file_extension": ".py",
      "mimetype": "text/x-python",
      "name": "python",
      "nbconvert_exporter": "python",
      "pygments_lexer": "ipython3",
      "version": "3.8.5"
    }
  },
  "nbformat": 4,
  "nbformat_minor": 0
}