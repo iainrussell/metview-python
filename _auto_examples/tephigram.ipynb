{
  "cells": [
    {
      "cell_type": "code",
      "execution_count": null,
      "metadata": {
        "collapsed": false
      },
      "outputs": [],
      "source": [
        "%matplotlib inline"
      ]
    },
    {
      "cell_type": "markdown",
      "metadata": {},
      "source": [
        "\nTephigram from List Data\n==============================================\n"
      ]
    },
    {
      "cell_type": "code",
      "execution_count": null,
      "metadata": {
        "collapsed": false
      },
      "outputs": [],
      "source": [
        "# (C) Copyright 2017- ECMWF.\n#\n# This software is licensed under the terms of the Apache Licence Version 2.0\n# which can be obtained at http://www.apache.org/licenses/LICENSE-2.0.\n#\n# In applying this licence, ECMWF does not waive the privileges and immunities\n# granted to it by virtue of its status as an intergovernmental organisation\n# nor does it submit to any jurisdiction.\n#\n\nimport metview as mv\n\n# Define set of values to be used as an input to thephigram\n\n# Temperature definition\ntempdata = mv.input_visualiser(\n    input_x_values=[\n        25.8,\n        18.8,\n        15.0,\n        14.0,\n        15.4,\n        15.8,\n        14.4,\n        9.6,\n        7.0,\n        -2.5,\n        -4.5,\n        -5.3,\n        -5.5,\n        -8.1,\n        -10.5,\n        -12.1,\n        -16.1,\n        -17.1,\n        -18.1,\n        -19.7,\n        -20.5,\n        -23.9,\n        -23.9,\n        -25.7,\n        -37.3,\n        -39.7,\n        -44.1,\n        -45.9,\n        -48.3,\n        -55.9,\n        -57.7,\n        -62.3,\n        -66.1,\n        -67.9,\n        -65.7,\n        -65.7,\n        -64.1,\n        -64.5,\n        -64.3,\n        -63.5,\n        -64.3,\n        -66.7,\n        -67.1,\n        -68.3,\n    ],  # temperature values\n    input_y_values=[\n        977,\n        899,\n        849,\n        823,\n        810,\n        802,\n        771,\n        720,\n        693,\n        604,\n        587,\n        567,\n        559,\n        539,\n        505,\n        492,\n        461,\n        453,\n        447,\n        433,\n        424,\n        402,\n        398,\n        383,\n        312,\n        297,\n        273,\n        264,\n        252,\n        215,\n        208,\n        182,\n        175,\n        158,\n        155,\n        153,\n        149,\n        145,\n        142,\n        140,\n        130,\n        121,\n        109,\n        104,\n    ],  # pressure values\n)\n\ntempgraph = mv.mgraph(graph_line_colour=\"red\", graph_line_thickness=4)\n\n# Dewpoint definition\ndwdata = mv.input_visualiser(\n    input_x_values=[\n        10.8,\n        8.8,\n        6.0,\n        3.0,\n        -20.6,\n        -27.2,\n        -23.6,\n        -25.4,\n        -12.0,\n        -17.5,\n        -14.5,\n        -31.3,\n        -32.5,\n        -35.1,\n        -45.5,\n        -42.1,\n        -30.1,\n        -24.1,\n        -23.1,\n        -27.7,\n        -38.5,\n        -42.9,\n        -57.9,\n        -57.7,\n        -67.3,\n        -51.7,\n        -55.1,\n        -53.9,\n        -59.3,\n        -65.9,\n        -71.7,\n        -72.3,\n        -76.1,\n        -80.9,\n        -81.7,\n        -82.7,\n        -85.1,\n        -89.5,\n        -93.3,\n        -93.5,\n        -94.3,\n        -95.7,\n        -96.1,\n        -97.3,\n    ],  # dewpoint values\n    input_y_values=[\n        977,\n        899,\n        849,\n        823,\n        810,\n        802,\n        771,\n        720,\n        693,\n        604,\n        587,\n        567,\n        559,\n        539,\n        505,\n        492,\n        461,\n        453,\n        447,\n        433,\n        424,\n        402,\n        398,\n        383,\n        312,\n        297,\n        273,\n        264,\n        252,\n        215,\n        208,\n        182,\n        175,\n        158,\n        155,\n        153,\n        149,\n        145,\n        142,\n        140,\n        130,\n        121,\n        109,\n        104,\n    ],  # pressure values\n)\n\ndwgraph = mv.mgraph(\n    graph_line_colour=\"red\", graph_line_style=\"dash\", graph_line_thickness=4\n)\n\n# Wind definition\nwinddata = mv.input_visualiser(\n    input_plot_type=\"xy_vectors\",\n    input_x_values=[1010, 1010, 1010, 1010, 1010, 1010, 1010, 1010],  # fixed values\n    input_y_values=[989, 925, 850, 700, 500, 400, 300, 250],  # pressure values\n    input_x_component_values=[\n        -3.856726,\n        -4.588612,\n        1.91013,\n        -2.871835e-08,\n        11.27631,\n        13.59462,\n        19.92389,\n        21.66577,\n    ],  # u values\n    input_y_component_values=[\n        4.596267,\n        6.553216,\n        10.83289,\n        8,\n        4.104242,\n        6.339274,\n        1.743115,\n        3.82026,\n    ],  # v values\n)\n\nwind_plotting = mv.mwind(wind_field_type=\"flags\", wind_flag_colour=\"evergreen\")\n\n# Define the thermodynamic view\nview = mv.thermoview(type=\"tephigram\", minimum_temperature=-110, maximum_temperature=30)\n\n# Define the output plot file\nmv.setoutput(mv.pdf_output(output_name=\"tephigram\"))\n\n# Plot the data onto the tephigram\nmv.plot(view, tempdata, tempgraph, dwdata, dwgraph, winddata, wind_plotting)"
      ]
    }
  ],
  "metadata": {
    "kernelspec": {
      "display_name": "Python 3",
      "language": "python",
      "name": "python3"
    },
    "language_info": {
      "codemirror_mode": {
        "name": "ipython",
        "version": 3
      },
      "file_extension": ".py",
      "mimetype": "text/x-python",
      "name": "python",
      "nbconvert_exporter": "python",
      "pygments_lexer": "ipython3",
      "version": "3.8.5"
    }
  },
  "nbformat": 4,
  "nbformat_minor": 0
}