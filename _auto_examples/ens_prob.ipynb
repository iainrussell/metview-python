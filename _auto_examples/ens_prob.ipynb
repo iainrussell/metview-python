{
  "cells": [
    {
      "cell_type": "code",
      "execution_count": null,
      "metadata": {
        "collapsed": false
      },
      "outputs": [],
      "source": [
        "%matplotlib inline"
      ]
    },
    {
      "cell_type": "markdown",
      "metadata": {},
      "source": [
        "\nENS Windgust Probability\n==============================================\n"
      ]
    },
    {
      "cell_type": "code",
      "execution_count": null,
      "metadata": {
        "collapsed": false
      },
      "outputs": [],
      "source": [
        "# (C) Copyright 2017- ECMWF.\n#\n# This software is licensed under the terms of the Apache Licence Version 2.0\n# which can be obtained at http://www.apache.org/licenses/LICENSE-2.0.\n#\n# In applying this licence, ECMWF does not waive the privileges and immunities\n# granted to it by virtue of its status as an intergovernmental organisation\n# nor does it submit to any jurisdiction.\n#\n\nimport metview as mv\n\n# read ENS forecast\ng = mv.read(\"wgust_ens.grib\")\n\n# filter out a timestep\nwg = mv.read(data=g, step=78)\n\n# create mask (with 0s and 1s) for windgust > 22 m/s\nwg_mask = wg > 22\n\n# compute probability\nprob = mv.mean(wg_mask) * 100\n\n# define contour shading\ncont = mv.mcont(\n    legend=\"on\",\n    contour_line_colour=\"charcoal\",\n    contour_highlight=\"off\",\n    contour_min_level=1,\n    contour_level_count=6,\n    contour_shade=\"on\",\n    contour_shade_colour_method=\"palette\",\n    contour_shade_method=\"area_fill\",\n    contour_shade_palette_name=\"eccharts_purple_magenta_6\",\n)\n\n# define coastline\ncoast = mv.mcoast(\n    map_coastline_land_shade=\"on\",\n    map_coastline_land_shade_colour=\"RGB(0.6328,0.6299,0.6299)\",\n    map_coastline_sea_shade=\"on\",\n    map_coastline_sea_shade_colour=\"RGB(0.8196,0.8196,0.8196)\",\n    map_grid_colour=\"charcoal\",\n    map_grid_longitude_increment=10,\n)\n\n# define map view\nview = mv.geoview(\n    map_area_definition=\"corners\", area=[40, -20, 60, 10], coastlines=coast\n)\n\n# define title\ntitle = mv.mtext(text_lines=[\"Wind gust probability > 22 m/s\"], text_font_size=0.5)\n\n# define the output plot file\nmv.setoutput(mv.pdf_output(output_name=\"ens_prob\"))\n\n# generate plot\nmv.plot(view, prob, cont, title)"
      ]
    }
  ],
  "metadata": {
    "kernelspec": {
      "display_name": "Python 3",
      "language": "python",
      "name": "python3"
    },
    "language_info": {
      "codemirror_mode": {
        "name": "ipython",
        "version": 3
      },
      "file_extension": ".py",
      "mimetype": "text/x-python",
      "name": "python",
      "nbconvert_exporter": "python",
      "pygments_lexer": "ipython3",
      "version": "3.8.5"
    }
  },
  "nbformat": 4,
  "nbformat_minor": 0
}