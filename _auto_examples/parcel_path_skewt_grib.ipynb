{
  "cells": [
    {
      "cell_type": "code",
      "execution_count": null,
      "metadata": {
        "collapsed": false
      },
      "outputs": [],
      "source": [
        "%matplotlib inline"
      ]
    },
    {
      "cell_type": "markdown",
      "metadata": {},
      "source": [
        "\nParcel Method on Skew-T\n==============================================\n"
      ]
    },
    {
      "cell_type": "code",
      "execution_count": null,
      "metadata": {
        "collapsed": false
      },
      "outputs": [],
      "source": [
        "# (C) Copyright 2017- ECMWF.\n#\n# This software is licensed under the terms of the Apache Licence Version 2.0\n# which can be obtained at http://www.apache.org/licenses/LICENSE-2.0.\n#\n# In applying this licence, ECMWF does not waive the privileges and immunities\n# granted to it by virtue of its status as an intergovernmental organisation\n# nor does it submit to any jurisdiction.\n#\n\nimport metview as mv\n\n# read GRIB data\ng = mv.read(\"thermo_profile.grib\")\n\n# extract thermo profile\nprof = mv.thermo_grib(coordinates=[5, 0], data=g)\n\n\n# compute parcel path - start from surface\nparcel = mv.thermo_parcel_path(prof)\n\n# create plot object for parcel areas\nparcel_area = mv.thermo_parcel_area(parcel)\n\n# create plot object for parcel path\nparcel_vis = mv.xy_curve(parcel[\"t\"], parcel[\"p\"], \"charcoal\", \"dash\", 6)\n\n# use default visual definition for t and td profile\nprof_vis = mv.mthermo()\n\n# define the thermodynamic view\nview = mv.thermoview(\n    type=\"skewt\",\n    minimum_temperature=-140,\n    maximum_temperature=40,\n    top_pressure=50,\n    subpage_clipping=\"ON\",\n)\n\n# get profile info for title\ninfo = mv.thermo_data_info(prof)\n\n# define title\ntitle_txt = \"Run: {} {} UTC Step: {} h Lat: {:.2f} Lon: {:.2f}\".format(\n    info[\"date\"], info[\"time\"], info[\"step\"], info[\"lat\"], info[\"lon\"]\n)\n\ntitle = mv.mtext(text_lines=title_txt, text_font_size=0.5, text_colour=\"charcoal\")\n\n# define text lines for info box\ntxt = []\ntxt.append(\"     Mode: \" + parcel[\"start\"][\"mode\"])\ntxt.append(\"  Start p: {:.0f} hPa\".format(parcel[\"start\"][\"p\"]))\ntxt.append(\"  Start t: {:.1f} C\".format(parcel[\"start\"][\"t\"]))\ntxt.append(\" Start td: {:.1f} C\".format(parcel[\"start\"][\"td\"]))\ntxt.append(\"     CAPE: {:.3f} J/kg\".format(parcel[\"cape\"]))\ntxt.append(\"      CIN: {:.3f} J/kg\".format(parcel[\"cin\"]))\n\nif parcel.lcl != None:\n    txt.append(\"    LCL p: {:.0f} hPa\".format(parcel[\"lcl\"][\"p\"]))\n    txt.append(\"    LCL t: {:.1f} C\".format(parcel[\"lcl\"][\"t\"]))\n\nif parcel.lfc != None:\n    txt.append(\"    LFC p: {:.0f} hPa\".format(parcel[\"lfc\"][\"p\"]))\n    txt.append(\"    LFC t: {:.1f} C\".format(parcel[\"lfc\"][\"t\"]))\n\nif parcel.el != None:\n    txt.append(\"     EL p: {:.0f} hPa\".format(parcel[\"el\"][\"p\"]))\n    txt.append(\"     EL t: {:.1f} C\".format(parcel[\"el\"][\"t\"]))\n\nif parcel.top != None:\n    txt.append(\"    TOP p: {:.0f} hPa\".format(parcel[\"top\"][\"p\"]))\n    txt.append(\"    TOP t: {:.1f} C\".format(parcel[\"top\"][\"t\"]))\n\n# create info box - make sure font is monospace\ninfo_box = mv.mtext(\n    text_lines=txt,\n    text_font=\"courier\",\n    text_font_size=0.3,\n    text_colour=\"charcoal\",\n    text_justification=\"left\",\n    text_mode=\"positional\",\n    text_box_x_position=14.8,\n    text_box_y_position=13.4,\n    text_box_x_length=5.2,\n    text_box_y_length=len(txt) * 0.35 + 0.4,\n    text_box_blanking=\"on\",\n    text_border=\"on\",\n    text_border_colour=\"charcoal\",\n)\n\n# define the output plot file\nmv.setoutput(mv.pdf_output(output_name=\"parcel_path_skewt_grib\"))\n\n# plot the profile, parcel areas, parcel path and info box together\nmv.plot(view, parcel_area, prof, prof_vis, parcel_vis, title, info_box)"
      ]
    }
  ],
  "metadata": {
    "kernelspec": {
      "display_name": "Python 3",
      "language": "python",
      "name": "python3"
    },
    "language_info": {
      "codemirror_mode": {
        "name": "ipython",
        "version": 3
      },
      "file_extension": ".py",
      "mimetype": "text/x-python",
      "name": "python",
      "nbconvert_exporter": "python",
      "pygments_lexer": "ipython3",
      "version": "3.8.5"
    }
  },
  "nbformat": 4,
  "nbformat_minor": 0
}