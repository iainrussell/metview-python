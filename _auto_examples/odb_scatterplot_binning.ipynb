{
  "cells": [
    {
      "cell_type": "code",
      "execution_count": null,
      "metadata": {
        "collapsed": false
      },
      "outputs": [],
      "source": [
        "%matplotlib inline"
      ]
    },
    {
      "cell_type": "markdown",
      "metadata": {},
      "source": [
        "\nODB Scatterplot with Binning\n==============================================\n"
      ]
    },
    {
      "cell_type": "code",
      "execution_count": null,
      "metadata": {
        "collapsed": false
      },
      "outputs": [],
      "source": [
        "# (C) Copyright 2017- ECMWF.\n#\n# This software is licensed under the terms of the Apache Licence Version 2.0\n# which can be obtained at http://www.apache.org/licenses/LICENSE-2.0.\n#\n# In applying this licence, ECMWF does not waive the privileges and immunities\n# granted to it by virtue of its status as an intergovernmental organisation\n# nor does it submit to any jurisdiction.\n#\n\n# ------------------------------------------------------------------\n# Description: Demonstrates how to generate a scatterpot from ODB\n#              using binning.\n# ------------------------------------------------------------------\n\nimport metview as mv\n\nuse_mars = 0\nif use_mars:\n    #  retrieve from MARS - for AMSUA channel 5 (all satellites)\n    db = mv.retrieve(\n        type=\"mfb\",\n        repres=\"bu\",\n        obsgroup=\"amsua\",\n        time=00,\n        date=-2,\n        filter=\"select an_depar@body,fg_depar@body \" + \"where vertco_reference_1=5\",\n    )\nelse:\n    db = mv.read(\"amsua.odb\")\n\n# Define binning - with 100 bins both in the horizontal and vertical axes\nbin_100 = mv.binning(binning_x_count=100, binning_y_count=100)\n\n# Define visualiser for scatterplot with binning\nbin_plot = mv.odb_visualiser(\n    odb_plot_type=\"xy_binning\",\n    odb_x_variable=\"fg_depar@body\",\n    odb_y_variable=\"an_depar@body\",\n    odb_value_variable=\"\",\n    # odb_where          = \"vertco_reference_1@body =5 \",\n    odb_data=db,\n    odb_binning=bin_100,\n)\n\n# Define grid shading - the binned dataset will be defined on a grid\nbin_grid_shade = mv.mcont(\n    legend=\"on\",\n    contour=\"off\",\n    contour_min_level=1,\n    contour_shade_min_level=1,\n    contour_level_count=20,\n    contour_shade=\"on\",\n    contour_shade_technique=\"grid_shading\",\n    contour_shade_method=\"area_fill\",\n    contour_shade_max_level_colour=\"red\",\n    contour_shade_min_level_colour=\"blue\",\n    contour_shade_colour_direction=\"clockwise\",\n)\n\n# Define title\ntitle = mv.mtext(text_line_count=1, text_line_1=\"Sensor: AMSU-A  Channel: 5 Param: Tb\")\n\n# Define horizontal axis\nhor_axis = mv.maxis(\n    axis_position=\"left\",\n    axis_title_text=\"fg_depar (K)\",\n    axis_tick_interval=0.5,\n    axis_minor_tick=\"on\",\n    axis_minor_tick_count=4,\n    axis_grid=\"on\",\n    axis_grid_colour=\"black\",\n    axis_grid_line_style=\"dot\",\n)\n\n# Define vertical axis\nver_axis = mv.maxis(\n    axis_orientation=\"vertical\",\n    axis_title_text=\"an_depar (K)\",\n    axis_tick_interval=0.5,\n    axis_minor_tick=\"on\",\n    axis_minor_tick_count=4,\n    axis_grid=\"on\",\n    axis_grid_colour=\"black\",\n    axis_grid_line_style=\"dot\",\n)\n\n# Define Catresian view\nscatter_view = mv.cartesianview(\n    x_min=-1,\n    x_max=1,\n    y_min=-1,\n    y_max=1,\n    subpage_y_position=12.5,\n    subpage_y_length=75,\n    horizontal_axis=hor_axis,\n    vertical_axis=ver_axis,\n)\n\n\n# define the output plot file\nmv.setoutput(mv.pdf_output(output_name=\"odb_scatterplot_binning\"))\n\n# Plot\nmv.plot(scatter_view, bin_plot, bin_grid_shade, title)"
      ]
    }
  ],
  "metadata": {
    "kernelspec": {
      "display_name": "Python 3",
      "language": "python",
      "name": "python3"
    },
    "language_info": {
      "codemirror_mode": {
        "name": "ipython",
        "version": 3
      },
      "file_extension": ".py",
      "mimetype": "text/x-python",
      "name": "python",
      "nbconvert_exporter": "python",
      "pygments_lexer": "ipython3",
      "version": "3.8.5"
    }
  },
  "nbformat": 4,
  "nbformat_minor": 0
}