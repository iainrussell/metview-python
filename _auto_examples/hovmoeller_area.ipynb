{
  "cells": [
    {
      "cell_type": "code",
      "execution_count": null,
      "metadata": {
        "collapsed": false
      },
      "outputs": [],
      "source": [
        "%matplotlib inline"
      ]
    },
    {
      "cell_type": "markdown",
      "metadata": {},
      "source": [
        "\nHovmoeller Area Average\n==============================================\n"
      ]
    },
    {
      "cell_type": "code",
      "execution_count": null,
      "metadata": {
        "collapsed": false
      },
      "outputs": [],
      "source": [
        "# (C) Copyright 2017- ECMWF.\n#\n# This software is licensed under the terms of the Apache Licence Version 2.0\n# which can be obtained at http://www.apache.org/licenses/LICENSE-2.0.\n#\n# In applying this licence, ECMWF does not waive the privileges and immunities\n# granted to it by virtue of its status as an intergovernmental organisation\n# nor does it submit to any jurisdiction.\n#\n\n# ----------------------------------------------------------------------\n# Description: Demonstrates how to use a Hovmoeller View to\n#              compute and plot an area average over time from GRIB data\n# ----------------------------------------------------------------------\n\nimport metview as mv\n\n# read the GRIB data from file\nt_ts = mv.read(\"t_ts.grib\")\n\n\n# set up the view to plot the data into\n# we will compute the average value along North/South lines over the\n# given area. We also supply a custom Time Axis definition in order\n# to increase the size of the date labels\n\ntime_axis = mv.maxis(\n    axis_type=\"date\",\n    axis_years_label_height=0.3,\n    axis_months_label_height=0.3,\n    axis_days_label_height=0.3,\n)\n\nhovmoeller_view = mv.mhovmoellerview(\n    type=\"area_hovm\",\n    area=[53.4, -58.9, 67.2, 118.1],\n    average_direction=\"north_south\",\n    time_axis=time_axis,\n)\n\n# set up the contouring style\nshade = mv.mcont(\n    legend=\"on\",\n    contour=\"off\",\n    contour_level_count=8,\n    contour_label=\"off\",\n    contour_shade=\"on\",\n    contour_shade_colour_method=\"list\",\n    contour_shade_method=\"area_fill\",\n    contour_shade_colour_list=[\n        \"blue\",\n        \"sky\",\n        \"blue_green\",\n        \"grey\",\n        \"cream\",\n        \"yellowish_orange\",\n        \"reddish_orange\",\n        \"red\",\n    ],\n)\n\n\n# set up the title, just to make the font bigger\ntitle = mv.mtext(text_font_size=0.5)\n\n\n# define the output plot file\nmv.setoutput(mv.pdf_output(output_name=\"hovmoeller_area\"))\n\n# plot the data into the Hovmoeller view with visdefs for styling\nmv.plot(hovmoeller_view, t_ts, shade, title)"
      ]
    }
  ],
  "metadata": {
    "kernelspec": {
      "display_name": "Python 3",
      "language": "python",
      "name": "python3"
    },
    "language_info": {
      "codemirror_mode": {
        "name": "ipython",
        "version": 3
      },
      "file_extension": ".py",
      "mimetype": "text/x-python",
      "name": "python",
      "nbconvert_exporter": "python",
      "pygments_lexer": "ipython3",
      "version": "3.8.5"
    }
  },
  "nbformat": 4,
  "nbformat_minor": 0
}