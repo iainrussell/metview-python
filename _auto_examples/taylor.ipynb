{
  "cells": [
    {
      "cell_type": "code",
      "execution_count": null,
      "metadata": {
        "collapsed": false
      },
      "outputs": [],
      "source": [
        "%matplotlib inline"
      ]
    },
    {
      "cell_type": "markdown",
      "metadata": {},
      "source": [
        "\nTaylor Diagram\n==============================================\n"
      ]
    },
    {
      "cell_type": "code",
      "execution_count": null,
      "metadata": {
        "collapsed": false
      },
      "outputs": [],
      "source": [
        "# (C) Copyright 2017- ECMWF.\n#\n# This software is licensed under the terms of the Apache Licence Version 2.0\n# which can be obtained at http://www.apache.org/licenses/LICENSE-2.0.\n#\n# In applying this licence, ECMWF does not waive the privileges and immunities\n# granted to it by virtue of its status as an intergovernmental organisation\n# nor does it submit to any jurisdiction.\n#\n\nimport metview as mv\n\n# define data values\nval_x = [0.2, 0.4, 0.6, 0.7]\nval_y = [0.1, 0.3, 0.5, 0.8]\n\n# define the Taylor diagram grid\ngrid = mv.mtaylor(\n    taylor_primary_grid_increment=0.1,\n    taylor_secondary_grid=\"on\",\n    taylor_secondary_grid_increment=0.1,\n    taylor_secondary_grid_line_colour=\"RGB(0.28,0.58,0.11)\",\n    taylor_secondary_grid_line_style=\"dash\",\n    taylor_secondary_label_colour=\"RGB(0.33,0.58,0.16)\",\n)\n\n# define the view\nview = mv.cartesianview(\n    map_projection=\"taylor\", page_frame=\"off\", subpage_frame=\"off\", taylor_grid=grid\n)\n\n# define the input visualiser\nvis = mv.input_visualiser(input_x_values=val_x, input_y_values=val_y)\n\n# define symbol plotting\nsymbol = mv.msymb(\n    symbol_type=\"marker\",\n    symbol_marker_index=15,\n    symbol_colour=\"red\",\n    symbol_height=0.5,\n    symbol_outline=\"on\",\n    symbol_outline_thickness=2,\n)\n\n# define the output plot file\nmv.setoutput(mv.pdf_output(output_name=\"taylor\"))\n\n# generate the plot\nmv.plot(view, vis, symbol)"
      ]
    }
  ],
  "metadata": {
    "kernelspec": {
      "display_name": "Python 3",
      "language": "python",
      "name": "python3"
    },
    "language_info": {
      "codemirror_mode": {
        "name": "ipython",
        "version": 3
      },
      "file_extension": ".py",
      "mimetype": "text/x-python",
      "name": "python",
      "nbconvert_exporter": "python",
      "pygments_lexer": "ipython3",
      "version": "3.8.5"
    }
  },
  "nbformat": 4,
  "nbformat_minor": 0
}