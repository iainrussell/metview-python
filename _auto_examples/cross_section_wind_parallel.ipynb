{
  "cells": [
    {
      "cell_type": "code",
      "execution_count": null,
      "metadata": {
        "collapsed": false
      },
      "outputs": [],
      "source": [
        "%matplotlib inline"
      ]
    },
    {
      "cell_type": "markdown",
      "metadata": {},
      "source": [
        "\nCross Section Parallel Wind Component with Map\n==============================================\n"
      ]
    },
    {
      "cell_type": "code",
      "execution_count": null,
      "metadata": {
        "collapsed": false
      },
      "outputs": [],
      "source": [
        "# (C) Copyright 2017- ECMWF.\n#\n# This software is licensed under the terms of the Apache Licence Version 2.0\n# which can be obtained at http://www.apache.org/licenses/LICENSE-2.0.\n#\n# In applying this licence, ECMWF does not waive the privileges and immunities\n# granted to it by virtue of its status as an intergovernmental organisation\n# nor does it submit to any jurisdiction.\n#\n\nimport metview as mv\n\n# read pressure level data - superstorm Sandy\ng = mv.read(\"sandy_pl.grib\")\n\n# read wind fields and z500\nf_uv = mv.read(data=g, param=[\"u\", \"v\"])\nf_z = mv.read(data=g, param=\"z\", levelist=500)\n\n# ---------------------------\n# Cross section\n# ----------------------------\n\n# define cross section line\nline = [30.30, -79.83, 36.95, -63.92]\n\n# define cross section view wind projected to the cross section plane\nxs = mv.mxsectview(\n    bottom_level=1000,\n    top_level=100,\n    line=line,\n    wind_parallel=\"on\",\n    wind_perpendicular=\"off\",\n    wind_intensity=\"off\",\n    vertical_scaling=\"log\",\n)\n\n# define contour shading for normal wind component\nwind_shade = mv.mcont(\n    legend=\"on\",\n    contour=\"off\",\n    contour_level_selection_type=\"interval\",\n    contour_shade_max_level=32,\n    contour_shade_min_level=-32,\n    contour_interval=4,\n    contour_label=\"off\",\n    contour_shade=\"on\",\n    contour_shade_colour_method=\"palette\",\n    contour_shade_method=\"area_fill\",\n    contour_shade_palette_name=\"m_brown_purple_16\",\n)\n\n# ---------------------------------------------\n#  Map view with z500 and cross section line\n# ---------------------------------------------\n\n# define coastlines\ncoast = mv.mcoast(\n    map_coastline_colour=\"RGB(0.4449,0.4414,0.4414)\",\n    map_coastline_resolution=\"low\",\n    map_coastline_land_shade=\"on\",\n    map_coastline_land_shade_colour=\"RGB(0.5333,0.5333,0.5333)\",\n    map_coastline_sea_shade=\"on\",\n    map_coastline_sea_shade_colour=\"RGB(0.7765,0.8177,0.8941)\",\n    map_boundaries=\"on\",\n    map_boundaries_colour=\"mustard\",\n    map_boundaries_thickness=2,\n    map_grid_colour=\"RGB(0.2627,0.2627,0.2627)\",\n    map_grid_latitude_increment=5,\n    map_grid_longitude_increment=5,\n)\n\n# define map view\nmap = mv.geoview(\n    map_area_definition=\"corners\",\n    area=[25, -84, 40, -60],\n    coastlines=coast,\n    subpage_y_lenght=75,\n)\n\n# define contoring for z500\ncont_z = mv.mcont(\n    contour_line_thickness=2,\n    contour_line_colour=\"black\",\n    contour_highlight=\"off\",\n    contour_level_selection_type=\"interval\",\n    contour_interval=4,\n    grib_scaling_of_derived_fields=\"on\",\n)\n\n# plot title\nmap_title = mv.mtext(text_lines=\"Z 500 hpa\")\n\n# cross section line visualiser\nvis_line = mv.input_visualiser(\n    input_plot_type=\"geo_points\",\n    input_longitude_values=[line[1], line[3]],\n    input_latitude_values=[line[0], line[2]],\n)\n\ngraph_line = mv.mgraph(graph_line_colour=\"red\", graph_line_thickness=4)\n\n# ---------------------------------------------\n#  Define layout\n# --------------------------------------------\n\nmap_page = mv.plot_page(bottom=30, view=map)\n\nxs_page = mv.plot_page(top=30, view=xs)\n\ndw = mv.plot_superpage(pages=[map_page, xs_page])\n\n# ---------------------------------------------\n#  Generate plot\n# --------------------------------------------\n\n# define the output plot file\nmv.setoutput(mv.pdf_output(output_name=\"cross_section_wind_parallel\"))\n\n# generate plot\nmv.plot(dw[0], f_z, cont_z, vis_line, graph_line, map_title, dw[1], f_uv, wind_shade)"
      ]
    }
  ],
  "metadata": {
    "kernelspec": {
      "display_name": "Python 3",
      "language": "python",
      "name": "python3"
    },
    "language_info": {
      "codemirror_mode": {
        "name": "ipython",
        "version": 3
      },
      "file_extension": ".py",
      "mimetype": "text/x-python",
      "name": "python",
      "nbconvert_exporter": "python",
      "pygments_lexer": "ipython3",
      "version": "3.8.5"
    }
  },
  "nbformat": 4,
  "nbformat_minor": 0
}