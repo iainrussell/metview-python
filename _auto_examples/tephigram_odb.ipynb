{
  "cells": [
    {
      "cell_type": "code",
      "execution_count": null,
      "metadata": {
        "collapsed": false
      },
      "outputs": [],
      "source": [
        "%matplotlib inline"
      ]
    },
    {
      "cell_type": "markdown",
      "metadata": {},
      "source": [
        "\nTephigram from ODB\n==============================================\n"
      ]
    },
    {
      "cell_type": "code",
      "execution_count": null,
      "metadata": {
        "collapsed": false
      },
      "outputs": [],
      "source": [
        "# (C) Copyright 2017- ECMWF.\n#\n# This software is licensed under the terms of the Apache Licence Version 2.0\n# which can be obtained at http://www.apache.org/licenses/LICENSE-2.0.\n#\n# In applying this licence, ECMWF does not waive the privileges and immunities\n# granted to it by virtue of its status as an intergovernmental organisation\n# nor does it submit to any jurisdiction.\n#\n\nimport metview as mv\n\n# station id\nstatid = \"40417\"\n\n# read db\ndb = mv.read(\"temp.odb\")\n\n# run queries to get profile data\nf_t = mv.odb_filter(\n    odb_query=\"\"\"select obsvalue, vertco_reference_1 \n\t                   where varno=2 and statid='{}'\"\"\".format(\n        statid\n    ),\n    odb_data=db,\n)\n\nf_q = mv.odb_filter(\n    odb_query=\"\"\"select obsvalue, vertco_reference_1  \n\t                  where varno=7 and statid='{}'\"\"\".format(\n        statid\n    ),\n    odb_data=db,\n)\n\nf_u = mv.odb_filter(\n    odb_query=\"\"\"select obsvalue, vertco_reference_1 \n\t                  where varno=3 and statid='{}'\"\"\".format(\n        statid\n    ),\n    odb_data=db,\n)\n\nf_v = mv.odb_filter(\n    odb_query=\"\"\"select obsvalue, vertco_reference_1 \n\t                  where varno=4 and statid='{}'\"\"\".format(\n        statid\n    ),\n    odb_data=db,\n)\n\n# define query for metadata\nf_meta = mv.odb_filter(\n    odb_query=\"\"\"select lat@hdr as lat, lon@hdr as lon, \n     andate, antime where statid='{}'\"\"\".format(\n        statid\n    ),\n    odb_data=db,\n)\n\n# load temperature and humidity profiles into vectors\nt = mv.values(f_t, \"obsvalue@body\")\np_t = mv.values(f_t, \"vertco_reference_1@body\")\nq = mv.values(f_q, \"obsvalue@body\")\np_q = mv.values(f_q, \"vertco_reference_1@body\")\n\n# compute dewpoint from specific humidity (q)\ntd = mv.dewpoint_from_specific_humidity(q, p_q)\n\n# scale data for visualisation\nt = t - 273.16\ntd = td - 273.16\np_t = p_t / 100\np_q = p_q / 100\n\n# define t curve\nt_vis = mv.xy_curve(t, p_t, \"red\", \"solid\", 8)\n\n# define td curve\ntd_vis = mv.xy_curve(td, p_q, \"red\", \"dash\", 6)\n\n# load wind profiles into vectors\nu = mv.values(f_u, \"obsvalue@body\")\np = mv.values(f_u, \"vertco_reference_1@body\")\nv = mv.values(f_v, \"obsvalue@body\")\n\n# define wind x position in tephigram\nwind_x_pos = [1010 for i in u]\n\n# define wind visualisation\nwp = mv.mwind(wind_field_type=\"flags\", wind_flag_colour=\"evergreen\")\n\nwind_vis = mv.input_visualiser(\n    input_plot_type=\"xy_vectors\",\n    input_x_values=wind_x_pos,\n    input_y_values=p / 100,\n    input_x_component_values=u,\n    input_y_component_values=v,\n)\n\n\n# define the title\ndd = mv.values(f_meta, \"andate\")[1]\ntt = mv.values(f_meta, \"antime\")[1]\n\ntitle = mv.mtext(\n    text_line_1=\"TEMP sounding date={} time={} station={}\".format(dd, tt, statid),\n    text_font_size=0.4,\n)\n\n# define the view\nview = mv.cartesianview(map_projection=\"tephigram\", y_automatic_reverse=\"on\")\n\n# define the output plot file\nmv.setoutput(mv.pdf_output(output_name=\"tephigram_odb\"))\n\n# generate plot\nmv.plot(view, t_vis, td_vis, wind_vis, wp, title)"
      ]
    }
  ],
  "metadata": {
    "kernelspec": {
      "display_name": "Python 3",
      "language": "python",
      "name": "python3"
    },
    "language_info": {
      "codemirror_mode": {
        "name": "ipython",
        "version": 3
      },
      "file_extension": ".py",
      "mimetype": "text/x-python",
      "name": "python",
      "nbconvert_exporter": "python",
      "pygments_lexer": "ipython3",
      "version": "3.8.5"
    }
  },
  "nbformat": 4,
  "nbformat_minor": 0
}