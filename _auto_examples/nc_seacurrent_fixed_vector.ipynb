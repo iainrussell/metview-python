{
  "cells": [
    {
      "cell_type": "code",
      "execution_count": null,
      "metadata": {
        "collapsed": false
      },
      "outputs": [],
      "source": [
        "%matplotlib inline"
      ]
    },
    {
      "cell_type": "markdown",
      "metadata": {},
      "source": [
        "\nNetCDF Sea Currents with Fix-sized Vectors\n==============================================\n"
      ]
    },
    {
      "cell_type": "code",
      "execution_count": null,
      "metadata": {
        "collapsed": false
      },
      "outputs": [],
      "source": [
        "# (C) Copyright 2017- ECMWF.\n#\n# This software is licensed under the terms of the Apache Licence Version 2.0\n# which can be obtained at http://www.apache.org/licenses/LICENSE-2.0.\n#\n# In applying this licence, ECMWF does not waive the privileges and immunities\n# granted to it by virtue of its status as an intergovernmental organisation\n# nor does it submit to any jurisdiction.\n#\n\nimport metview as mv\n\n# read NetCDF file with gridded data over the Mediterranean Sea\nnc = mv.read(\"sea_current.nc\")\n\n# this NetCDF data has the following structure:\n\n# dimensions:\n# \ttime = 1 ;\n# \tlatitude = 128 ;\n# \tlongitude = 344 ;\n# \tnv = 2 ;\n# variables:\n#   float time(time) ;\n# \tfloat latitude(latitude) ;\n# \tfloat longitude(longitude) ;\n#   int ugos(time, latitude, longitude) ;\n# \t\tugos:long_name = \"Absolute geostrophic velocity: zonal component\" ;\n# \tint vgos(time, latitude, longitude) ;\n# \t\tvgos:long_name = \"Absolute geostrophic velocity: meridian component\" ;\n\n\n# define netcdf plotting based on the data structure above\nvis = mv.netcdf_visualiser(\n    netcdf_plot_type=\"geo_matrix_vectors\",\n    netcdf_latitude_variable=\"latitude\",\n    netcdf_longitude_variable=\"longitude\",\n    netcdf_x_component_variable=\"ugos\",\n    netcdf_y_component_variable=\"vgos\",\n    netcdf_data=nc,\n)\n\n# define vector plotting using fix-sized arrow\nvector_plotting = mv.mwind(\n    wind_thinning_factor=1,\n    legend=\"on\",\n    wind_advanced_method=\"on\",\n    wind_advanced_colour_max_value=0.5,\n    wind_advanced_colour_min_value=0,\n    wind_advanced_colour_max_level_colour=\"RGB(1,0.003922,0.9668)\",\n    wind_advanced_colour_min_level_colour=\"RGB(0.7359,0.7584,0.8484)\",\n    wind_arrow_calm_indicator=\"on\",\n    wind_arrow_calm_below=0.01,\n    wind_arrow_colour=\"RGB(0.5124,0.5124,0.8366)\",\n    wind_arrow_head_shape=1,\n    wind_arrow_head_ratio=1,\n    wind_arrow_fixed_velocity=1,\n    wind_arrow_thickness=2,\n    wind_arrow_unit_velocity=2.6,\n)\n\n\n# define coastlines\ncoastlines = mv.mcoast(\n    map_coastline_colour=\"RGB(0.3628,0.3557,0.5698)\",\n    map_coastline_land_shade=\"on\",\n    map_coastline_land_shade_colour=\"RGB(0.4119,0.4173,0.4352)\",\n    map_coastline_sea_shade=\"on\",\n    map_coastline_sea_shade_colour=\"RGB(0.95,0.95,0.95)\",\n    map_boundaries=\"on\",\n    map_boundaries_colour=\"RGB(0.8809,0.5136,0.1701)\",\n    map_boundaries_thickness=2,\n    map_grid_colour=\"charcoal\",\n    map_grid_latitude_increment=2,\n    map_grid_longitude_increment=2,\n)\n\n\n# define map view\nview = mv.geoview(\n    map_area_definition=\"corners\", area=[41, 5.8, 44.68, 11.32], coastlines=coastlines\n)\n\n# define title\ntitle = mv.mtext(text_font_size=0.4)\n\n# define legend\nlegend = mv.mlegend(legend_text_font_size=0.25)\n\n# define output\nmv.setoutput(mv.pdf_output(output_name=\"nc_seacurrent_fixed_vector\"))\n\n# generate plot\nmv.plot(view, vis, vector_plotting, legend, title)"
      ]
    }
  ],
  "metadata": {
    "kernelspec": {
      "display_name": "Python 3",
      "language": "python",
      "name": "python3"
    },
    "language_info": {
      "codemirror_mode": {
        "name": "ipython",
        "version": 3
      },
      "file_extension": ".py",
      "mimetype": "text/x-python",
      "name": "python",
      "nbconvert_exporter": "python",
      "pygments_lexer": "ipython3",
      "version": "3.8.5"
    }
  },
  "nbformat": 4,
  "nbformat_minor": 0
}