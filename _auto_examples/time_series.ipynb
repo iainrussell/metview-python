{
  "cells": [
    {
      "cell_type": "code",
      "execution_count": null,
      "metadata": {
        "collapsed": false
      },
      "outputs": [],
      "source": [
        "%matplotlib inline"
      ]
    },
    {
      "cell_type": "markdown",
      "metadata": {},
      "source": [
        "\nTime Series from GRIB\n==============================================\n"
      ]
    },
    {
      "cell_type": "code",
      "execution_count": null,
      "metadata": {
        "collapsed": false
      },
      "outputs": [],
      "source": [
        "# (C) Copyright 2017- ECMWF.\n#\n# This software is licensed under the terms of the Apache Licence Version 2.0\n# which can be obtained at http://www.apache.org/licenses/LICENSE-2.0.\n#\n# In applying this licence, ECMWF does not waive the privileges and immunities\n# granted to it by virtue of its status as an intergovernmental organisation\n# nor does it submit to any jurisdiction.\n#\n\nimport metview as mv\n\n# read a set of t2m and t2d forecast steps from a GRIB file\nboth_t = mv.read(\"t2m_td.grib\")\n\n# filter the t2m and dewpoint t into separate fieldsets (and K->C)\nt2m = mv.read(data=both_t, param=\"2t\") - 273.15\nt2d = mv.read(data=both_t, param=\"2d\") - 273.15\n\n# for each temperature type, get the integral over an area\n# - returns a list of numbers, one for each field\narea = [75, -12.5, 35, 42.5]  # N,W,S,E\nt2m_int = mv.integrate(t2m, area)\nt2d_int = mv.integrate(t2d, area)\nprint(\"t2m integrals: \", t2m_int)\nprint(\"t2d integrals: \", t2d_int)\n\n# get the valid times for each field\ntimes_t2m = mv.valid_date(t2m)\ntimes_t2d = mv.valid_date(t2d)\n\n# set up the Cartesian view to plot into\n# including customised axes so that we can change the size\n# of the labels and add titles\nhaxis = mv.maxis(\n    axis_type=\"date\",\n    axis_years_label_height=0.45,\n    axis_months_label_height=0.45,\n    axis_days_label_height=0.45,\n)\n\nvaxis = mv.maxis(axis_title_text=\"Temperature, K\", axis_title_height=0.5)\n\nts_view = mv.cartesianview(\n    x_automatic=\"on\",\n    x_axis_type=\"date\",\n    y_automatic=\"on\",\n    horizontal_axis=haxis,\n    vertical_axis=vaxis,\n)\n\n# create the curves for both parameters\ncurve_2t = mv.input_visualiser(\n    input_x_type=\"date\", input_date_x_values=times_t2m, input_y_values=t2m_int\n)\n\ncurve_2d = mv.input_visualiser(\n    input_x_type=\"date\", input_date_x_values=times_t2d, input_y_values=t2d_int\n)\n\n# set up visual styling for each curve\ncommon_graph = {\"graph_line_thickness\": 2, \"legend\": \"on\"}\ngraph_2t = mv.mgraph(common_graph, graph_line_colour=\"black\", legend_user_text=\"t2m\")\ngraph_2d = mv.mgraph(common_graph, graph_line_colour=\"red\", legend_user_text=\"t2d\")\n\n# customise the legend\nlegend = mv.mlegend(legend_display_type=\"disjoint\", legend_text_font_size=0.5)\n\n# define the output plot file\nmv.setoutput(mv.pdf_output(output_name=\"time_series\"))\n\n# plot everything into the Cartesian view\nmv.plot(ts_view, curve_2t, graph_2t, curve_2d, graph_2d, legend)"
      ]
    }
  ],
  "metadata": {
    "kernelspec": {
      "display_name": "Python 3",
      "language": "python",
      "name": "python3"
    },
    "language_info": {
      "codemirror_mode": {
        "name": "ipython",
        "version": 3
      },
      "file_extension": ".py",
      "mimetype": "text/x-python",
      "name": "python",
      "nbconvert_exporter": "python",
      "pygments_lexer": "ipython3",
      "version": "3.8.5"
    }
  },
  "nbformat": 4,
  "nbformat_minor": 0
}