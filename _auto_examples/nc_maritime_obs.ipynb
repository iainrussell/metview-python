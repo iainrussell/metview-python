{
  "cells": [
    {
      "cell_type": "code",
      "execution_count": null,
      "metadata": {
        "collapsed": false
      },
      "outputs": [],
      "source": [
        "%matplotlib inline"
      ]
    },
    {
      "cell_type": "markdown",
      "metadata": {},
      "source": [
        "\nNetCDF Marine Observations\n==============================================\n"
      ]
    },
    {
      "cell_type": "code",
      "execution_count": null,
      "metadata": {
        "collapsed": false
      },
      "outputs": [],
      "source": [
        "# (C) Copyright 2017- ECMWF.\n#\n# This software is licensed under the terms of the Apache Licence Version 2.0\n# which can be obtained at http://www.apache.org/licenses/LICENSE-2.0.\n#\n# In applying this licence, ECMWF does not waive the privileges and immunities\n# granted to it by virtue of its status as an intergovernmental organisation\n# nor does it submit to any jurisdiction.\n#\n\nimport metview as mv\n\n# read maritime observations\n# data available at: https://www.unidata.ucar.edu/software/netcdf/examples/files.html\nnc = mv.read(\"madis-maritime.nc\")\n\n# This netCDF has the following structure:\n#\n# dimensions:\n# \t...\n# \trecNum = UNLIMITED ; // (405 currently\n# variables:\n#   float latitude(recNum) ;\n# \tfloat longitude(recNum) ;\n#   float temperature(recNum) ;\n# \t\ttemperature:long_name = \"temperature\" ;\n# \t\ttemperature:units = \"kelvin\" ;\n\n# convert the temperature variable from K -> C\n# store the result in a new netCDF object\nmv.setcurrent(nc, \"temperature\")\nnc_t = nc - 273.16\n\n# define netcdf plotting\nvis = mv.netcdf_visualiser(\n    netcdf_plot_type=\"geo_points\",\n    netcdf_latitude_variable=\"latitude\",\n    netcdf_longitude_variable=\"longitude\",\n    netcdf_value_variable=\"temperature\",\n    netcdf_data=nc_t,\n)\n\n# define symbol plotting\nsym = mv.msymb(\n    legend=\"on\",\n    symbol_type=\"marker\",\n    symbol_table_mode=\"advanced\",\n    symbol_outline=\"on\",\n    symbol_advanced_table_min_value=0,\n    symbol_advanced_table_max_value=28,\n    symbol_advanced_table_level_count=14,\n    symbol_advanced_table_max_level_colour=\"red\",\n    symbol_advanced_table_min_level_colour=\"greenish_blue\",\n    symbol_advanced_table_colour_direction=\"clockwise\",\n    symbol_advanced_table_marker_list=15,\n    symbol_advanced_table_height_list=0.6,\n)\n\n# define coastlines\ncoastlines = mv.mcoast(\n    map_coastline_land_shade=\"on\",\n    map_coastline_land_shade_colour=\"RGB(0.7188,0.6798,0.6381)'\",\n    map_coastline_sea_shade=\"on\",\n    map_coastline_sea_shade_colour=\"RGB(0.9002,0.9147,0.9351)\",\n    map_boundaries=\"on\",\n    map_boundaries_colour=\"mustard\",\n    map_boundaries_thickness=2,\n    map_grid_colour=\"RGB(0.337,0.314,0.314)\",\n)\n\n# define geographical view\nview = mv.geoview(\n    map_projection=\"polar_stereographic\",\n    map_area_definition=\"corners\",\n    area=[4.01, -126.23, 42.52, -22.9],\n    map_vertical_longitude=-100,\n    coastlines=coastlines,\n)\n\n# define legend\nlegend = mv.mlegend(legend_text_font_size=0.3)\n\n# define title - get date from the netCDF metadata\ntitle = mv.mtext(\n    text_lines=[\"Temperature [C] - \" + mv.global_attributes(nc_t).get(\"cdlDate\")],\n    text_font_size=0.4,\n)\n\n# define output\nmv.setoutput(mv.pdf_output(output_name=\"nc_maritime_obs\"))\n\n# generate plot\nmv.plot(view, vis, sym, legend, title)"
      ]
    }
  ],
  "metadata": {
    "kernelspec": {
      "display_name": "Python 3",
      "language": "python",
      "name": "python3"
    },
    "language_info": {
      "codemirror_mode": {
        "name": "ipython",
        "version": 3
      },
      "file_extension": ".py",
      "mimetype": "text/x-python",
      "name": "python",
      "nbconvert_exporter": "python",
      "pygments_lexer": "ipython3",
      "version": "3.8.5"
    }
  },
  "nbformat": 4,
  "nbformat_minor": 0
}